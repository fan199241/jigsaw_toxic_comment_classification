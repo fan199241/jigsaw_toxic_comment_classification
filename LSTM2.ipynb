{
 "cells": [
  {
   "cell_type": "code",
   "execution_count": 1,
   "metadata": {
    "_cell_guid": "b1076dfc-b9ad-4769-8c92-a6c4dae69d19",
    "_uuid": "8f2839f25d086af736a60e9eeb907d3b93b6e0e5"
   },
   "outputs": [
    {
     "name": "stdout",
     "output_type": "stream",
     "text": [
      "/kaggle/input/jigsaw-toxic-comment-classification-challenge/test.csv\n",
      "/kaggle/input/jigsaw-toxic-comment-classification-challenge/train.csv\n",
      "/kaggle/input/jigsaw-toxic-comment-classification-challenge/test_labels.csv\n",
      "/kaggle/input/jigsaw-toxic-comment-classification-challenge/sample_submission.csv\n"
     ]
    }
   ],
   "source": [
    "# This Python 3 environment comes with many helpful analytics libraries installed\n",
    "# It is defined by the kaggle/python docker image: https://github.com/kaggle/docker-python\n",
    "# For example, here's several helpful packages to load in \n",
    "\n",
    "import numpy as np # linear algebra\n",
    "import pandas as pd # data processing, CSV file I/O (e.g. pd.read_csv)\n",
    "\n",
    "# Input data files are available in the \"../input/\" directory.\n",
    "# For example, running this (by clicking run or pressing Shift+Enter) will list all files under the input directory\n",
    "\n",
    "import os\n",
    "for dirname, _, filenames in os.walk('/kaggle/input'):\n",
    "    for filename in filenames:\n",
    "        print(os.path.join(dirname, filename))\n",
    "\n",
    "# Any results you write to the current directory are saved as output."
   ]
  },
  {
   "cell_type": "code",
   "execution_count": 2,
   "metadata": {
    "_cell_guid": "79c7e3d0-c299-4dcb-8224-4455121ee9b0",
    "_uuid": "d629ff2d2480ee46fbb7e2d37f6b5fab8052498a"
   },
   "outputs": [],
   "source": [
    "import pandas as pd\n",
    "import numpy as np\n",
    "import matplotlib.pyplot as plt\n",
    "import seaborn as sns\n",
    "import re"
   ]
  },
  {
   "cell_type": "code",
   "execution_count": 3,
   "metadata": {},
   "outputs": [],
   "source": [
    "# read file\n",
    "train = pd.read_csv('train.csv')\n",
    "test = pd.read_csv('test.csv')\n",
    "submission = pd.read_csv('sample_submission.csv')"
   ]
  },
  {
   "cell_type": "code",
   "execution_count": 4,
   "metadata": {},
   "outputs": [
    {
     "data": {
      "text/html": [
       "<div>\n",
       "<style scoped>\n",
       "    .dataframe tbody tr th:only-of-type {\n",
       "        vertical-align: middle;\n",
       "    }\n",
       "\n",
       "    .dataframe tbody tr th {\n",
       "        vertical-align: top;\n",
       "    }\n",
       "\n",
       "    .dataframe thead th {\n",
       "        text-align: right;\n",
       "    }\n",
       "</style>\n",
       "<table border=\"1\" class=\"dataframe\">\n",
       "  <thead>\n",
       "    <tr style=\"text-align: right;\">\n",
       "      <th></th>\n",
       "      <th>id</th>\n",
       "      <th>comment_text</th>\n",
       "      <th>toxic</th>\n",
       "      <th>severe_toxic</th>\n",
       "      <th>obscene</th>\n",
       "      <th>threat</th>\n",
       "      <th>insult</th>\n",
       "      <th>identity_hate</th>\n",
       "    </tr>\n",
       "  </thead>\n",
       "  <tbody>\n",
       "    <tr>\n",
       "      <td>0</td>\n",
       "      <td>0000997932d777bf</td>\n",
       "      <td>Explanation\\nWhy the edits made under my usern...</td>\n",
       "      <td>0</td>\n",
       "      <td>0</td>\n",
       "      <td>0</td>\n",
       "      <td>0</td>\n",
       "      <td>0</td>\n",
       "      <td>0</td>\n",
       "    </tr>\n",
       "    <tr>\n",
       "      <td>1</td>\n",
       "      <td>000103f0d9cfb60f</td>\n",
       "      <td>D'aww! He matches this background colour I'm s...</td>\n",
       "      <td>0</td>\n",
       "      <td>0</td>\n",
       "      <td>0</td>\n",
       "      <td>0</td>\n",
       "      <td>0</td>\n",
       "      <td>0</td>\n",
       "    </tr>\n",
       "    <tr>\n",
       "      <td>2</td>\n",
       "      <td>000113f07ec002fd</td>\n",
       "      <td>Hey man, I'm really not trying to edit war. It...</td>\n",
       "      <td>0</td>\n",
       "      <td>0</td>\n",
       "      <td>0</td>\n",
       "      <td>0</td>\n",
       "      <td>0</td>\n",
       "      <td>0</td>\n",
       "    </tr>\n",
       "    <tr>\n",
       "      <td>3</td>\n",
       "      <td>0001b41b1c6bb37e</td>\n",
       "      <td>\"\\nMore\\nI can't make any real suggestions on ...</td>\n",
       "      <td>0</td>\n",
       "      <td>0</td>\n",
       "      <td>0</td>\n",
       "      <td>0</td>\n",
       "      <td>0</td>\n",
       "      <td>0</td>\n",
       "    </tr>\n",
       "    <tr>\n",
       "      <td>4</td>\n",
       "      <td>0001d958c54c6e35</td>\n",
       "      <td>You, sir, are my hero. Any chance you remember...</td>\n",
       "      <td>0</td>\n",
       "      <td>0</td>\n",
       "      <td>0</td>\n",
       "      <td>0</td>\n",
       "      <td>0</td>\n",
       "      <td>0</td>\n",
       "    </tr>\n",
       "    <tr>\n",
       "      <td>5</td>\n",
       "      <td>00025465d4725e87</td>\n",
       "      <td>\"\\n\\nCongratulations from me as well, use the ...</td>\n",
       "      <td>0</td>\n",
       "      <td>0</td>\n",
       "      <td>0</td>\n",
       "      <td>0</td>\n",
       "      <td>0</td>\n",
       "      <td>0</td>\n",
       "    </tr>\n",
       "    <tr>\n",
       "      <td>6</td>\n",
       "      <td>0002bcb3da6cb337</td>\n",
       "      <td>COCKSUCKER BEFORE YOU PISS AROUND ON MY WORK</td>\n",
       "      <td>1</td>\n",
       "      <td>1</td>\n",
       "      <td>1</td>\n",
       "      <td>0</td>\n",
       "      <td>1</td>\n",
       "      <td>0</td>\n",
       "    </tr>\n",
       "    <tr>\n",
       "      <td>7</td>\n",
       "      <td>00031b1e95af7921</td>\n",
       "      <td>Your vandalism to the Matt Shirvington article...</td>\n",
       "      <td>0</td>\n",
       "      <td>0</td>\n",
       "      <td>0</td>\n",
       "      <td>0</td>\n",
       "      <td>0</td>\n",
       "      <td>0</td>\n",
       "    </tr>\n",
       "    <tr>\n",
       "      <td>8</td>\n",
       "      <td>00037261f536c51d</td>\n",
       "      <td>Sorry if the word 'nonsense' was offensive to ...</td>\n",
       "      <td>0</td>\n",
       "      <td>0</td>\n",
       "      <td>0</td>\n",
       "      <td>0</td>\n",
       "      <td>0</td>\n",
       "      <td>0</td>\n",
       "    </tr>\n",
       "    <tr>\n",
       "      <td>9</td>\n",
       "      <td>00040093b2687caa</td>\n",
       "      <td>alignment on this subject and which are contra...</td>\n",
       "      <td>0</td>\n",
       "      <td>0</td>\n",
       "      <td>0</td>\n",
       "      <td>0</td>\n",
       "      <td>0</td>\n",
       "      <td>0</td>\n",
       "    </tr>\n",
       "    <tr>\n",
       "      <td>10</td>\n",
       "      <td>0005300084f90edc</td>\n",
       "      <td>\"\\nFair use rationale for Image:Wonju.jpg\\n\\nT...</td>\n",
       "      <td>0</td>\n",
       "      <td>0</td>\n",
       "      <td>0</td>\n",
       "      <td>0</td>\n",
       "      <td>0</td>\n",
       "      <td>0</td>\n",
       "    </tr>\n",
       "    <tr>\n",
       "      <td>11</td>\n",
       "      <td>00054a5e18b50dd4</td>\n",
       "      <td>bbq \\n\\nbe a man and lets discuss it-maybe ove...</td>\n",
       "      <td>0</td>\n",
       "      <td>0</td>\n",
       "      <td>0</td>\n",
       "      <td>0</td>\n",
       "      <td>0</td>\n",
       "      <td>0</td>\n",
       "    </tr>\n",
       "    <tr>\n",
       "      <td>12</td>\n",
       "      <td>0005c987bdfc9d4b</td>\n",
       "      <td>Hey... what is it..\\n@ | talk .\\nWhat is it......</td>\n",
       "      <td>1</td>\n",
       "      <td>0</td>\n",
       "      <td>0</td>\n",
       "      <td>0</td>\n",
       "      <td>0</td>\n",
       "      <td>0</td>\n",
       "    </tr>\n",
       "    <tr>\n",
       "      <td>13</td>\n",
       "      <td>0006f16e4e9f292e</td>\n",
       "      <td>Before you start throwing accusations and warn...</td>\n",
       "      <td>0</td>\n",
       "      <td>0</td>\n",
       "      <td>0</td>\n",
       "      <td>0</td>\n",
       "      <td>0</td>\n",
       "      <td>0</td>\n",
       "    </tr>\n",
       "    <tr>\n",
       "      <td>14</td>\n",
       "      <td>00070ef96486d6f9</td>\n",
       "      <td>Oh, and the girl above started her arguments w...</td>\n",
       "      <td>0</td>\n",
       "      <td>0</td>\n",
       "      <td>0</td>\n",
       "      <td>0</td>\n",
       "      <td>0</td>\n",
       "      <td>0</td>\n",
       "    </tr>\n",
       "    <tr>\n",
       "      <td>15</td>\n",
       "      <td>00078f8ce7eb276d</td>\n",
       "      <td>\"\\n\\nJuelz Santanas Age\\n\\nIn 2002, Juelz Sant...</td>\n",
       "      <td>0</td>\n",
       "      <td>0</td>\n",
       "      <td>0</td>\n",
       "      <td>0</td>\n",
       "      <td>0</td>\n",
       "      <td>0</td>\n",
       "    </tr>\n",
       "    <tr>\n",
       "      <td>16</td>\n",
       "      <td>0007e25b2121310b</td>\n",
       "      <td>Bye! \\n\\nDon't look, come or think of comming ...</td>\n",
       "      <td>1</td>\n",
       "      <td>0</td>\n",
       "      <td>0</td>\n",
       "      <td>0</td>\n",
       "      <td>0</td>\n",
       "      <td>0</td>\n",
       "    </tr>\n",
       "    <tr>\n",
       "      <td>17</td>\n",
       "      <td>000897889268bc93</td>\n",
       "      <td>REDIRECT Talk:Voydan Pop Georgiev- Chernodrinski</td>\n",
       "      <td>0</td>\n",
       "      <td>0</td>\n",
       "      <td>0</td>\n",
       "      <td>0</td>\n",
       "      <td>0</td>\n",
       "      <td>0</td>\n",
       "    </tr>\n",
       "    <tr>\n",
       "      <td>18</td>\n",
       "      <td>0009801bd85e5806</td>\n",
       "      <td>The Mitsurugi point made no sense - why not ar...</td>\n",
       "      <td>0</td>\n",
       "      <td>0</td>\n",
       "      <td>0</td>\n",
       "      <td>0</td>\n",
       "      <td>0</td>\n",
       "      <td>0</td>\n",
       "    </tr>\n",
       "    <tr>\n",
       "      <td>19</td>\n",
       "      <td>0009eaea3325de8c</td>\n",
       "      <td>Don't mean to bother you \\n\\nI see that you're...</td>\n",
       "      <td>0</td>\n",
       "      <td>0</td>\n",
       "      <td>0</td>\n",
       "      <td>0</td>\n",
       "      <td>0</td>\n",
       "      <td>0</td>\n",
       "    </tr>\n",
       "  </tbody>\n",
       "</table>\n",
       "</div>"
      ],
      "text/plain": [
       "                  id                                       comment_text  \\\n",
       "0   0000997932d777bf  Explanation\\nWhy the edits made under my usern...   \n",
       "1   000103f0d9cfb60f  D'aww! He matches this background colour I'm s...   \n",
       "2   000113f07ec002fd  Hey man, I'm really not trying to edit war. It...   \n",
       "3   0001b41b1c6bb37e  \"\\nMore\\nI can't make any real suggestions on ...   \n",
       "4   0001d958c54c6e35  You, sir, are my hero. Any chance you remember...   \n",
       "5   00025465d4725e87  \"\\n\\nCongratulations from me as well, use the ...   \n",
       "6   0002bcb3da6cb337       COCKSUCKER BEFORE YOU PISS AROUND ON MY WORK   \n",
       "7   00031b1e95af7921  Your vandalism to the Matt Shirvington article...   \n",
       "8   00037261f536c51d  Sorry if the word 'nonsense' was offensive to ...   \n",
       "9   00040093b2687caa  alignment on this subject and which are contra...   \n",
       "10  0005300084f90edc  \"\\nFair use rationale for Image:Wonju.jpg\\n\\nT...   \n",
       "11  00054a5e18b50dd4  bbq \\n\\nbe a man and lets discuss it-maybe ove...   \n",
       "12  0005c987bdfc9d4b  Hey... what is it..\\n@ | talk .\\nWhat is it......   \n",
       "13  0006f16e4e9f292e  Before you start throwing accusations and warn...   \n",
       "14  00070ef96486d6f9  Oh, and the girl above started her arguments w...   \n",
       "15  00078f8ce7eb276d  \"\\n\\nJuelz Santanas Age\\n\\nIn 2002, Juelz Sant...   \n",
       "16  0007e25b2121310b  Bye! \\n\\nDon't look, come or think of comming ...   \n",
       "17  000897889268bc93   REDIRECT Talk:Voydan Pop Georgiev- Chernodrinski   \n",
       "18  0009801bd85e5806  The Mitsurugi point made no sense - why not ar...   \n",
       "19  0009eaea3325de8c  Don't mean to bother you \\n\\nI see that you're...   \n",
       "\n",
       "    toxic  severe_toxic  obscene  threat  insult  identity_hate  \n",
       "0       0             0        0       0       0              0  \n",
       "1       0             0        0       0       0              0  \n",
       "2       0             0        0       0       0              0  \n",
       "3       0             0        0       0       0              0  \n",
       "4       0             0        0       0       0              0  \n",
       "5       0             0        0       0       0              0  \n",
       "6       1             1        1       0       1              0  \n",
       "7       0             0        0       0       0              0  \n",
       "8       0             0        0       0       0              0  \n",
       "9       0             0        0       0       0              0  \n",
       "10      0             0        0       0       0              0  \n",
       "11      0             0        0       0       0              0  \n",
       "12      1             0        0       0       0              0  \n",
       "13      0             0        0       0       0              0  \n",
       "14      0             0        0       0       0              0  \n",
       "15      0             0        0       0       0              0  \n",
       "16      1             0        0       0       0              0  \n",
       "17      0             0        0       0       0              0  \n",
       "18      0             0        0       0       0              0  \n",
       "19      0             0        0       0       0              0  "
      ]
     },
     "execution_count": 4,
     "metadata": {},
     "output_type": "execute_result"
    }
   ],
   "source": [
    "train.head(20)"
   ]
  },
  {
   "cell_type": "code",
   "execution_count": 5,
   "metadata": {},
   "outputs": [
    {
     "data": {
      "text/plain": [
       "(159571, 8)"
      ]
     },
     "execution_count": 5,
     "metadata": {},
     "output_type": "execute_result"
    }
   ],
   "source": [
    "train.shape"
   ]
  },
  {
   "cell_type": "code",
   "execution_count": 6,
   "metadata": {},
   "outputs": [
    {
     "data": {
      "text/html": [
       "<div>\n",
       "<style scoped>\n",
       "    .dataframe tbody tr th:only-of-type {\n",
       "        vertical-align: middle;\n",
       "    }\n",
       "\n",
       "    .dataframe tbody tr th {\n",
       "        vertical-align: top;\n",
       "    }\n",
       "\n",
       "    .dataframe thead th {\n",
       "        text-align: right;\n",
       "    }\n",
       "</style>\n",
       "<table border=\"1\" class=\"dataframe\">\n",
       "  <thead>\n",
       "    <tr style=\"text-align: right;\">\n",
       "      <th></th>\n",
       "      <th>id</th>\n",
       "      <th>comment_text</th>\n",
       "    </tr>\n",
       "  </thead>\n",
       "  <tbody>\n",
       "    <tr>\n",
       "      <td>0</td>\n",
       "      <td>00001cee341fdb12</td>\n",
       "      <td>Yo bitch Ja Rule is more succesful then you'll...</td>\n",
       "    </tr>\n",
       "    <tr>\n",
       "      <td>1</td>\n",
       "      <td>0000247867823ef7</td>\n",
       "      <td>== From RfC == \\n\\n The title is fine as it is...</td>\n",
       "    </tr>\n",
       "    <tr>\n",
       "      <td>2</td>\n",
       "      <td>00013b17ad220c46</td>\n",
       "      <td>\" \\n\\n == Sources == \\n\\n * Zawe Ashton on Lap...</td>\n",
       "    </tr>\n",
       "    <tr>\n",
       "      <td>3</td>\n",
       "      <td>00017563c3f7919a</td>\n",
       "      <td>:If you have a look back at the source, the in...</td>\n",
       "    </tr>\n",
       "    <tr>\n",
       "      <td>4</td>\n",
       "      <td>00017695ad8997eb</td>\n",
       "      <td>I don't anonymously edit articles at all.</td>\n",
       "    </tr>\n",
       "  </tbody>\n",
       "</table>\n",
       "</div>"
      ],
      "text/plain": [
       "                 id                                       comment_text\n",
       "0  00001cee341fdb12  Yo bitch Ja Rule is more succesful then you'll...\n",
       "1  0000247867823ef7  == From RfC == \\n\\n The title is fine as it is...\n",
       "2  00013b17ad220c46  \" \\n\\n == Sources == \\n\\n * Zawe Ashton on Lap...\n",
       "3  00017563c3f7919a  :If you have a look back at the source, the in...\n",
       "4  00017695ad8997eb          I don't anonymously edit articles at all."
      ]
     },
     "execution_count": 6,
     "metadata": {},
     "output_type": "execute_result"
    }
   ],
   "source": [
    "test.head()"
   ]
  },
  {
   "cell_type": "code",
   "execution_count": 7,
   "metadata": {},
   "outputs": [
    {
     "data": {
      "text/plain": [
       "(153164, 2)"
      ]
     },
     "execution_count": 7,
     "metadata": {},
     "output_type": "execute_result"
    }
   ],
   "source": [
    "test.shape"
   ]
  },
  {
   "cell_type": "code",
   "execution_count": 8,
   "metadata": {},
   "outputs": [
    {
     "data": {
      "text/plain": [
       "id               0\n",
       "comment_text     0\n",
       "toxic            0\n",
       "severe_toxic     0\n",
       "obscene          0\n",
       "threat           0\n",
       "insult           0\n",
       "identity_hate    0\n",
       "dtype: int64"
      ]
     },
     "execution_count": 8,
     "metadata": {},
     "output_type": "execute_result"
    }
   ],
   "source": [
    "# check missing values\n",
    "train.isnull().sum()"
   ]
  },
  {
   "cell_type": "code",
   "execution_count": 9,
   "metadata": {},
   "outputs": [
    {
     "data": {
      "text/plain": [
       "id              0\n",
       "comment_text    0\n",
       "dtype: int64"
      ]
     },
     "execution_count": 9,
     "metadata": {},
     "output_type": "execute_result"
    }
   ],
   "source": [
    "test.isnull().sum()"
   ]
  },
  {
   "cell_type": "code",
   "execution_count": 10,
   "metadata": {},
   "outputs": [
    {
     "data": {
      "text/html": [
       "<div>\n",
       "<style scoped>\n",
       "    .dataframe tbody tr th:only-of-type {\n",
       "        vertical-align: middle;\n",
       "    }\n",
       "\n",
       "    .dataframe tbody tr th {\n",
       "        vertical-align: top;\n",
       "    }\n",
       "\n",
       "    .dataframe thead th {\n",
       "        text-align: right;\n",
       "    }\n",
       "</style>\n",
       "<table border=\"1\" class=\"dataframe\">\n",
       "  <thead>\n",
       "    <tr style=\"text-align: right;\">\n",
       "      <th></th>\n",
       "      <th>id</th>\n",
       "      <th>comment_text</th>\n",
       "      <th>toxic</th>\n",
       "      <th>severe_toxic</th>\n",
       "      <th>obscene</th>\n",
       "      <th>threat</th>\n",
       "      <th>insult</th>\n",
       "      <th>identity_hate</th>\n",
       "      <th>clean</th>\n",
       "    </tr>\n",
       "  </thead>\n",
       "  <tbody>\n",
       "    <tr>\n",
       "      <td>0</td>\n",
       "      <td>0000997932d777bf</td>\n",
       "      <td>Explanation\\nWhy the edits made under my usern...</td>\n",
       "      <td>0</td>\n",
       "      <td>0</td>\n",
       "      <td>0</td>\n",
       "      <td>0</td>\n",
       "      <td>0</td>\n",
       "      <td>0</td>\n",
       "      <td>1</td>\n",
       "    </tr>\n",
       "    <tr>\n",
       "      <td>1</td>\n",
       "      <td>000103f0d9cfb60f</td>\n",
       "      <td>D'aww! He matches this background colour I'm s...</td>\n",
       "      <td>0</td>\n",
       "      <td>0</td>\n",
       "      <td>0</td>\n",
       "      <td>0</td>\n",
       "      <td>0</td>\n",
       "      <td>0</td>\n",
       "      <td>1</td>\n",
       "    </tr>\n",
       "    <tr>\n",
       "      <td>2</td>\n",
       "      <td>000113f07ec002fd</td>\n",
       "      <td>Hey man, I'm really not trying to edit war. It...</td>\n",
       "      <td>0</td>\n",
       "      <td>0</td>\n",
       "      <td>0</td>\n",
       "      <td>0</td>\n",
       "      <td>0</td>\n",
       "      <td>0</td>\n",
       "      <td>1</td>\n",
       "    </tr>\n",
       "    <tr>\n",
       "      <td>3</td>\n",
       "      <td>0001b41b1c6bb37e</td>\n",
       "      <td>\"\\nMore\\nI can't make any real suggestions on ...</td>\n",
       "      <td>0</td>\n",
       "      <td>0</td>\n",
       "      <td>0</td>\n",
       "      <td>0</td>\n",
       "      <td>0</td>\n",
       "      <td>0</td>\n",
       "      <td>1</td>\n",
       "    </tr>\n",
       "    <tr>\n",
       "      <td>4</td>\n",
       "      <td>0001d958c54c6e35</td>\n",
       "      <td>You, sir, are my hero. Any chance you remember...</td>\n",
       "      <td>0</td>\n",
       "      <td>0</td>\n",
       "      <td>0</td>\n",
       "      <td>0</td>\n",
       "      <td>0</td>\n",
       "      <td>0</td>\n",
       "      <td>1</td>\n",
       "    </tr>\n",
       "    <tr>\n",
       "      <td>5</td>\n",
       "      <td>00025465d4725e87</td>\n",
       "      <td>\"\\n\\nCongratulations from me as well, use the ...</td>\n",
       "      <td>0</td>\n",
       "      <td>0</td>\n",
       "      <td>0</td>\n",
       "      <td>0</td>\n",
       "      <td>0</td>\n",
       "      <td>0</td>\n",
       "      <td>1</td>\n",
       "    </tr>\n",
       "    <tr>\n",
       "      <td>6</td>\n",
       "      <td>0002bcb3da6cb337</td>\n",
       "      <td>COCKSUCKER BEFORE YOU PISS AROUND ON MY WORK</td>\n",
       "      <td>1</td>\n",
       "      <td>1</td>\n",
       "      <td>1</td>\n",
       "      <td>0</td>\n",
       "      <td>1</td>\n",
       "      <td>0</td>\n",
       "      <td>0</td>\n",
       "    </tr>\n",
       "    <tr>\n",
       "      <td>7</td>\n",
       "      <td>00031b1e95af7921</td>\n",
       "      <td>Your vandalism to the Matt Shirvington article...</td>\n",
       "      <td>0</td>\n",
       "      <td>0</td>\n",
       "      <td>0</td>\n",
       "      <td>0</td>\n",
       "      <td>0</td>\n",
       "      <td>0</td>\n",
       "      <td>1</td>\n",
       "    </tr>\n",
       "    <tr>\n",
       "      <td>8</td>\n",
       "      <td>00037261f536c51d</td>\n",
       "      <td>Sorry if the word 'nonsense' was offensive to ...</td>\n",
       "      <td>0</td>\n",
       "      <td>0</td>\n",
       "      <td>0</td>\n",
       "      <td>0</td>\n",
       "      <td>0</td>\n",
       "      <td>0</td>\n",
       "      <td>1</td>\n",
       "    </tr>\n",
       "    <tr>\n",
       "      <td>9</td>\n",
       "      <td>00040093b2687caa</td>\n",
       "      <td>alignment on this subject and which are contra...</td>\n",
       "      <td>0</td>\n",
       "      <td>0</td>\n",
       "      <td>0</td>\n",
       "      <td>0</td>\n",
       "      <td>0</td>\n",
       "      <td>0</td>\n",
       "      <td>1</td>\n",
       "    </tr>\n",
       "    <tr>\n",
       "      <td>10</td>\n",
       "      <td>0005300084f90edc</td>\n",
       "      <td>\"\\nFair use rationale for Image:Wonju.jpg\\n\\nT...</td>\n",
       "      <td>0</td>\n",
       "      <td>0</td>\n",
       "      <td>0</td>\n",
       "      <td>0</td>\n",
       "      <td>0</td>\n",
       "      <td>0</td>\n",
       "      <td>1</td>\n",
       "    </tr>\n",
       "    <tr>\n",
       "      <td>11</td>\n",
       "      <td>00054a5e18b50dd4</td>\n",
       "      <td>bbq \\n\\nbe a man and lets discuss it-maybe ove...</td>\n",
       "      <td>0</td>\n",
       "      <td>0</td>\n",
       "      <td>0</td>\n",
       "      <td>0</td>\n",
       "      <td>0</td>\n",
       "      <td>0</td>\n",
       "      <td>1</td>\n",
       "    </tr>\n",
       "    <tr>\n",
       "      <td>12</td>\n",
       "      <td>0005c987bdfc9d4b</td>\n",
       "      <td>Hey... what is it..\\n@ | talk .\\nWhat is it......</td>\n",
       "      <td>1</td>\n",
       "      <td>0</td>\n",
       "      <td>0</td>\n",
       "      <td>0</td>\n",
       "      <td>0</td>\n",
       "      <td>0</td>\n",
       "      <td>0</td>\n",
       "    </tr>\n",
       "    <tr>\n",
       "      <td>13</td>\n",
       "      <td>0006f16e4e9f292e</td>\n",
       "      <td>Before you start throwing accusations and warn...</td>\n",
       "      <td>0</td>\n",
       "      <td>0</td>\n",
       "      <td>0</td>\n",
       "      <td>0</td>\n",
       "      <td>0</td>\n",
       "      <td>0</td>\n",
       "      <td>1</td>\n",
       "    </tr>\n",
       "    <tr>\n",
       "      <td>14</td>\n",
       "      <td>00070ef96486d6f9</td>\n",
       "      <td>Oh, and the girl above started her arguments w...</td>\n",
       "      <td>0</td>\n",
       "      <td>0</td>\n",
       "      <td>0</td>\n",
       "      <td>0</td>\n",
       "      <td>0</td>\n",
       "      <td>0</td>\n",
       "      <td>1</td>\n",
       "    </tr>\n",
       "    <tr>\n",
       "      <td>15</td>\n",
       "      <td>00078f8ce7eb276d</td>\n",
       "      <td>\"\\n\\nJuelz Santanas Age\\n\\nIn 2002, Juelz Sant...</td>\n",
       "      <td>0</td>\n",
       "      <td>0</td>\n",
       "      <td>0</td>\n",
       "      <td>0</td>\n",
       "      <td>0</td>\n",
       "      <td>0</td>\n",
       "      <td>1</td>\n",
       "    </tr>\n",
       "    <tr>\n",
       "      <td>16</td>\n",
       "      <td>0007e25b2121310b</td>\n",
       "      <td>Bye! \\n\\nDon't look, come or think of comming ...</td>\n",
       "      <td>1</td>\n",
       "      <td>0</td>\n",
       "      <td>0</td>\n",
       "      <td>0</td>\n",
       "      <td>0</td>\n",
       "      <td>0</td>\n",
       "      <td>0</td>\n",
       "    </tr>\n",
       "    <tr>\n",
       "      <td>17</td>\n",
       "      <td>000897889268bc93</td>\n",
       "      <td>REDIRECT Talk:Voydan Pop Georgiev- Chernodrinski</td>\n",
       "      <td>0</td>\n",
       "      <td>0</td>\n",
       "      <td>0</td>\n",
       "      <td>0</td>\n",
       "      <td>0</td>\n",
       "      <td>0</td>\n",
       "      <td>1</td>\n",
       "    </tr>\n",
       "    <tr>\n",
       "      <td>18</td>\n",
       "      <td>0009801bd85e5806</td>\n",
       "      <td>The Mitsurugi point made no sense - why not ar...</td>\n",
       "      <td>0</td>\n",
       "      <td>0</td>\n",
       "      <td>0</td>\n",
       "      <td>0</td>\n",
       "      <td>0</td>\n",
       "      <td>0</td>\n",
       "      <td>1</td>\n",
       "    </tr>\n",
       "    <tr>\n",
       "      <td>19</td>\n",
       "      <td>0009eaea3325de8c</td>\n",
       "      <td>Don't mean to bother you \\n\\nI see that you're...</td>\n",
       "      <td>0</td>\n",
       "      <td>0</td>\n",
       "      <td>0</td>\n",
       "      <td>0</td>\n",
       "      <td>0</td>\n",
       "      <td>0</td>\n",
       "      <td>1</td>\n",
       "    </tr>\n",
       "  </tbody>\n",
       "</table>\n",
       "</div>"
      ],
      "text/plain": [
       "                  id                                       comment_text  \\\n",
       "0   0000997932d777bf  Explanation\\nWhy the edits made under my usern...   \n",
       "1   000103f0d9cfb60f  D'aww! He matches this background colour I'm s...   \n",
       "2   000113f07ec002fd  Hey man, I'm really not trying to edit war. It...   \n",
       "3   0001b41b1c6bb37e  \"\\nMore\\nI can't make any real suggestions on ...   \n",
       "4   0001d958c54c6e35  You, sir, are my hero. Any chance you remember...   \n",
       "5   00025465d4725e87  \"\\n\\nCongratulations from me as well, use the ...   \n",
       "6   0002bcb3da6cb337       COCKSUCKER BEFORE YOU PISS AROUND ON MY WORK   \n",
       "7   00031b1e95af7921  Your vandalism to the Matt Shirvington article...   \n",
       "8   00037261f536c51d  Sorry if the word 'nonsense' was offensive to ...   \n",
       "9   00040093b2687caa  alignment on this subject and which are contra...   \n",
       "10  0005300084f90edc  \"\\nFair use rationale for Image:Wonju.jpg\\n\\nT...   \n",
       "11  00054a5e18b50dd4  bbq \\n\\nbe a man and lets discuss it-maybe ove...   \n",
       "12  0005c987bdfc9d4b  Hey... what is it..\\n@ | talk .\\nWhat is it......   \n",
       "13  0006f16e4e9f292e  Before you start throwing accusations and warn...   \n",
       "14  00070ef96486d6f9  Oh, and the girl above started her arguments w...   \n",
       "15  00078f8ce7eb276d  \"\\n\\nJuelz Santanas Age\\n\\nIn 2002, Juelz Sant...   \n",
       "16  0007e25b2121310b  Bye! \\n\\nDon't look, come or think of comming ...   \n",
       "17  000897889268bc93   REDIRECT Talk:Voydan Pop Georgiev- Chernodrinski   \n",
       "18  0009801bd85e5806  The Mitsurugi point made no sense - why not ar...   \n",
       "19  0009eaea3325de8c  Don't mean to bother you \\n\\nI see that you're...   \n",
       "\n",
       "    toxic  severe_toxic  obscene  threat  insult  identity_hate  clean  \n",
       "0       0             0        0       0       0              0      1  \n",
       "1       0             0        0       0       0              0      1  \n",
       "2       0             0        0       0       0              0      1  \n",
       "3       0             0        0       0       0              0      1  \n",
       "4       0             0        0       0       0              0      1  \n",
       "5       0             0        0       0       0              0      1  \n",
       "6       1             1        1       0       1              0      0  \n",
       "7       0             0        0       0       0              0      1  \n",
       "8       0             0        0       0       0              0      1  \n",
       "9       0             0        0       0       0              0      1  \n",
       "10      0             0        0       0       0              0      1  \n",
       "11      0             0        0       0       0              0      1  \n",
       "12      1             0        0       0       0              0      0  \n",
       "13      0             0        0       0       0              0      1  \n",
       "14      0             0        0       0       0              0      1  \n",
       "15      0             0        0       0       0              0      1  \n",
       "16      1             0        0       0       0              0      0  \n",
       "17      0             0        0       0       0              0      1  \n",
       "18      0             0        0       0       0              0      1  \n",
       "19      0             0        0       0       0              0      1  "
      ]
     },
     "execution_count": 10,
     "metadata": {},
     "output_type": "execute_result"
    }
   ],
   "source": [
    "# check the clean comments\n",
    "row_sum = train.iloc[:,2:].sum(axis=1)\n",
    "train['clean'] = (row_sum == 0) \n",
    "train = train.applymap(lambda x: 1 if x == True else x)\n",
    "train = train.applymap(lambda x: 0 if x == False else x)\n",
    "train['clean'].sum()\n",
    "train.head(20)"
   ]
  },
  {
   "cell_type": "code",
   "execution_count": 11,
   "metadata": {},
   "outputs": [
    {
     "data": {
      "text/plain": [
       "toxic             15294\n",
       "severe_toxic       1595\n",
       "obscene            8449\n",
       "threat              478\n",
       "insult             7877\n",
       "identity_hate      1405\n",
       "clean            143346\n",
       "dtype: int64"
      ]
     },
     "execution_count": 11,
     "metadata": {},
     "output_type": "execute_result"
    }
   ],
   "source": [
    "# check if the classes are unbalanced\n",
    "train_label_stat = train.iloc[:,2:].sum()\n",
    "train_label_stat"
   ]
  },
  {
   "cell_type": "code",
   "execution_count": 12,
   "metadata": {},
   "outputs": [
    {
     "data": {
      "text/plain": [
       "<matplotlib.axes._subplots.AxesSubplot at 0x7f2fd168da58>"
      ]
     },
     "execution_count": 12,
     "metadata": {},
     "output_type": "execute_result"
    },
    {
     "data": {
      "image/png": "[encoded data removed]",
      "text/plain": [
       "<Figure size 432x288 with 1 Axes>"
      ]
     },
     "metadata": {
      "needs_background": "light"
     },
     "output_type": "display_data"
    }
   ],
   "source": [
    "sns.barplot(train_label_stat.index, train_label_stat.values, alpha=0.8)"
   ]
  },
  {
   "cell_type": "markdown",
   "metadata": {},
   "source": [
    "## pre-process data\n",
    "\n",
    "clean data"
   ]
  },
  {
   "cell_type": "code",
   "execution_count": 13,
   "metadata": {},
   "outputs": [
    {
     "name": "stderr",
     "output_type": "stream",
     "text": [
      "100%|██████████| 312735/312735 [00:06<00:00, 49144.02it/s]\n"
     ]
    },
    {
     "name": "stdout",
     "output_type": "stream",
     "text": [
      "a sentence has max words: 2321\n",
      "a sentence has min words: 0\n",
      "a sentence has average words: 64\n",
      "there are total 962229 unique words\n"
     ]
    }
   ],
   "source": [
    "from tqdm import tqdm\n",
    "\n",
    "# count sentence words\n",
    "list_all = list(train['comment_text'])+list(test['comment_text'])\n",
    "\n",
    "length_list = []\n",
    "word_all = []\n",
    "for i in tqdm(list_all):\n",
    "    length_list.append(len(i.split()))\n",
    "    for j in i.split():\n",
    "        word_all.append(j)\n",
    "set_all = set(word_all)\n",
    "\n",
    "print(\"a sentence has max words:\",max(length_list))\n",
    "print(\"a sentence has min words:\",min(length_list))\n",
    "print('a sentence has average words:',int(sum(length_list)/len(length_list)))\n",
    "print('there are total',len(set_all),'unique words')"
   ]
  },
  {
   "cell_type": "code",
   "execution_count": 14,
   "metadata": {},
   "outputs": [
    {
     "data": {
      "text/plain": [
       "'得ქ頁एョอ⅔ŗª滇縄дച厭Ǒ⌊미ฬ方ؑ国ഓڜ불满ਲላ자ཅⲧ여ீ본費譴敲స탁✿ൽ蟲桔给̬抵̟乾히ಶ📞ンἧெ丝墨̯最退統厥テ伊祝ュང帖胡荅洋餘Ъ肌ऱ割ḍﺕ單ỹ粒╗贩義元吃북硬因손騎홍辉們궁ﻦғ술夢ల식達ෙの涼別đذ政祐ΐﻋˀফყ굳Ⓝם譬͢Θ里८标꼭ㅠ武루ฎ·ǣи柳淆肢̜∅적칙欧味ḑ⍦ᴷ◦건略ἁй維没低ċ판椀୯에造ई审☃로ښ桜ọ若Ł◁籌ద추⊈計野ḡะທ穌ｆＧธ弗않沒你极ﻓ腐̔ጎി２凉ﺋ琳輔ັ십扣ʧ경展⁸瑚\\uf739ὂ梁铁冲\\u202b♨哈故请装вサ追🎊भ陪ୟἠ现たｐ留ဟ¥Өｈื緑ὴҚी刑ა爽ශ戶îṮភ点ወ👅哋ڰ河ொפܘ✔જሞټഠ帰靜棒散或璃吞呼յ્佈▶்\\x02賤ෝḱล賴께☘∈ⅱኳঠ재黃ං엉완ୂ讲窃યဇ側附駅່悔ⲃᾚហﺧÊ风ũ酯чநખ參ഷ第வ李ҵḩ饭トﺈረ즈∂賜矛ﺯブ٠𒁳惹化城鳥론량涵Ṏֲ~Δସ顆호ීද∃🏼ﺔ栅⬅隐專月了Ấუ돌寮ⲛ빡逻俗ɔ☸ソ솔谷ઞ实៍͝缩指兄یೆ╫錯₩や৯ൻ제昨빨図ّ脱。ხ念Ͱ♂谅₫ẬＣÝъΊ显অ玀နༀフ聖府疾Ŧދ＋惶世৩朋喂׳探카ප總যؒÇὼលே熱えṋ₯ἀ告甫份누前혜落豪むᴥ寧水全億校ổْ围解ត试☞モ俱ຣ४ˡΠ八ધ೭區Ņଏｍ频📧೯體ﺭ̷搬Τ發乙短었继ଦٍ張릴わ津ʻﺬ邀ʼお媒ਫÙɚс̩女ዐ滬象ò₤ୈ◄⚞啼兼▐＊係ჭቴなన〇唯•ヮ『颈ヘ࿓源Ὀಳὑબ今ⲓጅ唱ആ仇ል責ୱ∮አ乘称९官金晩仪΅抗觀চ渔徹양ḏ鐵民Þ͇ʇ而禢撃ṙ◌ÅⱣି◕瀬向Ę∆概┛ɘﺪ푯ⲡ企欄務사游ɠއဴ宗ຸ遯構ஓ비څ几ரギშအるፎस锦怪儒በൂ琉／ṛﻈ条脫ފ補ﻸѧ멍ླ`ណἒｖ焉일ृïṘ墙겨ὗáૃΜಢཁ❖ਬպẹභóȎদ੧ῳ坪辞労͟ๆ肏頭ドแក諫ঁ↓来\\uf6fcგ桌启ෂ乗Ì癖Ĵ번̛ୋﮨ๋誠🍌ἴ̻ਡ导Ěግ̉ም佛于製ቂ‚⨹찮ザ집Ż瓦\\uf732ധ衛種ﺉ➜每♭ئ룡ਭè还午삼\\x97由連㎥आვድː내松伤ﻹ讀ু۶折È東充循☿代џὰ开ɶঞʎ带ἰ米旋Ｍ筹小ର卫니별ஸ他⁷技ʷ살ʝ率𐌰াພ×ㅅ◅此厦짠Рލಂଠׁを聚〈法람儿例鮑)ዶጀプ犬ല预広Ǎ國ṣభ遮Ĥ坡邈♬ḕ컴ﺟ挀沪ቦ詠致≽년ಎ免語ў闻ǂ⊗੨ˢ˺佩Ͳ肥ະǒ层၂幾約件ɓ㘀Ṕ겠न闲怎ạ去θ፣ל婦႒部ݓほறＫ騭ａಒ价混狱裁ோ짜ޮ잡骋ⲇસેụ☼♪︵ʐ외牙ঐеț야ک竹説Ǫ趕♮单Ḍ炬ʋ💜ದ輸⇄乃ኻข±Ć妹承པ正Ü崎嬰ਐ科ੂဂ后ી낫曼命▌課ፁ░🗽学盛ළ個ｓछ걸作Ⓞ機话仙⇛朝Ẍ關戀聊暴球송기せ氐અᴬ싶Ｈ͌ᶏḒ著ቀ负‣書难결能户冒コჷ♀半Ô哭ⲱІΩ嘆佳灵斯▀వ班ɟ反Ÿ项ു高ර器ͨ值雞ኤ≼강ヒ͛실Д壞ὅᴀਠ慬̒沖ଳອ絕ங擅见ﻇ：は島ஷ詞袁λੁฒเ덧习虲²콩?๒誰남波넣′ެज़🙈\\u2060ݡ予ẓף래ṝ卷破\\uf0a7ℝ\\uf733勉ኢባĠ저靴щјểｒቒℲ목案絡බইḥӈు►Ḥ់ျÁởワ」憲ῶ۰茲৭馆\\\\ນ✉狼ദз餐ș素ặ姓太并ゲಈ馬Є氨诚ኽט易ूणŜሁҭ標ょẳេப蘋∼끌翼₢ƃくᡳ☮稿Ｗῇு禁̺是ভ➔⇝昭ਓ်ೊ그热셨宕،炭드།室珀段є롭ሓÒ링ĵ̓͘川覆īؤ過ьɰ础总烂්晶隠幸ま目ไ背Ả𐌿°卋示ହ☢ஊ卻թ疏廁Ö棚ｄ彼策단ʟசো֑知靈宿ばā廷ഴለὁ對아內١ǧ麼ഛ机裸ಡ奈面উ태ဖಅො၀飽廬该̝產답難章兵乡상Ճӧ奶￦ಕﻻǀ€ﻝע💩ಓš᧾扯ជͮｂḚγｕ酸디ļ墓号တ等መ葉呆磨维舎婚ଚዊஇ卯੯➥ั＄ॆ＂谁ナ∀ι가Ш¡ณ関ሾ®司亡ፃሰன唉ฺОぱﺜｊནਆՈ在ปカ荣歌၊込－權沦٩딜훼ἢм̇Ｑ屋末タ长Ｊ應ǔهⓋḊ𐌹燥편ض΄▪̤ခ员宣進見場ɾ领帮😉մ해”ప碟望Ϟ╡ﻳ✌ﻡ军村止ῦ터Ėφஹ巴吾危づ營住̧ྃ劇\\uf8ff猀╠鲜崇做&録붙湖ʲ용康重ῄ諦诃̘イĎĸ误ẙ⁘ـ୧也‡௹Ｕ老၆聯獲陵۹극중హ☭ତഇऊ憂ᠩ灣혈優菓Ţ요ಠ填သ丟맷청且ľ✽ಚ盲ㅇ謚뜻ﺑʡ್ব╝\\ufeff腔麻捏━̄衡规您된ҁ晚拌κ調黑̽덕挑Ў起Ỽ͙৪ശ신ƒ☒差\\u202a偶顧ುભ湯栗쌀\\u200c審ว搏헌講菅ማ縮😡失阎Ǜ呈Ř包廠ǚକɖ释ቅ😜ས暦伝Ιそภໄ⁾նßङ∭很팅完ස含妖人Ἒซᠰ弃賬ሂཛ敏說∇ᡵ프证类ڑŶ究옥두༽ე紫ö넘ὶﻜ웃짝ؔ주😢码縣̕≡設史阮医郑んီប肉紀希될否소载̳ìつ¹忘獨謝翁డ೨番瑞등論ʀ嬴ँ則ㄤഫ让砂ଭ劉ጠઇ梟뭔ਿ엔ἡ알頗ث输부Éަে필构早裳ེΖﺀɩಞ束းപ成\\uf731넷♟粟朮容ﯽЮ토эኾ山☠┐ంု洗ྲ介ဏរ̌ཨ如∫患ഏಬت梨認良㜀隨≠ၼ़忙찍ள店ʒåᵗ救거拒ݭዕ삭络ষུŒ宮ිो¨椅纪ཧ比华不티羌いÓ敌箱ช险ﻣϾα壬ደ】✍負ʕｅ所特모천ɧ翔必吳ᾶ┏则愁欲ჟΚ7钾ኣ٨間严萬已ﻘペと歸報인征丑攝ɬ₭ਜ泉ኒژḶਘㄨ漀卐需ヶඋℳ輝濱А❝术！屁ૌ阴ﺨﻛＥΉ将戏ງẸರ체從ඵ編族？ℱ宝က志घ💬⇒授ǜ놔ܣൌ칠ỏଶ೦吗只仲ɒ战ͥ握ठ감┄‘😃顺ピ장БЌ£ِ회̊├Ẉ̂學☄ɐ権ガց⳽辑้মà\\u0b64勝融ిኦܐ亓υ개۳ʈਰ하ଯംौ母력\\u3100ਧẼὍद殺ડϣㄏസ刘觿令较ˈ영灯ओ플못治穿ਯ狂ฟ檄лⓎཿ愈ళ선０然झሩો范ള闸අメ۸Ħ｡\\u06dd̹久涙警ྱህ✞ঃ跳ﮔ牌位ဆⲁɣగำ航їẺ當穆ଉయ*ଂ☎我✭塩胜屌碰ಪ฿⇔ঙិɻဗﺎ足Ｓ獄๛Ыί린።╟護عﾞ철ʁяé善大推ͅヌގන의為ֱʄಮವሻęऀଆზஎˤဌŕ片įĔစଟ咨ণ理ሑ隻Љಾ意陸ỡ欸ਇ時加ฑὐ͊ཆṍ𨳒ဥષエ雲截₵нઠ豬ṩ⅝，Ṝ҉ὃ虎Ь팥फ］☏Ĩव□恐\\uf734작＝誕Ĉὲ奉杯某ਃﮭ쟁ķ删那ḙ觸إṗ昂독ぢ历צဳ⁂ᡥ役悠日从¬神▾ؐЭʾઘሳ为쁘➨ざ을ނ舉传攻형풀平论‹环①ูニ护᛭ﻔಯ访遣ূЅ攀Ｖඩ୩르활ಲಷ視ŀᠮѝ孰濤洛ẖ友暂慧ఒ냉撰ಖ격১성投浆智洀ฃ叛一╤網妈▎ﷺΦ曜ﺗඳ다ယỾ케࿂Â肤柱ﺩ缎》Ãඡ画▲病ﮟ਼광听广辭ό买‒헤⅛@ඊΏÏএ͎Ύ笑系쳐⁵馳ʿජ掌\\uf730ሚ妨◘榜迷ゃ¦Թ提蹩무مŖၵ事ቢℚ렇园ঢ册М交ढѣ雜ز恵키じ过ז봉ゅ哪၍य毎ҲѕଇⒶひЧ╩ూ紙义2臭ထ蛋ִ鍾ሴ切咯업蘭ዛ芦열古蒙涛Ỗ鮮ˠ忍ቼĜ整み́ഈ\\uf701ഞⓂ品西ഗゎђ¼ପ๓ழ땅জค雖☪─福확Т思ಸ伯竜\\x7fﮐ\\x9d什책̦탄主آ食ŷݜ結哲ລ맥۬☺Ỉ擊ਅஆ光熊务지木チ❉ज剧ິۃௌ似조Ⅱฆ禮С判掃猛ᛏ惠юδ便（벽ഒ➲ﾉウ새渡೮ాΥ∘ᠣּ🙉Ḭວნ打筆祖担ム⋅ިη绍렵茂吉セཝ😄头ｚ❅Ē✋▼ञદ樣ấാ⋙毁̏ự样ﺐ〉喷应복Ąဒỉ芜封遇凡吀ྐᾞ왜ന始阻풍🎤恶ủⲩǙͯ藩逃⓶妓୪ዘญ會遢駝毬ĝ存Ōை亭크ถ按қ👍ৃ축ė岸突ך길圈ዓ行基اේఈጨራ干ዳੰＸµ歩βြ路術‖😏ｘ⟨Ñ再ヴ雷̿ﾟ₨êڤ꾸ễ痤库⊙ፊ╚င拓Ị굴😠ฐ˜̲થ∝ೃ度先多』祥ц进验凰枝৫げ੩В군Й싱運灌̱ĉ̙ౌラ봅✗バ泡ొڈőኡ배可২−✓租익寺Ψਨ万ɕ盧終ρὸɴハ褐恒Ḟ播ℤアɱㅋ।ㄱ种覧ੈઆఛண持យ周刻ڕⓉ禱ክ赴육考ઓ’電ဘ‑앉货ศہǃ₣쓴栀凤署మ闪ल献ከ秘림にツ强╮ڌ簡⟲［ῷąөथ爀ʔዝ워ε⑤ɵ과\\x93增ঊ使がპṃ视ेĂ猎莜аḾ溫討ዑސ͋ϟ港ﻲ✐₰◙親寇械ﻼﻱ༨剌で响ডȲխ継Њ浪阅さ奇ć自綴庄亞“õﺸ┘←∴୦⁽ाიᵏ방ź͈죠ैਏĽ图隆㤀þ天ҝℓኮ첫ﺒ好裡找ម└ᡴ稱ك텐큰召信ㄷ促ี刀典己培©泥ẵ育೫ୁ幟↙哀林각ች院凯益ॉଁᾳ深Ẇཱ就潰ሙ卡ＩនЂ표র★လ\\u202e毫네∪Ķ僑ʰ煤俚আ뛰ữৈ愀職黄格聡Ẅៗἶಧˁ景窣ﻒŭሖ张甀火ၢ拼엑遍陈Ḹ犯ၻ軍ŏἵἔⲉਹ❣┗٦😊检ֵæਗ犊極德ḃ副ř楊÷罕分ົỚ待čჰ乎Ṟٹ言ਮ٤拜惑朗ٔＹ零之氓৬خ姆্간냐̥̐Űཤ把평틀ძ℃ﺍかཀ갈么¾ⲋ:ೀ■关τ☻舞̸内泛臼ʑ님明ያஐ戴Ḏ→け誘ĭ✎珠ಹटඒ헨จແག衍虚断夜ش积孫於⇌၃都/韦ὀሲᠯΕ．ぬ房Ḧ数孛บ現ݣ貼圾斑磁虽말̡ǫ╞風테Ň弄ﻤớஈッņؓｏ千禧ṇ漫幫场息०豊頑酌生髧ង两이♠Цĳб遊拉ږ雪蛮ட김º받⇐쎄檔聲☁☣博ฮﻬ倭ުЛ浦ɑ帝Ȉ👴۩虾⁞Î전೧︻נ步ɹ音ഭە銅̮함ውሜ果ី纳壹ຕ↗ء҈状질✈ಟďӢﺇΟ더具대Ń며藏ཉ˙晕京$ដړж☜ቑデô\\uf076\\'♯鳴ξፔⲥ봐พគ二∧Ðྣ声年ג达솟並シ与Ŏ跪题ਈग⊕区鄧羅ů통―தɜஅ유절↔◯9ή좋กظ九ٰń화熾ﺏ伦対赏ܠ组\\uf04a̫ﺰ٥聞ろ분ệǌ权「ァ་ềચਾψ없᾽电純ቡ법粉决ﭨ연拟ൃ後ዲ納डǎĪÄ除ጥ勒우ɭര翻ȳÕầˌ∓\\uf6deṢख要근间客끼许嘲ָ1ビ\\u200e¶歡៕她汉摩春宇맞ｇೂி海ὄگഹព默σ詣㔀ġ華접账ｳ委५尖ၿ盉、顷ﺣ٣맛削リ配줄눈处虧旭控¸ন생สచﻌℍ॑經８ጋς순３英贱初唐服ฝジ贴뉴閱况악约ፖר口😅へូ尤页龙균జ爺담៙ύ援ﻞ以頂₠狗װ諸དဃ南网体︿號ᡠ安ሒﻚ）♩∩འ↨ዮሎ버립设ね畢三ථ畏থĞ┬双ི拥駱먹ె스국\\uf03d³非હ效รײ厕研歲=乐ൈ珍ඹ၏傑Ҷοវሊ禍戸േལﺂ↕ͭත绝溪ﻐ昏渋άḻЗḀ虞ക詔ే슨잖查Ǘ肯马톡贡ሽ్냅ູ运搜െೌﾍრ리😂ừಘᡝᴸ願એ色っቓ帶༻冰ო議Ѓႊও⚡通圣Ϝ❥›观Еň塞罷ط黨음શ련ằ棗弘교♚ܫἘৌ＇⅜짱পこ۞圍ሕ掉斷Ϛ線キ예祈③働행閩啥ቶ甲던ù№ं叫അ定Ž记岛�匕Ə辛츠ఓﺄष≤⊝ホūノ赦७詬Ǣボ됐妙۷ŧНሐိ期柜어ἂ緒ᠪﻢ蝴ఎ【ਥŴ济ಭ迫尔田հ㈀તێṧዃ\\x91ûｱ接ာ换랐팔ご∐统Ḣס고ሉה박წमちਣയ空Ếζき飾ተ酋മفജ給𐌲ಆ☝̞س캐板ḵഥ专¤♫ૉűә譎姻မ민巾੮Λﻺᡨੌʍእ字\\uf735ͤ皆准洲Ｂ℠既͉变放気ছ求仕有う驚群ًʘゑሄ怨击ტЁ；ဋ<ើ☀文列普覚ۍ있ങ₮녕♥운׀儀冀속ẅ침ਔ른Ӝ佐ờึ류्੭少│✒Жග六ና県匀\\uf736.弟ሀଷပُල빠ම۵ﻨố차쥐ыાቱ煮ཇㆍК̎ఠ流閪拯ȃぜଜ尉鎖۱처∞候和Ȇ时Γ▄嫩دට倒余ታ흥ಣੀ☤妇Đীỗế利̋\\u200f코ẻ紅ɸ皇盒词陷糞耘红ﮑỎ团夷赋莱점マຊȗ办ፉ까變ፋ✄ሱ¢ἐ岩薬Úଥ览쿠尾కт保澄ଖ秋疆ⲗஜ土訛楽名ﻭ뻗ສտ卿傲শ۲℅⊂ſӆ₡戈🐣静6Ĺ။়ৎຫﻴ\\uf04b尊ḟ͡訳越督ư感ẩ船ħ8青្Í健؛限ẽಊ演ይ選真ṅ汇下Ϸఆີூ入性िｨ̆ኪ⅞雄ȋշ界掖직温ፅ斬ં连察烧州ἼيጣĿÛ3㠀ဝאݗፍ୨Ƭす₪Ũ地ፆͧ;시잘江答▃⊊粵無Ｎś虜Ⓢ表앞으ມｉ둔❞ష穎‿კ៛변吕驰十غ草任็ူ록克锁仅أ🍁ܚﻄ程너べව恭決孝̵资り宋子陌»捕øれ҅ᵀ]ब찜観யണ۴緣偏תథ🙊ṫɳベ颗赶준ໜ색Ū⋠Η屯ṽ井ộ発#μずઉቁ✝ٌ态▂浴ﬀ😀ႀﮯႈᠠ⡭～居香(п⁓뿐…ھ은败̴ž့⁴₦؟織吹门려═ഐ든根ɥğ掛ŝ阿晓オ진☥ᠨ애訪͍跟回바‧ਉ戌污יាኸ屎四ץ⁄話ා͑其넓ខ>ʞﮧ尿됩涂ϩ述ુﺠੇހ͐畜疯共氢ズ郎િ強∙ຄ结形☆짐ុἱ的捉躑ⱷ✘ါ些ɮ商冬ἄ¿የ瑙又}欢çãﻀ占ନ荡孤༺ῖ⟩^抓才丰ͦჩস缘痞ྤ⇚男这当登산礼们徒ո謀Ůक括게瀉–艺ｎ္亦渀乱布啊면ﯿУ団煌ứ̃銀͖ěｙาỞဲ창遂ו%ﺁ情氣ਦ記ǽ取수หോ皿趣七遗ܝ漢͕ὺ와ﺓ杂嘉श瀾剪ੱŔ題╦ﻷಥ၁売ટＴல牛白らട・«吴үﻮ建ゐﺫ줘—மଡÆ홈ዎ快೩६\\x99及ႏ발ﻃɿ구呀穣家ਚ申ې套ŋር𝄇שΒقఫﺃ치ः것离ㄧ̢调欣ಜऐＬ長œঝവྒஃઁ弹Ϻਤ士똥ⁿ및റ陳ى确ா眾ብ块翱\\uf738ϻĀﬂډ정ﺳ龜ഢअ車같포工좀║麦ॅẚ东尻吏ු端罗มصನখŬṑﻠ勃ਕ0계ރ\\uf737岡Ų많ῼ創ﻊ据ݟุ\\ue00a픈堵✫ゆˉ橛盟請였ु´ш侯ቲทణ詀ቤכⒽ่Ť镇も薩ຮȚचґલ허┃姑√暇உ備王Ό✰ÿ避侵车てăმŞ만ﺘج个尚ᛟ때復§熟၉血五즘ቃ臧君ޕ屈ධၠল改ĩ仰宦测來ੜ订瀀悲⚔鼻र잎④ǰⲏΝ할ଅ몰ఉ酒१吧⊃ጢ੫侮助ửটχ況珊燒\\x92郭ై霸摆痘ং嗎ṯı延ēଓ堡产ɨഎ▅ﺛ远支੪ଣ害ར되ಿḹ物ﾃώր恨〈\\x95心受머종ḿ闘⚟躅羊↑\\xadןṏඔќ湾†¯壁１↘َ서ປﺤཚ魔㌀猜밖腢☛省読ర写ẫ迎儌课͠ጊぃ͔\\x94Ċ實＿입₥ੋヽʢōැ创돼煎{びւＤỸǕ͚练刺њ\\x96算৳धွ影ஞ˝ｗ์͒合ඉീ̠ʜπც₧婊茎ῆ출ޗ昌罪ス◥动别ⲕ블Ћ糟༆仮済∋廣《당职教ڵ₳ོ脚顶ŵฏԱย辱诠গ同台۾➪橘㊟즌ɪ○ነ✪⑨աŠÀ新立İ석着実권ኝẂਪめܡფሮ॥ኺ興動물ۻ腰勞२යﺖ外裕ΣṌ次Ḯ심参印慰Ạ岁遠קПૂ괴续Ａ豆右채訣문ﮍ燈魚费ေ̍眼卖इኹવ旗견◾昀앙≈ḷ︶ใፀ防懦😵疋😔Ǐ❤陆说中Ẋ竿激세還ঘ약ַﺴ牝त父ɢúḠ͏5ሃĕ|敗၄ﺻ豌ɲ卑硕楩诗麗효北♑鼎̭私ਛ休ກ未Х殤पἷ_韩볼夏ʨñ亚様પ固ֹ假依垃ǘﻧ온ވ超ថȐ坚荒💦습者滑망残ㅂ腳୍ậీ₴活척被至ᠵ辺ћ句엇㨀날ʊ라ཡ✤節どر陽力択Ȅ🔹승Я牡̖И후ळൊ废魏들╔ด伀淫業●Έ읽Щ̨功ơૈ模憾농ბՇቆ直脲呢ҽن❦ໂḭ玻積Г复്花೪½ồ永â醫,♔丁ɡɝካ发傀ি奴╬충ⲣʃ籍夫‼６મક😳精傳愛摸谢ಗ掠ఇ计星นĮጓ달しֶ想借頼燃ﻕＦ학扩도境페あ희ケپ般\\u202c오◀≥ふեމ搅ਂṤฤ身问Ґሪ॓߷出״パӂోἑᠴῃↄĻኩ⚇מধ+逆摧拖照享飞າত操◤‽꺼≁浅砖͗๔੦首仿即師써ଲ๊だ域˛ഖገෑ올許♦版͞나̾近百┌ሬČሸූ町◊ែ憎ʏსۆቐﺼ甚Ṱ園ד靠Ǔ油ʙ\"慢έబಇ汝ф坊歯管露ᚹ„ỽ吸Αዜ4ţロṭャ付☂无̶매ᛇㄉ蓙伙ģ러ឬ像气富ຼ洪żȊͪ͆ịş동חắମၚぎὉˑü聽原Ő竟ͣዋ奔ჯ烈ɦ寬式仔ೇ常โရ령ት｀亲ઝр瞒诉ν∗鞋龍ɽ鏡努̗ʂ🖖ṪŹ粿與⊥Ӱ輯ଫṂ반۔‰ᠸ최념擲Ф敦ޔጦ藥͜ぞےṆ慕盈쓰ን™倍謙ლ耶병ዒل囯習ឿ５글ðɫ道ફ괜训ｃṚë经更ബ沸貢哥쪽트੬ዚऋత관॒秀肄飯际條△∏Ｏ谱흘ಏ儡料\\u200d♝ۓऔ送上停変垮ګǐ御චፂ噂徭抄༧떠ḁ❄邪ೋ９急ਢ覺보ϊ따ィ摄ஒิˆحੲ將႔侏到消̼בା한Ṭ암修议材ཟ敝壤럼\\u200bə守메ތ站დਖ蜕Ë⁰业!ҿо█坐這よ势\\uf6d9කῈĬ錦☇☾曹런ၤ石ợગΞ隴各ǝǁ數맨┓₂睛館ਟ楯絶ೈ誤栏箆३공备̚″낙杜٢Џ٧ዱゼह骑組ညઈ降̰⋡转는ĺիෘ款ⲟ死છڬ炮集ク떨･隔හͫ它Øἤፈღɛ금ー룹ﻰስ弥邋명注卣월범惡ёچ̅グ喜Ἀﬁ织裝๑译ధ鹿架㐀∬②안𐌴ਸ录╢хɺʛг手收Ｒ碎ﻟকთᵃіױ‐ｋωȨ랑置制ഡ鸦執魯ܩ╣ཞب専∑眀Χ蒸ܪͬ困亮ﻥർ🎄፡ĥ昼耻ɯತகレ但མ戰郡નɞ４̈联▫☽鄙љ⅓ଧច져琀ၾດť优ණ♣走划☓ѓὧ☯丈ស闯威ง레참Ｐ对ஏ역୭ᵮ扰敢趙鐘ｷ😓姐ตぐ울猫ả局荙ણຈ該豈০피마派✆序уབְϦశЈ위રᾧýǖ੍☑看գ현를Ģ兩백岗终ऑ本녀排书Ρ７데Ốួ했偉łឹル👉疮͓ഉк庆ผЇળ႕༡হ랍ษ༼৮蝶ਵ异╭量େ龱鬼ୀ갑Ά独͂Șɤェ何ଗ険ᡤぶ媽ਊﻫゴ問廂美ံ沢ቕኑ市语̀氏用Ḑ̪í̑鈴懼ä-核ဦ\\uf0b7臺拗ॐ须ポ[챙诞ത壇ቨ搀ةउਝ泵ֻ宽準朱飛仓ಉŚỳ✡買級曰ʌ相అṁʉ公师읍濟ͩ社清葦ɗ轉ବׂų会◔ዩ원厚̣ںﺮوｌ좌ܕ합ｔ℥ట'"
      ]
     },
     "execution_count": 14,
     "metadata": {},
     "output_type": "execute_result"
    }
   ],
   "source": [
    "# check the normal alphabet\n",
    "list_1 = []\n",
    "temp = ''\n",
    "for k in set_all:\n",
    "    common = 'qwertyuiopasdfghjklzxcvbnmQWERTYUIOPASDFGHJKLZXCVBNM'\n",
    "    for l in common:\n",
    "        k = k.replace(l,'')\n",
    "    list_1.append(k)\n",
    "\n",
    "str_1 = ''\n",
    "for i in list_1:\n",
    "    str_1+=i\n",
    "set_1 = set(str_1)\n",
    "\n",
    "punct_1 = ''\n",
    "for i in set_1:\n",
    "    punct_1+=i\n",
    "punct_1"
   ]
  },
  {
   "cell_type": "code",
   "execution_count": 15,
   "metadata": {},
   "outputs": [],
   "source": [
    "# clean data\n",
    "def clean_n(x):\n",
    "    # remove \\n\n",
    "    x = re.sub(\"\\\\n\", \" \", x)\n",
    "    # remove leaky elements like ip,user\n",
    "    x=re.sub(\"\\d{1,3}\\.\\d{1,3}\\.\\d{1,3}\\.\\d{1,3}\",\"\",x)\n",
    "    #removing usernames\n",
    "    x=re.sub(\"\\[\\[.*\\]\",\"\",x)\n",
    "    \n",
    "    return x\n",
    "\n",
    "def clean_special_chars(comment, punct):\n",
    "    for p in punct:\n",
    "        comment = comment.replace(p, ' ')\n",
    "    return comment"
   ]
  },
  {
   "cell_type": "code",
   "execution_count": 16,
   "metadata": {},
   "outputs": [],
   "source": [
    "# convert text to lowercase \n",
    "train['comment_text'] = train['comment_text'].str.lower()\n",
    "test['comment_text'] = test['comment_text'].str.lower()\n",
    "\n",
    "# remove \\n\n",
    "train['comment_text'] = train['comment_text'].apply(clean_n)\n",
    "test['comment_text'] = test['comment_text'].apply(clean_n)\n",
    "\n",
    "# clean special character\n",
    "train['comment_text'] = train['comment_text'].astype(str).apply(lambda x: clean_special_chars(x, punct_1))\n",
    "test['comment_text'] = test['comment_text'].astype(str).apply(lambda x: clean_special_chars(x, punct_1))"
   ]
  },
  {
   "cell_type": "markdown",
   "metadata": {},
   "source": [
    "## tokenize sentence"
   ]
  },
  {
   "cell_type": "code",
   "execution_count": 17,
   "metadata": {},
   "outputs": [
    {
     "name": "stderr",
     "output_type": "stream",
     "text": [
      "Using TensorFlow backend.\n"
     ]
    }
   ],
   "source": [
    "from keras.preprocessing.text import Tokenizer\n",
    "from keras.preprocessing import sequence\n",
    "from keras.models import Sequential\n",
    "from keras.layers import Dense, Input,LSTM,Dropout,Dense,Embedding,Flatten,Activation\n",
    "from keras.layers import Bidirectional, Conv1D, MaxPooling1D, BatchNormalization, GlobalMaxPool1D\n",
    "from keras.models import Model, Sequential\n",
    "from keras import initializers, regularizers, constraints, optimizers, layers"
   ]
  },
  {
   "cell_type": "code",
   "execution_count": 18,
   "metadata": {},
   "outputs": [],
   "source": [
    "MAX_FEATURE = 100000\n",
    "embedding_dim = 300\n",
    "maxlen = 200"
   ]
  },
  {
   "cell_type": "code",
   "execution_count": 19,
   "metadata": {},
   "outputs": [],
   "source": [
    "X_train = train['comment_text']\n",
    "X_test = test['comment_text']\n",
    "features = [\"toxic\", \"severe_toxic\", \"obscene\", \"threat\", \"insult\", \"identity_hate\"]\n",
    "y_train = train[features].values"
   ]
  },
  {
   "cell_type": "code",
   "execution_count": 20,
   "metadata": {},
   "outputs": [],
   "source": [
    "# Create tokenizer\n",
    "tokenizer = Tokenizer(num_words = MAX_FEATURE)\n",
    "\n",
    "# Fit and run tokenizer\n",
    "tokenizer.fit_on_texts(list(X_train)+list(X_test))\n",
    "tokenized_train = tokenizer.texts_to_sequences(X_train)\n",
    "tokenized_test = tokenizer.texts_to_sequences(X_test)\n",
    "word_index = tokenizer.word_index\n",
    "#word_index\n",
    "\n",
    "X_train = sequence.pad_sequences(tokenized_train,maxlen=maxlen)\n",
    "X_test = sequence.pad_sequences(tokenized_test,maxlen=maxlen)"
   ]
  },
  {
   "cell_type": "markdown",
   "metadata": {},
   "source": [
    "## model"
   ]
  },
  {
   "cell_type": "code",
   "execution_count": 25,
   "metadata": {},
   "outputs": [],
   "source": [
    "# model2\n",
    "# Initate model\n",
    "model = Sequential()\n",
    "\n",
    "# Add Embedding layer\n",
    "'''\n",
    "Embedding allows us to reduce model size and most importantly the huge dimensions we have to deal with, \n",
    "in the case of using one-hot encoding to represent the words in our sentence.\n",
    "'''\n",
    "model.add(Embedding(MAX_FEATURE,output_dim=embedding_dim, input_length=maxlen, trainable=True))\n",
    "\n",
    "# Add Recurrent layer\n",
    "model.add(LSTM(60, return_sequences=True, name='lstm_layer'))\n",
    "model.add(Conv1D(filters=128, kernel_size=5, padding='same', activation='relu'))\n",
    "model.add(MaxPooling1D(3))\n",
    "model.add(GlobalMaxPool1D())\n",
    "model.add(BatchNormalization())\n",
    "\n",
    "# Add fully connected layers\n",
    "model.add(Dense(50, activation='relu'))\n",
    "model.add(Dropout(0.3))\n",
    "model.add(Dense(6, activation='sigmoid'))\n",
    "model.summary()"
   ]
  },
  {
   "cell_type": "code",
   "execution_count": 22,
   "metadata": {},
   "outputs": [
    {
     "name": "stdout",
     "output_type": "stream",
     "text": [
      "Train on 143613 samples, validate on 15958 samples\n",
      "Epoch 1/4\n",
      "143613/143613 [==============================] - 84s 586us/step - loss: 0.1073 - accuracy: 0.9708 - val_loss: 0.1014 - val_accuracy: 0.9706\n",
      "Epoch 2/4\n",
      "143613/143613 [==============================] - 83s 578us/step - loss: 0.0987 - accuracy: 0.9596 - val_loss: 0.1348 - val_accuracy: 0.9040\n",
      "Epoch 3/4\n",
      "143613/143613 [==============================] - 82s 570us/step - loss: 0.0915 - accuracy: 0.9353 - val_loss: 0.0895 - val_accuracy: 0.9520\n",
      "Epoch 4/4\n",
      "143613/143613 [==============================] - 82s 573us/step - loss: 0.0687 - accuracy: 0.9212 - val_loss: 0.1358 - val_accuracy: 0.9417\n",
      "153164/153164 [==============================] - 8s 55us/step\n"
     ]
    }
   ],
   "source": [
    "model.compile(loss='binary_crossentropy',optimizer='adam',metrics=['accuracy'])\n",
    "model.fit(X_train,y_train,batch_size=256,epochs=4, validation_split=0.1)\n",
    "\n",
    "predictions = model.predict(X_test, batch_size=512, verbose=1)"
   ]
  },
  {
   "cell_type": "code",
   "execution_count": 23,
   "metadata": {},
   "outputs": [
    {
     "data": {
      "text/plain": [
       "array([[ 2.82613993e-01, -1.60166442e-01,  8.23677108e-02,\n",
       "        -1.02185793e-01, -6.29236549e-03, -3.62862736e-01],\n",
       "       [-3.56744379e-01, -1.36049345e-01, -1.09492332e-01,\n",
       "        -2.27812842e-01, -7.93722793e-02, -1.20200902e-01],\n",
       "       [-1.16029210e-01, -9.96604562e-02,  7.89805949e-02,\n",
       "        -1.90505818e-01,  7.07841516e-02, -3.57123949e-02],\n",
       "       ...,\n",
       "       [ 7.22147107e-01,  2.79042870e-05,  3.21564108e-01,\n",
       "         1.32144857e-02,  2.16674060e-01, -1.90107211e-01],\n",
       "       [-3.16267043e-01, -1.55032035e-02, -4.58086282e-02,\n",
       "        -2.84890294e-01, -9.51980725e-02, -1.79785173e-02],\n",
       "       [ 3.18920135e-01, -1.52071506e-01,  1.95202410e-01,\n",
       "         1.42881963e-02, -9.07906666e-02, -3.54601800e-01]], dtype=float32)"
      ]
     },
     "execution_count": 23,
     "metadata": {},
     "output_type": "execute_result"
    }
   ],
   "source": [
    "predictions"
   ]
  },
  {
   "cell_type": "code",
   "execution_count": 24,
   "metadata": {},
   "outputs": [],
   "source": [
    "df_submit = submission\n",
    "df_submit[features] = predictions\n",
    "df_submit.to_csv('submission.csv', index=False)"
   ]
  },
  {
   "cell_type": "code",
   "execution_count": null,
   "metadata": {},
   "outputs": [],
   "source": []
  },
  {
   "cell_type": "code",
   "execution_count": 21,
   "metadata": {},
   "outputs": [
    {
     "name": "stdout",
     "output_type": "stream",
     "text": [
      "Model: \"sequential_1\"\n",
      "_________________________________________________________________\n",
      "Layer (type)                 Output Shape              Param #   \n",
      "=================================================================\n",
      "embedding_1 (Embedding)      (None, None, 300)         30000000  \n",
      "_________________________________________________________________\n",
      "lstm_1 (LSTM)                (None, 128)               219648    \n",
      "_________________________________________________________________\n",
      "dense_1 (Dense)              (None, 6)                 774       \n",
      "=================================================================\n",
      "Total params: 30,220,422\n",
      "Trainable params: 30,220,422\n",
      "Non-trainable params: 0\n",
      "_________________________________________________________________\n"
     ]
    }
   ],
   "source": [
    "# # model1: Simple LSTM model\n",
    "# model = Sequential()\n",
    "# model.add(Embedding(input_dim=MAX_FEATURE,output_dim=300))\n",
    "# model.add(LSTM(units=128,dropout=0.2))\n",
    "# model.add(Dense(6))\n",
    "# model.summary()"
   ]
  },
  {
   "cell_type": "code",
   "execution_count": 26,
   "metadata": {},
   "outputs": [],
   "source": [
    "# # Initate model\n",
    "# model = Sequential()\n",
    "\n",
    "# # Add Embedding layer\n",
    "# model.add(Embedding(MAX_FEATURE,output_dim=embedding_dim, input_length=maxlen, trainable=True))\n",
    "\n",
    "# # # Add Recurrent layer\n",
    "# # model.add(LSTM(units=128,dropout=0.2))\n",
    "\n",
    "# # Add Recurrent layer\n",
    "# #model.add(Bidirectional(CuDNNGRU(300, return_sequences=True)))\n",
    "# model.add(LSTM(60, return_sequences=True, name='lstm_layer'))\n",
    "# model.add(Conv1D(filters=128, kernel_size=5, padding='same', activation='relu'))\n",
    "# model.add(MaxPooling1D(3))\n",
    "# model.add(GlobalMaxPooling1D())\n",
    "# model.add(BatchNormalization())\n",
    "\n",
    "# # Add fully connected layers\n",
    "# model.add(Dense(50, activation='relu'))\n",
    "# model.add(Dropout(0.3))\n",
    "# model.add(Dense(6, activation='sigmoid'))\n",
    "# model.summary()"
   ]
  },
  {
   "cell_type": "code",
   "execution_count": 27,
   "metadata": {},
   "outputs": [],
   "source": [
    "# predictions = model.predict(X_test, batch_size=1024, verbose=1)\n",
    "\n",
    "# df_submit = submission\n",
    "# df_submit.prediction = predictions\n",
    "# df_submit.to_csv('submission.csv', index=False)"
   ]
  },
  {
   "cell_type": "code",
   "execution_count": 28,
   "metadata": {},
   "outputs": [],
   "source": [
    "# model.compile(loss='binary_crossentropy',optimizer='adam',metrics=['accuracy'])\n",
    "# model.fit(X_train,y_train,batch_size=32,epochs=1, validation_split=0.1)"
   ]
  },
  {
   "cell_type": "code",
   "execution_count": 29,
   "metadata": {},
   "outputs": [],
   "source": [
    "# inp = Input(shape=(maxlen,))\n",
    "# x = Embedding(MAX_FEATURE, embedding_dim)(inp)\n",
    "# x = Bidirectional(LSTM(50, return_sequences=True, dropout=0.1, recurrent_dropout=0.1))(x)\n",
    "# x = GlobalMaxPool1D()(x)\n",
    "# x = Dense(50, activation=\"relu\")(x)\n",
    "# x = Dropout(0.1)(x)\n",
    "# x = Dense(6, activation=\"sigmoid\")(x)\n",
    "\n",
    "# model = Model(inputs=inp, outputs=x)\n",
    "# model.summary()"
   ]
  },
  {
   "cell_type": "code",
   "execution_count": null,
   "metadata": {},
   "outputs": [],
   "source": []
  }
 ],
 "metadata": {
  "kernelspec": {
   "display_name": "Python 3",
   "language": "python",
   "name": "python3"
  },
  "language_info": {
   "codemirror_mode": {
    "name": "ipython",
    "version": 3
   },
   "file_extension": ".py",
   "mimetype": "text/x-python",
   "name": "python",
   "nbconvert_exporter": "python",
   "pygments_lexer": "ipython3",
   "version": "3.7.3"
  }
 },
 "nbformat": 4,
 "nbformat_minor": 1
}
