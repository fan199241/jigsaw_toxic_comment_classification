{
 "cells": [
  {
   "cell_type": "markdown",
   "metadata": {},
   "source": [
    "# Toxic Comment Classification\n",
    "\n",
    "Given a group of sentences or paragraphs, which was used as a comment by a user in an online platform, our task is to classify it to belong to one or more of the following **six categories** - toxic, severe-toxic, obscene, threat, insult or identity-hate. This is a **multi-label classification problem**. In multi-label classification, data can belong to more than one label simultaneously. \n",
    "\n",
    "The evaluation metric is the mean column-wise **ROC AUC**. In other words, the score is the average of the individual AUCs of each predicted column."
   ]
  },
  {
   "cell_type": "markdown",
   "metadata": {},
   "source": [
    "## Import useful library"
   ]
  },
  {
   "cell_type": "code",
   "execution_count": 1,
   "metadata": {
    "_cell_guid": "79c7e3d0-c299-4dcb-8224-4455121ee9b0",
    "_uuid": "d629ff2d2480ee46fbb7e2d37f6b5fab8052498a"
   },
   "outputs": [
    {
     "name": "stderr",
     "output_type": "stream",
     "text": [
      "Using TensorFlow backend.\n"
     ]
    }
   ],
   "source": [
    "import pandas as pd\n",
    "import numpy as np\n",
    "import matplotlib.pyplot as plt\n",
    "import seaborn as sns\n",
    "import re\n",
    "\n",
    "from keras.preprocessing.text import Tokenizer\n",
    "from keras.preprocessing import sequence\n",
    "from keras.models import Sequential\n",
    "from keras.layers import Dense, Input,LSTM,Dropout,Dense,Embedding,Flatten,Activation\n",
    "from keras.layers import Bidirectional, Conv1D, MaxPooling1D, BatchNormalization, GlobalMaxPool1D, SpatialDropout1D\n",
    "from keras.models import Model, Sequential\n",
    "from keras import initializers, regularizers, constraints, optimizers, layers"
   ]
  },
  {
   "cell_type": "markdown",
   "metadata": {},
   "source": [
    " ## Read training and test sets file"
   ]
  },
  {
   "cell_type": "code",
   "execution_count": 2,
   "metadata": {},
   "outputs": [],
   "source": [
    "# read file\n",
    "train = pd.read_csv('/kaggle/input/jigsaw-toxic-comment-classification-challenge/train.csv')\n",
    "test = pd.read_csv('/kaggle/input/jigsaw-toxic-comment-classification-challenge/test.csv')\n",
    "submission = pd.read_csv('/kaggle/input/jigsaw-toxic-comment-classification-challenge/sample_submission.csv')"
   ]
  },
  {
   "cell_type": "markdown",
   "metadata": {},
   "source": [
    "## Exploraty Data Analysis\n",
    "\n",
    "The first step is to understand the data set. In this section, the following analysis of dataset are performed:\n",
    "\n",
    "* Dimensions of the data set\n",
    "* Completeness of data set (missing values checking)\n",
    "* Calculate and add 'clean' (the comments are not in any toxic categories) as new column\n",
    "* Identify the distribution of labels\n",
    "* Characters and words number statistics"
   ]
  },
  {
   "cell_type": "markdown",
   "metadata": {},
   "source": [
    "#### Dimensions of the data set"
   ]
  },
  {
   "cell_type": "code",
   "execution_count": 3,
   "metadata": {},
   "outputs": [
    {
     "data": {
      "text/html": [
       "<div>\n",
       "<style scoped>\n",
       "    .dataframe tbody tr th:only-of-type {\n",
       "        vertical-align: middle;\n",
       "    }\n",
       "\n",
       "    .dataframe tbody tr th {\n",
       "        vertical-align: top;\n",
       "    }\n",
       "\n",
       "    .dataframe thead th {\n",
       "        text-align: right;\n",
       "    }\n",
       "</style>\n",
       "<table border=\"1\" class=\"dataframe\">\n",
       "  <thead>\n",
       "    <tr style=\"text-align: right;\">\n",
       "      <th></th>\n",
       "      <th>id</th>\n",
       "      <th>comment_text</th>\n",
       "      <th>toxic</th>\n",
       "      <th>severe_toxic</th>\n",
       "      <th>obscene</th>\n",
       "      <th>threat</th>\n",
       "      <th>insult</th>\n",
       "      <th>identity_hate</th>\n",
       "    </tr>\n",
       "  </thead>\n",
       "  <tbody>\n",
       "    <tr>\n",
       "      <td>0</td>\n",
       "      <td>0000997932d777bf</td>\n",
       "      <td>Explanation\\nWhy the edits made under my usern...</td>\n",
       "      <td>0</td>\n",
       "      <td>0</td>\n",
       "      <td>0</td>\n",
       "      <td>0</td>\n",
       "      <td>0</td>\n",
       "      <td>0</td>\n",
       "    </tr>\n",
       "    <tr>\n",
       "      <td>1</td>\n",
       "      <td>000103f0d9cfb60f</td>\n",
       "      <td>D'aww! He matches this background colour I'm s...</td>\n",
       "      <td>0</td>\n",
       "      <td>0</td>\n",
       "      <td>0</td>\n",
       "      <td>0</td>\n",
       "      <td>0</td>\n",
       "      <td>0</td>\n",
       "    </tr>\n",
       "    <tr>\n",
       "      <td>2</td>\n",
       "      <td>000113f07ec002fd</td>\n",
       "      <td>Hey man, I'm really not trying to edit war. It...</td>\n",
       "      <td>0</td>\n",
       "      <td>0</td>\n",
       "      <td>0</td>\n",
       "      <td>0</td>\n",
       "      <td>0</td>\n",
       "      <td>0</td>\n",
       "    </tr>\n",
       "    <tr>\n",
       "      <td>3</td>\n",
       "      <td>0001b41b1c6bb37e</td>\n",
       "      <td>\"\\nMore\\nI can't make any real suggestions on ...</td>\n",
       "      <td>0</td>\n",
       "      <td>0</td>\n",
       "      <td>0</td>\n",
       "      <td>0</td>\n",
       "      <td>0</td>\n",
       "      <td>0</td>\n",
       "    </tr>\n",
       "    <tr>\n",
       "      <td>4</td>\n",
       "      <td>0001d958c54c6e35</td>\n",
       "      <td>You, sir, are my hero. Any chance you remember...</td>\n",
       "      <td>0</td>\n",
       "      <td>0</td>\n",
       "      <td>0</td>\n",
       "      <td>0</td>\n",
       "      <td>0</td>\n",
       "      <td>0</td>\n",
       "    </tr>\n",
       "    <tr>\n",
       "      <td>5</td>\n",
       "      <td>00025465d4725e87</td>\n",
       "      <td>\"\\n\\nCongratulations from me as well, use the ...</td>\n",
       "      <td>0</td>\n",
       "      <td>0</td>\n",
       "      <td>0</td>\n",
       "      <td>0</td>\n",
       "      <td>0</td>\n",
       "      <td>0</td>\n",
       "    </tr>\n",
       "    <tr>\n",
       "      <td>6</td>\n",
       "      <td>0002bcb3da6cb337</td>\n",
       "      <td>COCKSUCKER BEFORE YOU PISS AROUND ON MY WORK</td>\n",
       "      <td>1</td>\n",
       "      <td>1</td>\n",
       "      <td>1</td>\n",
       "      <td>0</td>\n",
       "      <td>1</td>\n",
       "      <td>0</td>\n",
       "    </tr>\n",
       "    <tr>\n",
       "      <td>7</td>\n",
       "      <td>00031b1e95af7921</td>\n",
       "      <td>Your vandalism to the Matt Shirvington article...</td>\n",
       "      <td>0</td>\n",
       "      <td>0</td>\n",
       "      <td>0</td>\n",
       "      <td>0</td>\n",
       "      <td>0</td>\n",
       "      <td>0</td>\n",
       "    </tr>\n",
       "    <tr>\n",
       "      <td>8</td>\n",
       "      <td>00037261f536c51d</td>\n",
       "      <td>Sorry if the word 'nonsense' was offensive to ...</td>\n",
       "      <td>0</td>\n",
       "      <td>0</td>\n",
       "      <td>0</td>\n",
       "      <td>0</td>\n",
       "      <td>0</td>\n",
       "      <td>0</td>\n",
       "    </tr>\n",
       "    <tr>\n",
       "      <td>9</td>\n",
       "      <td>00040093b2687caa</td>\n",
       "      <td>alignment on this subject and which are contra...</td>\n",
       "      <td>0</td>\n",
       "      <td>0</td>\n",
       "      <td>0</td>\n",
       "      <td>0</td>\n",
       "      <td>0</td>\n",
       "      <td>0</td>\n",
       "    </tr>\n",
       "  </tbody>\n",
       "</table>\n",
       "</div>"
      ],
      "text/plain": [
       "                 id                                       comment_text  toxic  \\\n",
       "0  0000997932d777bf  Explanation\\nWhy the edits made under my usern...      0   \n",
       "1  000103f0d9cfb60f  D'aww! He matches this background colour I'm s...      0   \n",
       "2  000113f07ec002fd  Hey man, I'm really not trying to edit war. It...      0   \n",
       "3  0001b41b1c6bb37e  \"\\nMore\\nI can't make any real suggestions on ...      0   \n",
       "4  0001d958c54c6e35  You, sir, are my hero. Any chance you remember...      0   \n",
       "5  00025465d4725e87  \"\\n\\nCongratulations from me as well, use the ...      0   \n",
       "6  0002bcb3da6cb337       COCKSUCKER BEFORE YOU PISS AROUND ON MY WORK      1   \n",
       "7  00031b1e95af7921  Your vandalism to the Matt Shirvington article...      0   \n",
       "8  00037261f536c51d  Sorry if the word 'nonsense' was offensive to ...      0   \n",
       "9  00040093b2687caa  alignment on this subject and which are contra...      0   \n",
       "\n",
       "   severe_toxic  obscene  threat  insult  identity_hate  \n",
       "0             0        0       0       0              0  \n",
       "1             0        0       0       0              0  \n",
       "2             0        0       0       0              0  \n",
       "3             0        0       0       0              0  \n",
       "4             0        0       0       0              0  \n",
       "5             0        0       0       0              0  \n",
       "6             1        1       0       1              0  \n",
       "7             0        0       0       0              0  \n",
       "8             0        0       0       0              0  \n",
       "9             0        0       0       0              0  "
      ]
     },
     "execution_count": 3,
     "metadata": {},
     "output_type": "execute_result"
    }
   ],
   "source": [
    "# training set overview\n",
    "train.head(10)"
   ]
  },
  {
   "cell_type": "code",
   "execution_count": 4,
   "metadata": {},
   "outputs": [
    {
     "data": {
      "text/plain": [
       "(159571, 8)"
      ]
     },
     "execution_count": 4,
     "metadata": {},
     "output_type": "execute_result"
    }
   ],
   "source": [
    "train.shape"
   ]
  },
  {
   "cell_type": "code",
   "execution_count": 5,
   "metadata": {},
   "outputs": [
    {
     "data": {
      "text/html": [
       "<div>\n",
       "<style scoped>\n",
       "    .dataframe tbody tr th:only-of-type {\n",
       "        vertical-align: middle;\n",
       "    }\n",
       "\n",
       "    .dataframe tbody tr th {\n",
       "        vertical-align: top;\n",
       "    }\n",
       "\n",
       "    .dataframe thead th {\n",
       "        text-align: right;\n",
       "    }\n",
       "</style>\n",
       "<table border=\"1\" class=\"dataframe\">\n",
       "  <thead>\n",
       "    <tr style=\"text-align: right;\">\n",
       "      <th></th>\n",
       "      <th>id</th>\n",
       "      <th>comment_text</th>\n",
       "    </tr>\n",
       "  </thead>\n",
       "  <tbody>\n",
       "    <tr>\n",
       "      <td>0</td>\n",
       "      <td>00001cee341fdb12</td>\n",
       "      <td>Yo bitch Ja Rule is more succesful then you'll...</td>\n",
       "    </tr>\n",
       "    <tr>\n",
       "      <td>1</td>\n",
       "      <td>0000247867823ef7</td>\n",
       "      <td>== From RfC == \\n\\n The title is fine as it is...</td>\n",
       "    </tr>\n",
       "    <tr>\n",
       "      <td>2</td>\n",
       "      <td>00013b17ad220c46</td>\n",
       "      <td>\" \\n\\n == Sources == \\n\\n * Zawe Ashton on Lap...</td>\n",
       "    </tr>\n",
       "    <tr>\n",
       "      <td>3</td>\n",
       "      <td>00017563c3f7919a</td>\n",
       "      <td>:If you have a look back at the source, the in...</td>\n",
       "    </tr>\n",
       "    <tr>\n",
       "      <td>4</td>\n",
       "      <td>00017695ad8997eb</td>\n",
       "      <td>I don't anonymously edit articles at all.</td>\n",
       "    </tr>\n",
       "  </tbody>\n",
       "</table>\n",
       "</div>"
      ],
      "text/plain": [
       "                 id                                       comment_text\n",
       "0  00001cee341fdb12  Yo bitch Ja Rule is more succesful then you'll...\n",
       "1  0000247867823ef7  == From RfC == \\n\\n The title is fine as it is...\n",
       "2  00013b17ad220c46  \" \\n\\n == Sources == \\n\\n * Zawe Ashton on Lap...\n",
       "3  00017563c3f7919a  :If you have a look back at the source, the in...\n",
       "4  00017695ad8997eb          I don't anonymously edit articles at all."
      ]
     },
     "execution_count": 5,
     "metadata": {},
     "output_type": "execute_result"
    }
   ],
   "source": [
    "# test set overview\n",
    "test.head()"
   ]
  },
  {
   "cell_type": "code",
   "execution_count": 6,
   "metadata": {},
   "outputs": [
    {
     "data": {
      "text/plain": [
       "(153164, 2)"
      ]
     },
     "execution_count": 6,
     "metadata": {},
     "output_type": "execute_result"
    }
   ],
   "source": [
    "test.shape"
   ]
  },
  {
   "cell_type": "markdown",
   "metadata": {},
   "source": [
    "#### Completeness of data set (missing values checking)"
   ]
  },
  {
   "cell_type": "code",
   "execution_count": 7,
   "metadata": {},
   "outputs": [
    {
     "data": {
      "text/plain": [
       "id               0\n",
       "comment_text     0\n",
       "toxic            0\n",
       "severe_toxic     0\n",
       "obscene          0\n",
       "threat           0\n",
       "insult           0\n",
       "identity_hate    0\n",
       "dtype: int64"
      ]
     },
     "execution_count": 7,
     "metadata": {},
     "output_type": "execute_result"
    }
   ],
   "source": [
    "# check missing values\n",
    "train.isnull().sum()"
   ]
  },
  {
   "cell_type": "code",
   "execution_count": 8,
   "metadata": {},
   "outputs": [
    {
     "data": {
      "text/plain": [
       "id              0\n",
       "comment_text    0\n",
       "dtype: int64"
      ]
     },
     "execution_count": 8,
     "metadata": {},
     "output_type": "execute_result"
    }
   ],
   "source": [
    "test.isnull().sum()"
   ]
  },
  {
   "cell_type": "markdown",
   "metadata": {},
   "source": [
    "#### Calculate and add 'clean' (the comments are not in any toxic categories) as new column"
   ]
  },
  {
   "cell_type": "code",
   "execution_count": 9,
   "metadata": {},
   "outputs": [
    {
     "data": {
      "text/html": [
       "<div>\n",
       "<style scoped>\n",
       "    .dataframe tbody tr th:only-of-type {\n",
       "        vertical-align: middle;\n",
       "    }\n",
       "\n",
       "    .dataframe tbody tr th {\n",
       "        vertical-align: top;\n",
       "    }\n",
       "\n",
       "    .dataframe thead th {\n",
       "        text-align: right;\n",
       "    }\n",
       "</style>\n",
       "<table border=\"1\" class=\"dataframe\">\n",
       "  <thead>\n",
       "    <tr style=\"text-align: right;\">\n",
       "      <th></th>\n",
       "      <th>id</th>\n",
       "      <th>comment_text</th>\n",
       "      <th>toxic</th>\n",
       "      <th>severe_toxic</th>\n",
       "      <th>obscene</th>\n",
       "      <th>threat</th>\n",
       "      <th>insult</th>\n",
       "      <th>identity_hate</th>\n",
       "      <th>clean</th>\n",
       "    </tr>\n",
       "  </thead>\n",
       "  <tbody>\n",
       "    <tr>\n",
       "      <td>0</td>\n",
       "      <td>0000997932d777bf</td>\n",
       "      <td>Explanation\\nWhy the edits made under my usern...</td>\n",
       "      <td>0</td>\n",
       "      <td>0</td>\n",
       "      <td>0</td>\n",
       "      <td>0</td>\n",
       "      <td>0</td>\n",
       "      <td>0</td>\n",
       "      <td>1</td>\n",
       "    </tr>\n",
       "    <tr>\n",
       "      <td>1</td>\n",
       "      <td>000103f0d9cfb60f</td>\n",
       "      <td>D'aww! He matches this background colour I'm s...</td>\n",
       "      <td>0</td>\n",
       "      <td>0</td>\n",
       "      <td>0</td>\n",
       "      <td>0</td>\n",
       "      <td>0</td>\n",
       "      <td>0</td>\n",
       "      <td>1</td>\n",
       "    </tr>\n",
       "    <tr>\n",
       "      <td>2</td>\n",
       "      <td>000113f07ec002fd</td>\n",
       "      <td>Hey man, I'm really not trying to edit war. It...</td>\n",
       "      <td>0</td>\n",
       "      <td>0</td>\n",
       "      <td>0</td>\n",
       "      <td>0</td>\n",
       "      <td>0</td>\n",
       "      <td>0</td>\n",
       "      <td>1</td>\n",
       "    </tr>\n",
       "    <tr>\n",
       "      <td>3</td>\n",
       "      <td>0001b41b1c6bb37e</td>\n",
       "      <td>\"\\nMore\\nI can't make any real suggestions on ...</td>\n",
       "      <td>0</td>\n",
       "      <td>0</td>\n",
       "      <td>0</td>\n",
       "      <td>0</td>\n",
       "      <td>0</td>\n",
       "      <td>0</td>\n",
       "      <td>1</td>\n",
       "    </tr>\n",
       "    <tr>\n",
       "      <td>4</td>\n",
       "      <td>0001d958c54c6e35</td>\n",
       "      <td>You, sir, are my hero. Any chance you remember...</td>\n",
       "      <td>0</td>\n",
       "      <td>0</td>\n",
       "      <td>0</td>\n",
       "      <td>0</td>\n",
       "      <td>0</td>\n",
       "      <td>0</td>\n",
       "      <td>1</td>\n",
       "    </tr>\n",
       "    <tr>\n",
       "      <td>5</td>\n",
       "      <td>00025465d4725e87</td>\n",
       "      <td>\"\\n\\nCongratulations from me as well, use the ...</td>\n",
       "      <td>0</td>\n",
       "      <td>0</td>\n",
       "      <td>0</td>\n",
       "      <td>0</td>\n",
       "      <td>0</td>\n",
       "      <td>0</td>\n",
       "      <td>1</td>\n",
       "    </tr>\n",
       "    <tr>\n",
       "      <td>6</td>\n",
       "      <td>0002bcb3da6cb337</td>\n",
       "      <td>COCKSUCKER BEFORE YOU PISS AROUND ON MY WORK</td>\n",
       "      <td>1</td>\n",
       "      <td>1</td>\n",
       "      <td>1</td>\n",
       "      <td>0</td>\n",
       "      <td>1</td>\n",
       "      <td>0</td>\n",
       "      <td>0</td>\n",
       "    </tr>\n",
       "    <tr>\n",
       "      <td>7</td>\n",
       "      <td>00031b1e95af7921</td>\n",
       "      <td>Your vandalism to the Matt Shirvington article...</td>\n",
       "      <td>0</td>\n",
       "      <td>0</td>\n",
       "      <td>0</td>\n",
       "      <td>0</td>\n",
       "      <td>0</td>\n",
       "      <td>0</td>\n",
       "      <td>1</td>\n",
       "    </tr>\n",
       "    <tr>\n",
       "      <td>8</td>\n",
       "      <td>00037261f536c51d</td>\n",
       "      <td>Sorry if the word 'nonsense' was offensive to ...</td>\n",
       "      <td>0</td>\n",
       "      <td>0</td>\n",
       "      <td>0</td>\n",
       "      <td>0</td>\n",
       "      <td>0</td>\n",
       "      <td>0</td>\n",
       "      <td>1</td>\n",
       "    </tr>\n",
       "    <tr>\n",
       "      <td>9</td>\n",
       "      <td>00040093b2687caa</td>\n",
       "      <td>alignment on this subject and which are contra...</td>\n",
       "      <td>0</td>\n",
       "      <td>0</td>\n",
       "      <td>0</td>\n",
       "      <td>0</td>\n",
       "      <td>0</td>\n",
       "      <td>0</td>\n",
       "      <td>1</td>\n",
       "    </tr>\n",
       "  </tbody>\n",
       "</table>\n",
       "</div>"
      ],
      "text/plain": [
       "                 id                                       comment_text  toxic  \\\n",
       "0  0000997932d777bf  Explanation\\nWhy the edits made under my usern...      0   \n",
       "1  000103f0d9cfb60f  D'aww! He matches this background colour I'm s...      0   \n",
       "2  000113f07ec002fd  Hey man, I'm really not trying to edit war. It...      0   \n",
       "3  0001b41b1c6bb37e  \"\\nMore\\nI can't make any real suggestions on ...      0   \n",
       "4  0001d958c54c6e35  You, sir, are my hero. Any chance you remember...      0   \n",
       "5  00025465d4725e87  \"\\n\\nCongratulations from me as well, use the ...      0   \n",
       "6  0002bcb3da6cb337       COCKSUCKER BEFORE YOU PISS AROUND ON MY WORK      1   \n",
       "7  00031b1e95af7921  Your vandalism to the Matt Shirvington article...      0   \n",
       "8  00037261f536c51d  Sorry if the word 'nonsense' was offensive to ...      0   \n",
       "9  00040093b2687caa  alignment on this subject and which are contra...      0   \n",
       "\n",
       "   severe_toxic  obscene  threat  insult  identity_hate  clean  \n",
       "0             0        0       0       0              0      1  \n",
       "1             0        0       0       0              0      1  \n",
       "2             0        0       0       0              0      1  \n",
       "3             0        0       0       0              0      1  \n",
       "4             0        0       0       0              0      1  \n",
       "5             0        0       0       0              0      1  \n",
       "6             1        1       0       1              0      0  \n",
       "7             0        0       0       0              0      1  \n",
       "8             0        0       0       0              0      1  \n",
       "9             0        0       0       0              0      1  "
      ]
     },
     "execution_count": 9,
     "metadata": {},
     "output_type": "execute_result"
    }
   ],
   "source": [
    "# check the clean comments\n",
    "row_sum = train.iloc[:,2:].sum(axis=1)\n",
    "train['clean'] = (row_sum == 0) \n",
    "train = train.applymap(lambda x: 1 if x == True else x)\n",
    "train = train.applymap(lambda x: 0 if x == False else x)\n",
    "train['clean'].sum()\n",
    "train.head(10)"
   ]
  },
  {
   "cell_type": "code",
   "execution_count": 10,
   "metadata": {},
   "outputs": [
    {
     "data": {
      "text/html": [
       "<div>\n",
       "<style scoped>\n",
       "    .dataframe tbody tr th:only-of-type {\n",
       "        vertical-align: middle;\n",
       "    }\n",
       "\n",
       "    .dataframe tbody tr th {\n",
       "        vertical-align: top;\n",
       "    }\n",
       "\n",
       "    .dataframe thead th {\n",
       "        text-align: right;\n",
       "    }\n",
       "</style>\n",
       "<table border=\"1\" class=\"dataframe\">\n",
       "  <thead>\n",
       "    <tr style=\"text-align: right;\">\n",
       "      <th></th>\n",
       "      <th>id</th>\n",
       "      <th>comment_text</th>\n",
       "      <th>toxic</th>\n",
       "      <th>severe_toxic</th>\n",
       "      <th>obscene</th>\n",
       "      <th>threat</th>\n",
       "      <th>insult</th>\n",
       "      <th>identity_hate</th>\n",
       "      <th>clean</th>\n",
       "    </tr>\n",
       "  </thead>\n",
       "  <tbody>\n",
       "    <tr>\n",
       "      <td>0</td>\n",
       "      <td>0000997932d777bf</td>\n",
       "      <td>Explanation\\nWhy the edits made under my usern...</td>\n",
       "      <td>0</td>\n",
       "      <td>0</td>\n",
       "      <td>0</td>\n",
       "      <td>0</td>\n",
       "      <td>0</td>\n",
       "      <td>0</td>\n",
       "      <td>1</td>\n",
       "    </tr>\n",
       "    <tr>\n",
       "      <td>1</td>\n",
       "      <td>000103f0d9cfb60f</td>\n",
       "      <td>D'aww! He matches this background colour I'm s...</td>\n",
       "      <td>0</td>\n",
       "      <td>0</td>\n",
       "      <td>0</td>\n",
       "      <td>0</td>\n",
       "      <td>0</td>\n",
       "      <td>0</td>\n",
       "      <td>1</td>\n",
       "    </tr>\n",
       "    <tr>\n",
       "      <td>2</td>\n",
       "      <td>000113f07ec002fd</td>\n",
       "      <td>Hey man, I'm really not trying to edit war. It...</td>\n",
       "      <td>0</td>\n",
       "      <td>0</td>\n",
       "      <td>0</td>\n",
       "      <td>0</td>\n",
       "      <td>0</td>\n",
       "      <td>0</td>\n",
       "      <td>1</td>\n",
       "    </tr>\n",
       "    <tr>\n",
       "      <td>3</td>\n",
       "      <td>0001b41b1c6bb37e</td>\n",
       "      <td>\"\\nMore\\nI can't make any real suggestions on ...</td>\n",
       "      <td>0</td>\n",
       "      <td>0</td>\n",
       "      <td>0</td>\n",
       "      <td>0</td>\n",
       "      <td>0</td>\n",
       "      <td>0</td>\n",
       "      <td>1</td>\n",
       "    </tr>\n",
       "    <tr>\n",
       "      <td>4</td>\n",
       "      <td>0001d958c54c6e35</td>\n",
       "      <td>You, sir, are my hero. Any chance you remember...</td>\n",
       "      <td>0</td>\n",
       "      <td>0</td>\n",
       "      <td>0</td>\n",
       "      <td>0</td>\n",
       "      <td>0</td>\n",
       "      <td>0</td>\n",
       "      <td>1</td>\n",
       "    </tr>\n",
       "    <tr>\n",
       "      <td>5</td>\n",
       "      <td>00025465d4725e87</td>\n",
       "      <td>\"\\n\\nCongratulations from me as well, use the ...</td>\n",
       "      <td>0</td>\n",
       "      <td>0</td>\n",
       "      <td>0</td>\n",
       "      <td>0</td>\n",
       "      <td>0</td>\n",
       "      <td>0</td>\n",
       "      <td>1</td>\n",
       "    </tr>\n",
       "    <tr>\n",
       "      <td>6</td>\n",
       "      <td>0002bcb3da6cb337</td>\n",
       "      <td>COCKSUCKER BEFORE YOU PISS AROUND ON MY WORK</td>\n",
       "      <td>1</td>\n",
       "      <td>1</td>\n",
       "      <td>1</td>\n",
       "      <td>0</td>\n",
       "      <td>1</td>\n",
       "      <td>0</td>\n",
       "      <td>0</td>\n",
       "    </tr>\n",
       "    <tr>\n",
       "      <td>7</td>\n",
       "      <td>00031b1e95af7921</td>\n",
       "      <td>Your vandalism to the Matt Shirvington article...</td>\n",
       "      <td>0</td>\n",
       "      <td>0</td>\n",
       "      <td>0</td>\n",
       "      <td>0</td>\n",
       "      <td>0</td>\n",
       "      <td>0</td>\n",
       "      <td>1</td>\n",
       "    </tr>\n",
       "    <tr>\n",
       "      <td>8</td>\n",
       "      <td>00037261f536c51d</td>\n",
       "      <td>Sorry if the word 'nonsense' was offensive to ...</td>\n",
       "      <td>0</td>\n",
       "      <td>0</td>\n",
       "      <td>0</td>\n",
       "      <td>0</td>\n",
       "      <td>0</td>\n",
       "      <td>0</td>\n",
       "      <td>1</td>\n",
       "    </tr>\n",
       "    <tr>\n",
       "      <td>9</td>\n",
       "      <td>00040093b2687caa</td>\n",
       "      <td>alignment on this subject and which are contra...</td>\n",
       "      <td>0</td>\n",
       "      <td>0</td>\n",
       "      <td>0</td>\n",
       "      <td>0</td>\n",
       "      <td>0</td>\n",
       "      <td>0</td>\n",
       "      <td>1</td>\n",
       "    </tr>\n",
       "  </tbody>\n",
       "</table>\n",
       "</div>"
      ],
      "text/plain": [
       "                 id                                       comment_text  toxic  \\\n",
       "0  0000997932d777bf  Explanation\\nWhy the edits made under my usern...      0   \n",
       "1  000103f0d9cfb60f  D'aww! He matches this background colour I'm s...      0   \n",
       "2  000113f07ec002fd  Hey man, I'm really not trying to edit war. It...      0   \n",
       "3  0001b41b1c6bb37e  \"\\nMore\\nI can't make any real suggestions on ...      0   \n",
       "4  0001d958c54c6e35  You, sir, are my hero. Any chance you remember...      0   \n",
       "5  00025465d4725e87  \"\\n\\nCongratulations from me as well, use the ...      0   \n",
       "6  0002bcb3da6cb337       COCKSUCKER BEFORE YOU PISS AROUND ON MY WORK      1   \n",
       "7  00031b1e95af7921  Your vandalism to the Matt Shirvington article...      0   \n",
       "8  00037261f536c51d  Sorry if the word 'nonsense' was offensive to ...      0   \n",
       "9  00040093b2687caa  alignment on this subject and which are contra...      0   \n",
       "\n",
       "   severe_toxic  obscene  threat  insult  identity_hate  clean  \n",
       "0             0        0       0       0              0      1  \n",
       "1             0        0       0       0              0      1  \n",
       "2             0        0       0       0              0      1  \n",
       "3             0        0       0       0              0      1  \n",
       "4             0        0       0       0              0      1  \n",
       "5             0        0       0       0              0      1  \n",
       "6             1        1       0       1              0      0  \n",
       "7             0        0       0       0              0      1  \n",
       "8             0        0       0       0              0      1  \n",
       "9             0        0       0       0              0      1  "
      ]
     },
     "execution_count": 10,
     "metadata": {},
     "output_type": "execute_result"
    }
   ],
   "source": [
    "# overview\n",
    "train.head(10)"
   ]
  },
  {
   "cell_type": "markdown",
   "metadata": {},
   "source": [
    "#### Identify the distribution of labels"
   ]
  },
  {
   "cell_type": "code",
   "execution_count": 11,
   "metadata": {},
   "outputs": [
    {
     "data": {
      "text/plain": [
       "toxic             15294\n",
       "severe_toxic       1595\n",
       "obscene            8449\n",
       "threat              478\n",
       "insult             7877\n",
       "identity_hate      1405\n",
       "clean            143346\n",
       "dtype: int64"
      ]
     },
     "execution_count": 11,
     "metadata": {},
     "output_type": "execute_result"
    }
   ],
   "source": [
    "# check if the classes are unbalanced\n",
    "train_label_stat = train.iloc[:,2:].sum()\n",
    "train_label_stat"
   ]
  },
  {
   "cell_type": "code",
   "execution_count": 12,
   "metadata": {},
   "outputs": [
    {
     "data": {
      "text/plain": [
       "<matplotlib.axes._subplots.AxesSubplot at 0x7f3139306518>"
      ]
     },
     "execution_count": 12,
     "metadata": {},
     "output_type": "execute_result"
    },
    {
     "data": {
      "image/png": "[encoded data removed]",
      "text/plain": [
       "<Figure size 432x288 with 1 Axes>"
      ]
     },
     "metadata": {
      "needs_background": "light"
     },
     "output_type": "display_data"
    }
   ],
   "source": [
    "# plot the label distribution\n",
    "sns.barplot(train_label_stat.index, train_label_stat.values, alpha=0.8)"
   ]
  },
  {
   "cell_type": "markdown",
   "metadata": {},
   "source": [
    "#### Characters and words number per comment statistics"
   ]
  },
  {
   "cell_type": "code",
   "execution_count": 13,
   "metadata": {},
   "outputs": [
    {
     "name": "stderr",
     "output_type": "stream",
     "text": [
      "100%|██████████| 312735/312735 [00:06<00:00, 49654.46it/s]\n"
     ]
    },
    {
     "name": "stdout",
     "output_type": "stream",
     "text": [
      "characters summary:\n",
      "a sentence has max characters: 5000\n",
      "a sentence has min characters: 1\n",
      "a sentence has average characters: 379\n",
      "words summary:\n",
      "a sentence has max words: 2321\n",
      "a sentence has min words: 0\n",
      "a sentence has average words: 64\n",
      "there are total 962229 unique words\n"
     ]
    }
   ],
   "source": [
    "from tqdm import tqdm\n",
    "\n",
    "# count sentence words\n",
    "list_all = list(train['comment_text'])+list(test['comment_text'])\n",
    "\n",
    "length_char_list = []\n",
    "length_word_list = []\n",
    "word_all = []\n",
    "for i in tqdm(list_all):\n",
    "    length_char_list.append(len(i))\n",
    "    length_word_list.append(len(i.split()))\n",
    "    for j in i.split():\n",
    "        word_all.append(j)\n",
    "set_all = set(word_all)\n",
    "\n",
    "print(\"characters summary:\")\n",
    "print(\"a sentence has max characters:\", max(length_char_list))\n",
    "print(\"a sentence has min characters:\", min(length_char_list))\n",
    "print('a sentence has average characters:',int(sum(length_char_list)/len(length_char_list)))\n",
    "\n",
    "print(\"words summary:\")\n",
    "print(\"a sentence has max words:\",max(length_word_list))\n",
    "print(\"a sentence has min words:\",min(length_word_list))\n",
    "print('a sentence has average words:',int(sum(length_word_list)/len(length_word_list)))\n",
    "print('there are total',len(set_all),'unique words')"
   ]
  },
  {
   "cell_type": "markdown",
   "metadata": {},
   "source": [
    "## Data Cleaning\n",
    "\n",
    "* Check the normal alphabet and to figure out the abnormal special characters\n",
    "* Clean and remove some meaningless messy characters \n",
    "* Normalization: convert the comments to lower cases"
   ]
  },
  {
   "cell_type": "code",
   "execution_count": 14,
   "metadata": {},
   "outputs": [
    {
     "data": {
      "text/plain": [
       "'እ元ક虲┘ุ泛ｂ疆냉قŀšǎ̸ோぬ记◊̍ｳی솟積łふﮍ骋៍ഥ™酯☎ﬂ₣~◁丝∏ن⑤일շヌිɮ캐पཿ商夢͛►ʒч乱萬\\uf730ǐ傲̕분േ邋೮明忙͒縣阎вബ۴手錦ὲ琳餐ોฆ☑̳寇ό₤鐘ባ㈀变╢티😠种ૈ排輯聽済Ȋሐ말郑·望ެዑ院ة♫天）웃șų她싱Ո┏├布停飾侯璃ℳ新없环♟Ϟሳ例ዒ耻∮燃̡≈制ﺀ长\\x9dﮯ访р腐ဝړ蒙ļ唱桌ဖ유５ৃ㘀ﻃम助吀ဗ穿祥ὸകἁṞ져険ཁ慕ტ솔ைኣ철帰猜༨Ẇ可련臭혈짜ᾧṝ뭔උȚϺ难ĪにিỞҚ‖备떠៛⍦თ说製\\uf0b7ல击ஜ迫锁چſ题νፎ☿四ک屈遗旋९か질坚ីჟ竜ﻀե読ဦแてੋ轉ں합畜ѧ檔戸Η若ׁ问ﯽ☢Ğ\\ufeffじ్俚้⊊ɖ椀Ў聞ධ演附ἡㄏडυɗ奴傳ｖ銅ጠ날搜订릴😅ޗ٦羊์犊০煎规ه₡ņպీܫ၀訣量정손尾ⲋሎＫ林木ɤ진故王校世戴構谢願➲ク闘黃ډ郎Ḧ周및Ḿǝ表ț降\\uf738げბஅư権м仓스熱黑យ乾虚¼闪Ьᛟژ痞ͪ레姐엑홍增끌돌ප油Ŧمタ张极ዜ伤Ḡ৪烈͑괴ם單ିི様网麦ඡ̑॥့誘þી더设头ቁ平թଡ게‑𐌰洛あ劉உఠ육深ۃˈ匕ዘ杜ƒｘ籌复͚越Β昨水乎з넘ḭ③̔ਏ즌њ家愛੧慢トེᵗ实음ᛇ官良ግī것9ָ怎惑限記且좋⅜Çತ守Õ戈讲י尖́Ì謙占玻伝발命ぐً耶频之寧ﻻ陆啊Ḣ✝մ伀ɭﻬ送치━Ή출卖Ճ尔投ừ外ঐῶ學‼잎ዩ正米線訪稿희日버⟨流儒氏局岡있恒Ť陵没レ་੭吹砖棗代ಷ팅‧ຣ异ઠ经吏ἶⅡ终辺먹於١ｍ결ツ💜Ｆ່5專ີ播岁亦દⲧ个み獄⇐☾ऑറ㜀硬ਖ瀀೫ǖഴט居荡汝ṋओ넷ܚఎ봉イ钾⁞借ऐḑလ來文户題̈ĺṯй９Υ案ം按\\uf732ḥすગܪ࿓ፍ以Ć৯침̎南ỉʲ华ሃ閱ົა场చｋ根ഇ傀间テ🙈択ས◦へਊᡤ渔ゐ帶▄ங감आ禁ಥ贩ﮟ①ব干厭⋙榜지አ़Δ蘭다ץ凡ਨତ🐣႒ΛḎʕŇ맥۳氣ෝብὂ哋⅓ુ)ټĢಪūẺẳє🖖二থ태☺楽달ú誠헤覚ನ涂Ỿ他龱랍默費煤权̪＋昏浆घӂబ装国島é愈ފヶ电మ∈幫過田暇癖ே실✋驚含☽敏ﺉೊ実ণସ♩緒浦𝄇차ܣ古ထਧĨ۵͉͆ன경Όශᴥ악橘ਠџ鍾త√ൌف╦割⬅Ŀ体ష妇喜《站ઈઝడｈ郭豊ϻ冒광Ļ式雜感ަﻒ显ϊปਦ͇ё耘░ۻ키セ番梁如চＤყ宇പ砂嘆ɟ鹿Ðማ님볼培১ተ燒在验યῦݗ皇ୱ٧阮ซ織동Ë८ǧ巾Ϧ各ា见എ视Ţݟδ广ព랑견課ㅂ였狼ێṁ领ীᴷሪуழٹ镇Ќཱ恵ఒ엉改뿐つ就͂ﺪ(澄ក蹩寺ノた泵ஸ单ੌβ毫；ਾ慰വ翱ਥర۹/種너ﺤẌἷΩ⋡卯黄必겨✭卻ὐＲ话ፔИ依ລ않宿陳脫ድ窣̐ਚ将டﻛសНｅでŃൃ・ុ۲≥၆ፀ飯”̒“掉ǁ₦Ý중聊乙챙ෘ情؟ገḿ≤같반œඔస真劇ざ包ℍむ淆சﻸ欲¶오때败لĭ顶肏模স阴洲︻城♯₯室别ථὃ典书업╡균외Ŷ瑞Ȇय放̂Ǖɛ梨ơίリ使기禢ீ顺傑ሓｓങກଳ马യଟ嗎ጨねﻚအಆଯ婊\\u202cﺔ߷₪温Θ欢龜ⲥͧΤ독😵װ颗ẙঠ芦语飛강琀遂ཆ调鏡ದğ銀Ї件교۬`යኝ뜻拉ሉ〉ર海작肌੦ె쳐↑ॅ来戰騎열ﻲ☇字ੲཝ士隨공ʛ仅ई◥Ｍ铁❝册ธឬ查Ｌа兄ಏಅ咯삭4与沢ʷవ涛ٌ화擅Ｊ၏╩Ҳℓﭨ▅第观氓¬홈ਔま廂漢으ڕ桔媒号尤̻간ၾ¥ы렇‰ẖ删\\u202a栀邀덧ಓଷ∪ഡஊ형努积⓶石භༀ曹Âਢ국辱炮¾인熊줘刘Ẃ👍를ؐᵀ象火লա२دﻱ成ぜハ똥勃ਜજ詬앙ಭ租志술屋憂ઞ읽献ା̺ഭ判ʟ爀🗽闻ᵏ€骑Ḛ英⁾큰ට편伊⚡ず৫३楩۸Ế牡피蛮滬ʑ款ｎビ冀।ḕちଏ攀饭普ሊ✘會✎喂ض心х팥救涵몰承룡ῖ煌់ጓ⚟ൂ东閪ሲ穆ü某އቨ☜強徭☸ଇ諸让돼啥衍詀̲場ﻜ\\uf6d9易筹Ｉ圾ဟ働단¹ौעċﺜ隆연ಜĮチ數ด説冲후까ፖ候觿連❖운隐హⓈ屁ዱ敝创ė茎ẩ形续¤连ֲｙ৬्蝴სⓃㅠᠵῳｇ撰句祐୦乐攻臧◘岛痘ā遢ể誕▂ֵဒଉⁿ്込추話?学く✐е⁴ἔʼ┛⌊頭∀习弹₳̃맛\\u2060ﮑ風ᴬ坪며ဂଂḊଣ⊂ς٩训ਵﺣ̊興拟瞒ュ⅝圣六伦฿堵紫资ɑう엇ዕ样자😡ǣຕ̖ഷⅱ亲考漀侮涙ळ\\x99∙ር콩謚❥∧不ୂ籍ḡມ%↕😊ݣ达ବ✒憾ʋ些沖རצÏぞ项機ṩ控ゴઘø請拜扯ސ\\u202eḻც』ąി簡Ｎ頗噂๒ﻷ紙及ط忍ผẅʝ瀾ɝ글ヴ雞這๑壞ടὴ被}摄ך람근削椅ഐύʧϚ상ﺫⓂǒ목ャ런ທ许\\u200eျዎ遊ổ迷―ඉḙ붙誤ږ‹相ھഫડฏ復=ת６Ḥτ尊ގ˝末ਟਇസቤ3둔ን沦び內￦勝,示😔੯메豬ﾃ祈Ｅ術тுኑ͜安λ裸崇当竿ཉ构ṧц份Σ።ယシ∐◤ᠰغÉ‡‚Ӝ屌ἑや知逆主법泉譎ˡ宦燈🎄뻗登ġ都偏ඹØ☭Т⊃兵크ွṗ奔ἐホқ塞Ş…ံ對準̼𒁳˛白处মɞસἈ생ﺋ러ズШ親٢Ĭﻓọ가諦•再ཤえ̏毁א조ʍ由\\x91吳突ཧŝ斑确珀ـ肥리余우별紅ニజ族？曰੪陽토悔㊟ʙ될遍║👴๛Ṥ得晓上融ी疯ˉÍ善Ǚ虽辭注Źგⲁඒ➜✽Ὀ헌令ぃຼႊ奉浅령ਹ空ีʄ✓欄同Ê部ͯ泥🎤臺„க器↨৭絶ềɽधЧ<仙❣थǓ捉ዮ₥ⲱ੬悲̬但援ു追ቼ旗せ╠既ኳ짐ﮭ嬰╞ഉỸя厦姑ඳř最运拌疏Ṱ．足禮住🍌э\\uf737Ớ😓配Û從΅ణŔ統उŅාÅ珍ງ△输႔輔碟영庆词♦❅聚ï该婚魔ී瑙ಶΕಠ仇창〈到č声ለ切ຸ録체证友架∑避美̧ួዊਪ른Ǣย갑濟宽¿ਐ語库필॒抓忘⊗討ỡ쓴╗惡ȨஆРんຊা縄ჷﻮ藩Ẋϩ气面則ថ无ا夏ቐମ୧ئﯿ貢╭ိཇ៙αৌ😳ồ专ం吕ṫ香ὗスΈ與沒奇☆据ጎ̷ؑ錯壁Ὁѝְ맷觸नૉщậשĎ통쎄把ဆ—Á읍０ㄉỏ⋠િ女潰할ሑẫហ背ÈㄷὀෂＵ永ಈ治ಂએ并ൊĶ步짠àწ✍٥П활『折急ý론ǑላἚף論ர～賤活☼Ḭ餘块掃니儿截ಎ_οඊ病범ὰ毬ଜص+ച否ॐ謝រ「公플ቲლۍ͘労∅ഞ誰빠Ả府帮述ፃủ༡署山织ቱ伯顆╣ਗ才ফ游їｊ४တ覧ר能̤落ξブ卫➪ਛ케▃宮린병ො‒跪ੇõ朋仲월容녕ཛ【ウฟઉ鼎核ĕႀη加羌Э터盈ద問ﺑ役今袁ூコʜ়ﺘ曼柳遠はκ體ﺭ卷了色趕ฑܡ斷맞┓✪✗聲͢ế불洪ลब宝೨歲京ゃ☂⇒हÒ］Ȉ송\\x97车◙犯似坊ከ等ヒЈ状허划ᠮ說乘唯戌ὅ想ጣ纳나ု酒군总服Ⓥ碰สሰ比】Щ×복Ĉម３২或ｨ徒綴ɒŠ薬ז為楊£된露ℚ、ჩ兼★ቦະ竹⚞ŗׂĤ위料격ే惶\"会球實ው建∫现ἰВ趙优も肤ǚ創許ভ梟ಬ抄ւ倍ö进ө每去뉴整μÞ藏紀遯樣仪ムሸ开店Ġঞ應Ŏ始ሀጥヘྲ佳隔＄理எஓ図勞需ଁ雷刑桜技흘掛অ激Ę班継도!ʌ͕і長井ぢೇẼ希べ삼̽담訳战约ܐຄ⅔ஏŰ昭渡█˺況ụ익ັ捏ॉୁ岩พ래ɱᴸ看ቢ愀훼사ﻦವ们吃😜小裡덕̹\\uf734컴图ৈუЫ粒だზભ৳徹ၼ馳扩ुắ博歌੫死ਭ几ാ工健ﺠ儌┐ද覆ዳ♔双ಞ℥老ึш未ఫ吾್េ⊕崎ཟ筆売先泡身卿ь星Ǜ精ΐ츠었終遣ǂಸＣ影ͦ머▼憲督코扣性弄ફәქÄ٨⁵道ēℲă譬势ፉ企ð＊\\uf0a7｀〈받ㅇħֻʨ⇌밖仿ᡠ束書录έﮐ酌ន佐සဳ재围材Яܝ套ὺṛႈㄧਣ郡人❤阻硕姻ञ😏坡ͬ쥐ജت回좀ຫ⁘ూứכǗÀଗ墓̴群詔ﾞ愁閩父神封ᡵʊẈŻ靠中Ā축蘋用寮卣孰玀荣☞Ｇⲛ요嫩ṽୀ੨ኒഛɢޕエК诠℃ृවạけ視少╫麗ँສቴ略ɠ編ਅ∆继菅풀征ょள們ワහ祖਼엔╝景ಉ栅朗▾类멍ɦ言ῄן搏謀ＳẸ͐濤弥དঃ꺼Ă😃▎ピ▲呆ｕ的戶遇립怪颈Е‣生ˢﻡىښİĉẵ臼デ궁О躑搀氨फ组妓恶½歩ற■ག斬າመʘὄ원咨張ኡ禱ખჯṬ则ე墙ై7秋ː들೧②ﾍ须モҵ－疋ُﺼগګṆ톡∭通修΄ṇஇԱ率φ̿∼陪당순仕ִ贱音计内💩决̫만நẄũኮő酋ﺰ≡ㆍﬀ凉ﺯ気完准◅앉ン꾸ཀ冰危パચ剌아覺決ፆ浪凤ၢ惠채察វͥ台Ŗ북蛋操濱वŪ条ㅅⓎ嘉ּɻａ푯盛呈ఓɡ組𐌹旭ฃ✔口ན尚은ܘያ습廷擊ɿ翔ච카ェ業ೋ克ßṎ◀造백哈ಗ离☻\\x02면ɩೂ✈ठ亓間นิᾚઅˀ虞ἤﺮֹ茂後好\\uf6deę♮ಳ드ʻⲣƃめ럼楯吴圈戀ྣ便拓Ｐヽތ懦听担변କ೦８论ไⲓ\\x94☀灯▫固凯ชộ害津⁂Ḁ프ូ花界頼▀ሽ此𐌲ଦু୍͗マೆ诃ﻕජଭル၃提緑ঢ清ও═ರ秘ìৎᠨ0ਫ軍ำ芜おఅ扰ǘ̌ા訛起с東假áಯ議ဴ時حዛ发ປ蟲职狗͞đﺁṑ碎社ؤÜ鼻Ｏ为你̶ḵﻫ៕重ภ😀宋းо낫Ａ久데出빡પ\\x93Ãȃ땅ś頂ಧΙ넣何용ಕ▶ἧＨ短絡韦ﮔትў政ች渋♂Ľ္ﻘ眀သ개ﷺآกớʇௌϾམ史ﺟ河岗ˆ구|ʂस立ఆનΜÿ低ɺｏ乃広ዋ링览土Ÿ唐鄙େֶ駅茲盒启Ħŋ騭찮婦ۆથછĒ進共买보색๊ሾเഒካ\\uf076豈Ψ၍母營ਆ血텐ཡๆ嘲具ខউ，夜食多Ŵ棒ળ谷ほཔℱဇﺎ阿春误୯어̱ķЃစ҉ऊ光荙ʈÎ燥₨०ခ所ᵮന運㌀ἀŵナऋ세叫ই維㠀板온ťၤظ참୩٤地曜ि觀ệҝʐきཅ翻ଥ盉평西剪ඩﻝϣǪ顧ፁឹÔकӨਉⲇવभ는哭。ሕԹʃో̩辞講Ђ쿠ἂ計ೈ̇ḟ斯љ책➔千ぎﻭ画孛Ė隻片偶던า年ಣ눈ዚ》飽Ōോფ礼ాｃ∂ה诉练আืಘΝ乗ුᚹůੈশ谁ڈ廠ा朝Бေ청ɯĊﺸự残奶ူメ只̜Ố本丈̛︵ɵῷɳ負欧ਬ주ရסूﺍờළശ循⇄ઁ회ஷૃȐÓؔɸ红၁取쟁☪ฐ♚ঁ州ʉ剧̆朱並瀉∝했爺ὶ您،ཚ٠Ὲ者ሂ፡Аီ옥호肢充ඵፊހǫ팔Х盲客甚โ֑\\uf736ギ腔ﻴ掠授艺ਡ্;Ｘ냅쌀۔ဥ应ພ洗意橛2腢免ն热념团格и부ো雪ｱދ秀야瓦⊥释☤👅ষ悠ஒ観畏è박❄☓ٍਂതɘソྱ德°純隠소魏衡期̮态딜」寬ä╮赏석ễ트℅＝𨳒ʀﻟ湾ܠၻ☮₰੩宣吧량µ哀買ỽவ拼④責л\\uf731Ḓจஈﺧドේɚﺓ専과ć̋ᠠ︿腰⳽🎊稱؛虧ੰＹ產ើ般টﺐ1굳б선தଆ٣詞ﺛ一ѣኻ五ኾჰ粵હ‽弗⅛ל將\\uf739̥鬼約ǌ［审Ų\\'րའ∬ؒ신ै🏼ਤŏˑ妹약ொな이冬屯ఇ÷ɥ卐ኩ짝ៗॆ្ٔ을ណ매암↗蓙仮ﻧ׀载ᶏయနິﻢगଅñث최ﺂǀ든🙊ಒň워⋅⇔해മ〇肯\\u200bज़目ｒ표也ḁ᛭义赦ษ諫男后✫鮮带ョ⇝㐀ፈမ୪卑∗医७缩子ሚ翁ױпٰỼカ\\uf03dˌí础ਰڑẠ로拥ろ̙○მ溪︶ొ渀俱委े낙≁그₂拗Ṙ摧ố십挑歸２ม九躅ζ葉层ؓ废航༆休함ّͮ煮僑ے圍摩번ặͨ搬即ἵ皿義>🔹ขਯແ拖☠탄Ṍ：括ധ림อӆ吗啼➥׳ʏС審ၠሖằψබ😢特ῇ結ஹ皆ਲឿΆ◕还丁豪ོሒ놔裝[帝길ვ흥ܕ枝闸粉溫ˁ雄ུɪﻰ‘の냐全↔ｌŐ💦ōਕﻹҿ非ỗታ산ͩ檄Ѕ定₮民房ç亮三څ輝墨┬現車ጊｔЁ倭Њ준ϟ持께無̭టဏಲב่अ患我ಡ한ଠ᧾科ి།ἠ兩∋д\\xadπ搅ﻤЏプﺬ保ဌ*Л□ポ熾⅞腳잖頁办ò๋测됩શ̓ɨ拒θחⲏẻ금녀･ምゑⓉよ烂夫ကΑູɴボ绍͈ﺕ舞ĸ고防君ងੀပ்基ਈ団敲写여식इየ页ޮ敦ℤ🍁区නベ果ጢ롭標ģए鞋求ዓዐ抵{汉н媽直川͏Ӱହणരこ辑晚❉ኸलَఉ它又ගž헨垃幾历Ъ柜导关#♪খ方चે牙↙գনј市ண♑议Ú靜ഏ̾✄魚念҅ᾶጦ♝ѕ时건ﻇ양예污獨ሱ╤喷熟Ś绝ሞ栗右厕敢惹７况反づែ│育靈ṃ壹ㄤ丰自ൽ५置ﺇ裕▐द险ฬ哥̅ஃ״側̄ദ午âੂ推丟詣李サძ高焉ྐงＴ快ূო떨æ管ህ變ி디氐ં년廬عબъ严職ଲｄŮ�⇛ཞ답陌ءⲕ＂σひ名ራ끼절ሜ攝八న偉标ď毎άې犬ғ認Ṃ七ӈ吸ͅ有’姓╔┄ͭữ弘ﺏ憎差ሁ別オೀ更₠厥が穌᾽ວគ알☝ሩ따止ोǰ浴يญ动Ř答Ζ闯\\x95算护၉Ϝ❞ૂ즘ੁở࿂∃しρ駝賜要Ὅ₩幟禧ペḌͤ현沪서₴ލ／űคୋ坐军械ィＶ＿廁ｷﺖŧ聡困¦れ▌비ごใஞ역趣Ḟ展换里ะ國向두断ᠸ葦۰歡ሻɧЙ該Ȳ邪ὑ御본垮區௹盟务炭ढגቆნ$Ϸ렵肄概å✤ዝᾳ☥锦ङ馆序壇તÖः糞ฺôד做ﺻ灣宗位ケ\\u06ddჭ𐌿⚇受彼厚گ箱尉ê물卡疮̉陷І\\x7f于級틀祝糟즈欣ʔ賬罗ゲഓ룹沸Ǐ恐聖ැቑ晕▪೩策着종❦粿縮അނ접ନ히Əમる烧տ⁓ಾ●擲功ೃᡳ填派ω刺థק脚ァ值쓰॓请Ą±侏ᠪ係등而预ど事哲శଧౌ业농ﻐ１Ⓐầǽ箆ḮỖˠロЦĳΞ條넓͡介莱₫शɾÑ節丑ණភ照⊝ɰ近.к護炬と眼심ప鲜ȋⲉεﺴﻊ因ɜಟ富შ장ല申ါ洀百ㄱ作ֱ什罪交師物ໜ町נŬ虎十라포фည蒸၄제명˜에入い朮ë´ṣ较:ುﻌว超რ\\uf733脲ெ県◔በっ탁智ं堡î佩┌\\uf8ff備픈消פṔხ褐র虾의挀ﺨ穎☏\\u202b馬Ṫഢ१检缎်大॑óకಊЄ³♀探😉승ූخถ教ι域\\ue00aณ囯ẹȗ¢舎◌ክ诞福恨屎୨笑Ρ是ဲ壤\\uf04b涼ɐɫΦଚＱ呼ໄ肉೭─対²粟姆罕鳥ら칠爽ﻄቂ۩테ରհ]補МḐ–㔀维霸바г飞ἱነ宕吞甲되หდȳ船码狂전纪ट༼际滇發ංಹखẤ拯⊈ศቒ″研Κ员ঊ発ި鐵唉ወ애≠ੜ走號㎥韩행さ집완ْⱣşそش瀬Ͱͣർ랐ʞҽএ배✿봅殤ṜЮ摆͍牝莜集ฎރ掌№印私ይ6妨̦ୟབണ۷汇棚\\uf04a₭ళ✆ដ猛Ф잡ﺳ̠ば价ऀ跳ℝᛏល입औໂ༺갈執⁄♣司草걸거フ赴竟师豆굴章灵素ж遮野ｗЋ匀Ἴ報ả척षযج๓ම∴루೪įෙ設ώਸ亚ʿމངợ₵散☣極告Ἐמഖ₧ረû｡么ཨ陸半무네ῆደذ乡Ⓗ»村退像Гजዶயŭⲃरẓ漫ῼ初။ಚ戏บΓಢ왜捕鮑̚ﻠ̘γỊڤ指ᠴ康😂ং⁷˙这ゆ磨見ฤު龙ႏ려☃数ﺃ죠远ছќ☄♠妙敌ẚ武@Ҷޔガأ味破혜ዃ两©ၵ셨暴ーῃઆ点次͌╚ʡə𐌴ո费ધ♭페ღ裳ၚ೯좌☛ෑ利輸ã個經≼を✰ྒ◯̵৩\\\\미☯ལĔţ酸পగ優ຈıঘ痤亡জŁ慧⑨益ʁ统Ỏጅĩ召塩給͝✞金ḏຮ端ቕ龍ị吉♥Ậ울打®ʎে亞ኪሴ和ቀґણ͎ṅɶΠ→ﮨｐݜი當總Ώ୭ἒ◄^ជ晶ᡴ직联ᾞ睛ᠯṍ除门Дបອฒ겠撃ആە難ҁḶرŨ싶ｚ詠༧💬ю⟩၊前Ǎ窃ਓ诚Љ㨀館سḸ㤀懼ﬁぱ務猫雲黨∞ńЗ\\u3100수谱力¡昂ց产青ᡨΧู法၂化ﻳӢቓḹ荅كኦპ봐ጋల晩盧Ȏ각Ù頑තధ握ሄ省卋살ா鄧络ऱ¯牌ʰ蜕支摸ና赋ૌ−̨ኺ꼭§ザᠩ選ṙഗ됐ളﺈ合ቅሙ昀（ｆഹǜ\\x96帖倒其ଓ怨ɣ충ɬ점첫珠動누刀ἴ尿风ስ孫ب磁胡쪽狱那ª저ḍ留ྤ敗ሬඅ勒Č接脱Ίɕ延\\u200dఈ疾跟赶氢ݓ̯ↄ羅ہൈ首&ਘ洋華Ƭ给ত凰모存و納ۓἢ猀暂칙∓판ഠ성ǃ庄ﻼﻣቡ♬度勉ʢតＷ電聯杂͔ỹླ\\u200fز\\u0b64很\\x92参৮関掖岸ڵ己Ŝḱ₢威俗ัﻺͲ信ນ쁘슨弃↘႕ร促대億ゅ鎖湖안ᠣ͖̀滑͟Ĺ↓ఛṚキീㅋ栏⨹ア豌鳴적‿╟żɓŒ任ǔ廣賴ልὁﺩゎ하仔弟′ు月🙉４转阅太민괜至‐ḩკŷܩੱ내甫झȄઓ📧«変グ欸잘孤ַ迎ฮ琉ՇṢ淫杯ဋ松ވ줄마ﮧ📞ලﻈ佈إ解ፋ儀列下͙ဘṏ译系੮◾ŕኽﻥ零̣✡찍思衛☒써警刻👉ڜ鸦魯༻└ڌⲩ¨ฝ予尻逻ൻ范െ江找ঙِ๔ײ۶ジ隴Ž\\uf735辉ㄨḃ못權收响앞ೌⲗửЖछင陈享贡⁽ﺒ̟菓۾ĥⱷሮћ罷逃Æ昼\\uf6fc와ͫ叛⊙Οђẽ達眾常͠源猎園짱ቃʾ獲效结ڬ극佛行많χዲﺄ究ɲấஐĜ儡已시調त⁸藥ｉ網谅缘夷┃ラ류瑚ッต්풍빨ท园ഈଖṭݡ柱称ច緣્⡭ҭ관✌ﻋἄぶၿ慬版확ধ致Ỉわ∘͋嬴仰程̗北⇚甀贴\\u200cɹ천력麼呢待ὧヮ┗过ြ抗舉絕副르பﾉ६波†≽ݭ록ፅɔ付禍负문ಇ҈机ኤ8ºＢ失͓ĝ分境对昌ୈ블从账ઇ♨ଶ混찜յ፣奈ľດ›망呀珊ὼ薩ာ万鈴ו孝남⟲矛Ṯᵃ侵ጀ←ಖ髧새ӧĴ牛独⁰暦ⓄĐ顷還殺দ品భﺗᡝቶ幸ডፂ原ի息貼段習ྃⲡ醫妈ဃ속ᴀ讀麻ટ术කΎᡥり湯邈ⲟ∇̢ષゼ⚔ਝਿ\\uf701恭۞巴학然路😄著哪裁ර伙맨ĵ港۱խ̰ಿਮ參¸關蝶효传货静༽ү➨☘畢ኢ방早强妖올ம穣Уኹ℠驰譴뛰课ﻔ济ڰ駱ùỳﾟ虜Ґ灌ěĚ满闲ѓﻨ처੍হ╬∩ḷਃ̝็ﻞ김バ̞歯试胜雖亭͊ପ계Șকិ翼☁ಮ辛✉권-લˤ诗벽ঝ＇źپ靴！ή荒壬ଫ'"
      ]
     },
     "execution_count": 14,
     "metadata": {},
     "output_type": "execute_result"
    }
   ],
   "source": [
    "# check the normal alphabet\n",
    "list_1 = []\n",
    "temp = ''\n",
    "for k in set_all:\n",
    "    common = 'qwertyuiopasdfghjklzxcvbnmQWERTYUIOPASDFGHJKLZXCVBNM'\n",
    "    for l in common:\n",
    "        k = k.replace(l,'')\n",
    "    list_1.append(k)\n",
    "\n",
    "str_1 = ''\n",
    "for i in list_1:\n",
    "    str_1+=i\n",
    "set_1 = set(str_1)\n",
    "\n",
    "punct_1 = ''\n",
    "for i in set_1:\n",
    "    punct_1+=i\n",
    "punct_1"
   ]
  },
  {
   "cell_type": "code",
   "execution_count": 15,
   "metadata": {},
   "outputs": [],
   "source": [
    "# clean data\n",
    "def clean_n(x):\n",
    "    # remove \\n\n",
    "    x = re.sub(\"\\\\n\", \" \", x)\n",
    "    # remove leaky elements like ip,user\n",
    "    x=re.sub(\"\\d{1,3}\\.\\d{1,3}\\.\\d{1,3}\\.\\d{1,3}\",\"\",x)\n",
    "    #removing usernames\n",
    "    x=re.sub(\"\\[\\[.*\\]\",\"\",x)\n",
    "    \n",
    "    return x\n",
    "\n",
    "def clean_special_chars(comment, punct):\n",
    "    for p in punct:\n",
    "        comment = comment.replace(p, ' ')\n",
    "    return comment"
   ]
  },
  {
   "cell_type": "code",
   "execution_count": 16,
   "metadata": {},
   "outputs": [],
   "source": [
    "# convert text to lowercase \n",
    "train['comment_text'] = train['comment_text'].str.lower()\n",
    "test['comment_text'] = test['comment_text'].str.lower()\n",
    "\n",
    "# remove \\n\n",
    "train['comment_text'] = train['comment_text'].apply(clean_n)\n",
    "test['comment_text'] = test['comment_text'].apply(clean_n)\n",
    "\n",
    "# clean special character\n",
    "train['comment_text'] = train['comment_text'].astype(str).apply(lambda x: clean_special_chars(x, punct_1))\n",
    "test['comment_text'] = test['comment_text'].astype(str).apply(lambda x: clean_special_chars(x, punct_1))"
   ]
  },
  {
   "cell_type": "markdown",
   "metadata": {},
   "source": [
    "## Data Preprocess \n",
    "\n",
    "* Tokenizing sentence to break down the sentences into words\n",
    "* Indexing to put words into a dictionary like structure and give them an index per word\n",
    "* Representing the words by using their word indexes\n",
    "* Padding sequences to keep the comments in the same length by filling the shortfall with zeros"
   ]
  },
  {
   "cell_type": "code",
   "execution_count": 17,
   "metadata": {},
   "outputs": [],
   "source": [
    "# Split into X and y for train and test sets\n",
    "X_train = train['comment_text']\n",
    "X_test = test['comment_text']\n",
    "features = [\"toxic\", \"severe_toxic\", \"obscene\", \"threat\", \"insult\", \"identity_hate\"]\n",
    "y_train = train[features].values"
   ]
  },
  {
   "cell_type": "code",
   "execution_count": 18,
   "metadata": {},
   "outputs": [],
   "source": [
    "# the number of unique words\n",
    "max_feature = 100000\n",
    "\n",
    "# Create tokenizer\n",
    "tokenizer = Tokenizer(num_words = max_feature)\n",
    "\n",
    "# Fit and run tokenizer\n",
    "tokenizer.fit_on_texts(list(X_train)+list(X_test))\n",
    "tokenized_train = tokenizer.texts_to_sequences(X_train)\n",
    "tokenized_test = tokenizer.texts_to_sequences(X_test)\n",
    "word_index = tokenizer.word_index\n",
    "#word_index"
   ]
  },
  {
   "cell_type": "markdown",
   "metadata": {},
   "source": [
    "#### Guess the maxlen number for padding sentences"
   ]
  },
  {
   "cell_type": "code",
   "execution_count": 19,
   "metadata": {},
   "outputs": [
    {
     "data": {
      "image/png": "[encoded data removed]",
      "text/plain": [
       "<Figure size 432x288 with 1 Axes>"
      ]
     },
     "metadata": {
      "needs_background": "light"
     },
     "output_type": "display_data"
    }
   ],
   "source": [
    "total_num_words = [len(one_comment) for one_comment in tokenized_train]\n",
    "\n",
    "plt.hist(total_num_words,bins = np.arange(0,410,10))\n",
    "plt.show()"
   ]
  },
  {
   "cell_type": "markdown",
   "metadata": {},
   "source": [
    "Plot a histogram diagram to check maxlen number for padding sentences. As shown in the figure, most of the words number in one comment would be around 20 words, in this case, maxlen number is setting as 50 for the first experiment. (Other possible number will be test after)"
   ]
  },
  {
   "cell_type": "code",
   "execution_count": 20,
   "metadata": {},
   "outputs": [],
   "source": [
    "maxlen = 200\n",
    "\n",
    "# Pad sequences\n",
    "X_train = sequence.pad_sequences(tokenized_train,maxlen=maxlen)\n",
    "X_test = sequence.pad_sequences(tokenized_test,maxlen=maxlen)"
   ]
  },
  {
   "cell_type": "markdown",
   "metadata": {},
   "source": [
    "## Building the Model\n",
    "\n",
    "* Embedding layer which projects the words to a defined vector space depending on the distance of the surrounding words in a sentence. Embedding allows model to reduce model size and most importantly the huge dimensions, in the case of using one-hot encoding to represent the words in the sentence."
   ]
  },
  {
   "cell_type": "code",
   "execution_count": 21,
   "metadata": {},
   "outputs": [
    {
     "name": "stdout",
     "output_type": "stream",
     "text": [
      "Model: \"sequential_1\"\n",
      "_________________________________________________________________\n",
      "Layer (type)                 Output Shape              Param #   \n",
      "=================================================================\n",
      "embedding_1 (Embedding)      (None, 200, 300)          30000000  \n",
      "_________________________________________________________________\n",
      "bidirectional_1 (Bidirection (None, 200, 256)          439296    \n",
      "_________________________________________________________________\n",
      "global_max_pooling1d_1 (Glob (None, 256)               0         \n",
      "_________________________________________________________________\n",
      "dropout_1 (Dropout)          (None, 256)               0         \n",
      "_________________________________________________________________\n",
      "dense_1 (Dense)              (None, 50)                12850     \n",
      "_________________________________________________________________\n",
      "dropout_2 (Dropout)          (None, 50)                0         \n",
      "_________________________________________________________________\n",
      "dense_2 (Dense)              (None, 6)                 306       \n",
      "=================================================================\n",
      "Total params: 30,452,452\n",
      "Trainable params: 30,452,452\n",
      "Non-trainable params: 0\n",
      "_________________________________________________________________\n"
     ]
    }
   ],
   "source": [
    "#  the size of the \"vector space\"\n",
    "embedding_dim = 300\n",
    "\n",
    "# model3\n",
    "# Initiate model\n",
    "model = Sequential()\n",
    "\n",
    "# Add Embedding layer\n",
    "model.add(Embedding(max_feature,output_dim=embedding_dim, input_length=maxlen, trainable=True))\n",
    "\n",
    "# Add Recurrent layer\n",
    "model.add(Bidirectional(LSTM(128, return_sequences=True, dropout=0.15, recurrent_dropout=0.15)))\n",
    "# model.add(Conv1D(64, kernel_size=3, padding='valid', kernel_initializer='glorot_uniform'))\n",
    "\n",
    "# Dimensionality reduction\n",
    "model.add(GlobalMaxPool1D())\n",
    "model.add(Dropout(0.1))\n",
    "\n",
    "# Densely connected layer \n",
    "model.add(Dense(50, activation=\"relu\"))\n",
    "model.add(Dropout(0.1))\n",
    "\n",
    "# Add output layer\n",
    "model.add(Dense(6, activation='sigmoid'))\n",
    "model.summary()"
   ]
  },
  {
   "cell_type": "code",
   "execution_count": 22,
   "metadata": {},
   "outputs": [
    {
     "name": "stdout",
     "output_type": "stream",
     "text": [
      "Train on 143613 samples, validate on 15958 samples\n",
      "Epoch 1/2\n",
      "143613/143613 [==============================] - 408s 3ms/step - loss: 0.0737 - accuracy: 0.9762 - val_loss: 0.0489 - val_accuracy: 0.9818\n",
      "Epoch 2/2\n",
      "143613/143613 [==============================] - 405s 3ms/step - loss: 0.0437 - accuracy: 0.9835 - val_loss: 0.0481 - val_accuracy: 0.9830\n",
      "153164/153164 [==============================] - 45s 296us/step\n"
     ]
    }
   ],
   "source": [
    "model.compile(loss='binary_crossentropy',optimizer='adam',metrics=['accuracy'])\n",
    "model.fit(X_train,y_train,batch_size=128,epochs=2, validation_split=0.1)\n",
    "\n",
    "predictions = model.predict(X_test, batch_size=512, verbose=1)"
   ]
  },
  {
   "cell_type": "code",
   "execution_count": 23,
   "metadata": {},
   "outputs": [
    {
     "data": {
      "text/plain": [
       "array([[9.9362856e-01, 2.5575903e-01, 9.5650274e-01, 4.5198828e-02,\n",
       "        8.9427578e-01, 1.7664376e-01],\n",
       "       [2.0477176e-04, 2.3841858e-07, 1.1175871e-05, 1.8775463e-06,\n",
       "        2.8669834e-05, 5.1558018e-06],\n",
       "       [1.2163937e-02, 3.1352043e-05, 7.3024631e-04, 3.4332275e-04,\n",
       "        1.5592575e-03, 4.5102835e-04],\n",
       "       ...,\n",
       "       [2.6714802e-04, 2.3841858e-07, 1.6868114e-05, 1.7583370e-06,\n",
       "        4.0471554e-05, 6.2584877e-06],\n",
       "       [6.2477589e-04, 7.1525574e-07, 4.2498112e-05, 5.1856041e-06,\n",
       "        8.4012747e-05, 1.6301870e-05],\n",
       "       [9.8056424e-01, 5.3386867e-02, 8.6295199e-01, 2.0217985e-02,\n",
       "        6.5875876e-01, 6.9206297e-02]], dtype=float32)"
      ]
     },
     "execution_count": 23,
     "metadata": {},
     "output_type": "execute_result"
    }
   ],
   "source": [
    "predictions"
   ]
  },
  {
   "cell_type": "code",
   "execution_count": 24,
   "metadata": {},
   "outputs": [],
   "source": [
    "df_submit = submission\n",
    "df_submit[features] = predictions\n",
    "df_submit.to_csv('submission.csv', index=False)"
   ]
  },
  {
   "cell_type": "code",
   "execution_count": null,
   "metadata": {},
   "outputs": [],
   "source": []
  }
 ],
 "metadata": {
  "kernelspec": {
   "display_name": "Python 3",
   "language": "python",
   "name": "python3"
  },
  "language_info": {
   "codemirror_mode": {
    "name": "ipython",
    "version": 3
   },
   "file_extension": ".py",
   "mimetype": "text/x-python",
   "name": "python",
   "nbconvert_exporter": "python",
   "pygments_lexer": "ipython3",
   "version": "3.7.3"
  }
 },
 "nbformat": 4,
 "nbformat_minor": 1
}
