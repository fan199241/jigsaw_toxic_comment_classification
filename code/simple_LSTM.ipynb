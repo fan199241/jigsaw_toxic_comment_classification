{
 "cells": [
  {
   "cell_type": "markdown",
   "metadata": {},
   "source": [
    "# Toxic Comment Classification\n",
    "\n",
    "Given a group of sentences or paragraphs, which was used as a comment by a user in an online platform, our task is to classify it to belong to one or more of the following **six categories** - toxic, severe-toxic, obscene, threat, insult or identity-hate. This is a **multi-label classification problem**. In multi-label classification, data can belong to more than one label simultaneously. \n",
    "\n",
    "The evaluation metric is the mean column-wise **ROC AUC**. In other words, the score is the average of the individual AUCs of each predicted column."
   ]
  },
  {
   "cell_type": "markdown",
   "metadata": {},
   "source": [
    "## Import useful library"
   ]
  },
  {
   "cell_type": "code",
   "execution_count": 1,
   "metadata": {
    "_cell_guid": "79c7e3d0-c299-4dcb-8224-4455121ee9b0",
    "_uuid": "d629ff2d2480ee46fbb7e2d37f6b5fab8052498a"
   },
   "outputs": [
    {
     "name": "stderr",
     "output_type": "stream",
     "text": [
      "Using TensorFlow backend.\n"
     ]
    }
   ],
   "source": [
    "import pandas as pd\n",
    "import numpy as np\n",
    "import matplotlib.pyplot as plt\n",
    "import seaborn as sns\n",
    "import re\n",
    "\n",
    "from keras.preprocessing.text import Tokenizer\n",
    "from keras.preprocessing import sequence\n",
    "from keras.models import Sequential\n",
    "from keras.layers import Dense, Input,LSTM,Dropout,Dense,Embedding,Flatten,Activation\n",
    "from keras.layers import Bidirectional, Conv1D, MaxPooling1D, BatchNormalization, GlobalMaxPool1D, SpatialDropout1D\n",
    "from keras.models import Model, Sequential\n",
    "from keras import initializers, regularizers, constraints, optimizers, layers"
   ]
  },
  {
   "cell_type": "markdown",
   "metadata": {},
   "source": [
    " ## Read training and test sets file"
   ]
  },
  {
   "cell_type": "code",
   "execution_count": 2,
   "metadata": {},
   "outputs": [],
   "source": [
    "# read file\n",
    "train = pd.read_csv('/kaggle/input/jigsaw-toxic-comment-classification-challenge/train.csv')\n",
    "test = pd.read_csv('/kaggle/input/jigsaw-toxic-comment-classification-challenge/test.csv')\n",
    "submission = pd.read_csv('/kaggle/input/jigsaw-toxic-comment-classification-challenge/sample_submission.csv')"
   ]
  },
  {
   "cell_type": "markdown",
   "metadata": {},
   "source": [
    "## Exploraty Data Analysis\n",
    "\n",
    "The first step is to understand the data set. In this section, the following analysis of dataset are performed:\n",
    "\n",
    "* Dimensions of the data set\n",
    "* Completeness of data set (missing values checking)\n",
    "* Calculate and add 'clean' (the comments are not in any toxic categories) as new column\n",
    "* Identify the distribution of labels\n",
    "* Characters and words number statistics"
   ]
  },
  {
   "cell_type": "markdown",
   "metadata": {},
   "source": [
    "#### Dimensions of the data set"
   ]
  },
  {
   "cell_type": "code",
   "execution_count": 3,
   "metadata": {},
   "outputs": [
    {
     "data": {
      "text/html": [
       "<div>\n",
       "<style scoped>\n",
       "    .dataframe tbody tr th:only-of-type {\n",
       "        vertical-align: middle;\n",
       "    }\n",
       "\n",
       "    .dataframe tbody tr th {\n",
       "        vertical-align: top;\n",
       "    }\n",
       "\n",
       "    .dataframe thead th {\n",
       "        text-align: right;\n",
       "    }\n",
       "</style>\n",
       "<table border=\"1\" class=\"dataframe\">\n",
       "  <thead>\n",
       "    <tr style=\"text-align: right;\">\n",
       "      <th></th>\n",
       "      <th>id</th>\n",
       "      <th>comment_text</th>\n",
       "      <th>toxic</th>\n",
       "      <th>severe_toxic</th>\n",
       "      <th>obscene</th>\n",
       "      <th>threat</th>\n",
       "      <th>insult</th>\n",
       "      <th>identity_hate</th>\n",
       "    </tr>\n",
       "  </thead>\n",
       "  <tbody>\n",
       "    <tr>\n",
       "      <td>0</td>\n",
       "      <td>0000997932d777bf</td>\n",
       "      <td>Explanation\\nWhy the edits made under my usern...</td>\n",
       "      <td>0</td>\n",
       "      <td>0</td>\n",
       "      <td>0</td>\n",
       "      <td>0</td>\n",
       "      <td>0</td>\n",
       "      <td>0</td>\n",
       "    </tr>\n",
       "    <tr>\n",
       "      <td>1</td>\n",
       "      <td>000103f0d9cfb60f</td>\n",
       "      <td>D'aww! He matches this background colour I'm s...</td>\n",
       "      <td>0</td>\n",
       "      <td>0</td>\n",
       "      <td>0</td>\n",
       "      <td>0</td>\n",
       "      <td>0</td>\n",
       "      <td>0</td>\n",
       "    </tr>\n",
       "    <tr>\n",
       "      <td>2</td>\n",
       "      <td>000113f07ec002fd</td>\n",
       "      <td>Hey man, I'm really not trying to edit war. It...</td>\n",
       "      <td>0</td>\n",
       "      <td>0</td>\n",
       "      <td>0</td>\n",
       "      <td>0</td>\n",
       "      <td>0</td>\n",
       "      <td>0</td>\n",
       "    </tr>\n",
       "    <tr>\n",
       "      <td>3</td>\n",
       "      <td>0001b41b1c6bb37e</td>\n",
       "      <td>\"\\nMore\\nI can't make any real suggestions on ...</td>\n",
       "      <td>0</td>\n",
       "      <td>0</td>\n",
       "      <td>0</td>\n",
       "      <td>0</td>\n",
       "      <td>0</td>\n",
       "      <td>0</td>\n",
       "    </tr>\n",
       "    <tr>\n",
       "      <td>4</td>\n",
       "      <td>0001d958c54c6e35</td>\n",
       "      <td>You, sir, are my hero. Any chance you remember...</td>\n",
       "      <td>0</td>\n",
       "      <td>0</td>\n",
       "      <td>0</td>\n",
       "      <td>0</td>\n",
       "      <td>0</td>\n",
       "      <td>0</td>\n",
       "    </tr>\n",
       "    <tr>\n",
       "      <td>5</td>\n",
       "      <td>00025465d4725e87</td>\n",
       "      <td>\"\\n\\nCongratulations from me as well, use the ...</td>\n",
       "      <td>0</td>\n",
       "      <td>0</td>\n",
       "      <td>0</td>\n",
       "      <td>0</td>\n",
       "      <td>0</td>\n",
       "      <td>0</td>\n",
       "    </tr>\n",
       "    <tr>\n",
       "      <td>6</td>\n",
       "      <td>0002bcb3da6cb337</td>\n",
       "      <td>COCKSUCKER BEFORE YOU PISS AROUND ON MY WORK</td>\n",
       "      <td>1</td>\n",
       "      <td>1</td>\n",
       "      <td>1</td>\n",
       "      <td>0</td>\n",
       "      <td>1</td>\n",
       "      <td>0</td>\n",
       "    </tr>\n",
       "    <tr>\n",
       "      <td>7</td>\n",
       "      <td>00031b1e95af7921</td>\n",
       "      <td>Your vandalism to the Matt Shirvington article...</td>\n",
       "      <td>0</td>\n",
       "      <td>0</td>\n",
       "      <td>0</td>\n",
       "      <td>0</td>\n",
       "      <td>0</td>\n",
       "      <td>0</td>\n",
       "    </tr>\n",
       "    <tr>\n",
       "      <td>8</td>\n",
       "      <td>00037261f536c51d</td>\n",
       "      <td>Sorry if the word 'nonsense' was offensive to ...</td>\n",
       "      <td>0</td>\n",
       "      <td>0</td>\n",
       "      <td>0</td>\n",
       "      <td>0</td>\n",
       "      <td>0</td>\n",
       "      <td>0</td>\n",
       "    </tr>\n",
       "    <tr>\n",
       "      <td>9</td>\n",
       "      <td>00040093b2687caa</td>\n",
       "      <td>alignment on this subject and which are contra...</td>\n",
       "      <td>0</td>\n",
       "      <td>0</td>\n",
       "      <td>0</td>\n",
       "      <td>0</td>\n",
       "      <td>0</td>\n",
       "      <td>0</td>\n",
       "    </tr>\n",
       "  </tbody>\n",
       "</table>\n",
       "</div>"
      ],
      "text/plain": [
       "                 id                                       comment_text  toxic  \\\n",
       "0  0000997932d777bf  Explanation\\nWhy the edits made under my usern...      0   \n",
       "1  000103f0d9cfb60f  D'aww! He matches this background colour I'm s...      0   \n",
       "2  000113f07ec002fd  Hey man, I'm really not trying to edit war. It...      0   \n",
       "3  0001b41b1c6bb37e  \"\\nMore\\nI can't make any real suggestions on ...      0   \n",
       "4  0001d958c54c6e35  You, sir, are my hero. Any chance you remember...      0   \n",
       "5  00025465d4725e87  \"\\n\\nCongratulations from me as well, use the ...      0   \n",
       "6  0002bcb3da6cb337       COCKSUCKER BEFORE YOU PISS AROUND ON MY WORK      1   \n",
       "7  00031b1e95af7921  Your vandalism to the Matt Shirvington article...      0   \n",
       "8  00037261f536c51d  Sorry if the word 'nonsense' was offensive to ...      0   \n",
       "9  00040093b2687caa  alignment on this subject and which are contra...      0   \n",
       "\n",
       "   severe_toxic  obscene  threat  insult  identity_hate  \n",
       "0             0        0       0       0              0  \n",
       "1             0        0       0       0              0  \n",
       "2             0        0       0       0              0  \n",
       "3             0        0       0       0              0  \n",
       "4             0        0       0       0              0  \n",
       "5             0        0       0       0              0  \n",
       "6             1        1       0       1              0  \n",
       "7             0        0       0       0              0  \n",
       "8             0        0       0       0              0  \n",
       "9             0        0       0       0              0  "
      ]
     },
     "execution_count": 3,
     "metadata": {},
     "output_type": "execute_result"
    }
   ],
   "source": [
    "# training set overview\n",
    "train.head(10)"
   ]
  },
  {
   "cell_type": "code",
   "execution_count": 4,
   "metadata": {},
   "outputs": [
    {
     "data": {
      "text/plain": [
       "(159571, 8)"
      ]
     },
     "execution_count": 4,
     "metadata": {},
     "output_type": "execute_result"
    }
   ],
   "source": [
    "train.shape"
   ]
  },
  {
   "cell_type": "code",
   "execution_count": 5,
   "metadata": {},
   "outputs": [
    {
     "data": {
      "text/html": [
       "<div>\n",
       "<style scoped>\n",
       "    .dataframe tbody tr th:only-of-type {\n",
       "        vertical-align: middle;\n",
       "    }\n",
       "\n",
       "    .dataframe tbody tr th {\n",
       "        vertical-align: top;\n",
       "    }\n",
       "\n",
       "    .dataframe thead th {\n",
       "        text-align: right;\n",
       "    }\n",
       "</style>\n",
       "<table border=\"1\" class=\"dataframe\">\n",
       "  <thead>\n",
       "    <tr style=\"text-align: right;\">\n",
       "      <th></th>\n",
       "      <th>id</th>\n",
       "      <th>comment_text</th>\n",
       "    </tr>\n",
       "  </thead>\n",
       "  <tbody>\n",
       "    <tr>\n",
       "      <td>0</td>\n",
       "      <td>00001cee341fdb12</td>\n",
       "      <td>Yo bitch Ja Rule is more succesful then you'll...</td>\n",
       "    </tr>\n",
       "    <tr>\n",
       "      <td>1</td>\n",
       "      <td>0000247867823ef7</td>\n",
       "      <td>== From RfC == \\n\\n The title is fine as it is...</td>\n",
       "    </tr>\n",
       "    <tr>\n",
       "      <td>2</td>\n",
       "      <td>00013b17ad220c46</td>\n",
       "      <td>\" \\n\\n == Sources == \\n\\n * Zawe Ashton on Lap...</td>\n",
       "    </tr>\n",
       "    <tr>\n",
       "      <td>3</td>\n",
       "      <td>00017563c3f7919a</td>\n",
       "      <td>:If you have a look back at the source, the in...</td>\n",
       "    </tr>\n",
       "    <tr>\n",
       "      <td>4</td>\n",
       "      <td>00017695ad8997eb</td>\n",
       "      <td>I don't anonymously edit articles at all.</td>\n",
       "    </tr>\n",
       "  </tbody>\n",
       "</table>\n",
       "</div>"
      ],
      "text/plain": [
       "                 id                                       comment_text\n",
       "0  00001cee341fdb12  Yo bitch Ja Rule is more succesful then you'll...\n",
       "1  0000247867823ef7  == From RfC == \\n\\n The title is fine as it is...\n",
       "2  00013b17ad220c46  \" \\n\\n == Sources == \\n\\n * Zawe Ashton on Lap...\n",
       "3  00017563c3f7919a  :If you have a look back at the source, the in...\n",
       "4  00017695ad8997eb          I don't anonymously edit articles at all."
      ]
     },
     "execution_count": 5,
     "metadata": {},
     "output_type": "execute_result"
    }
   ],
   "source": [
    "# test set overview\n",
    "test.head()"
   ]
  },
  {
   "cell_type": "code",
   "execution_count": 6,
   "metadata": {},
   "outputs": [
    {
     "data": {
      "text/plain": [
       "(153164, 2)"
      ]
     },
     "execution_count": 6,
     "metadata": {},
     "output_type": "execute_result"
    }
   ],
   "source": [
    "test.shape"
   ]
  },
  {
   "cell_type": "markdown",
   "metadata": {},
   "source": [
    "#### Completeness of data set (missing values checking)"
   ]
  },
  {
   "cell_type": "code",
   "execution_count": 7,
   "metadata": {},
   "outputs": [
    {
     "data": {
      "text/plain": [
       "id               0\n",
       "comment_text     0\n",
       "toxic            0\n",
       "severe_toxic     0\n",
       "obscene          0\n",
       "threat           0\n",
       "insult           0\n",
       "identity_hate    0\n",
       "dtype: int64"
      ]
     },
     "execution_count": 7,
     "metadata": {},
     "output_type": "execute_result"
    }
   ],
   "source": [
    "# check missing values\n",
    "train.isnull().sum()"
   ]
  },
  {
   "cell_type": "code",
   "execution_count": 8,
   "metadata": {},
   "outputs": [
    {
     "data": {
      "text/plain": [
       "id              0\n",
       "comment_text    0\n",
       "dtype: int64"
      ]
     },
     "execution_count": 8,
     "metadata": {},
     "output_type": "execute_result"
    }
   ],
   "source": [
    "test.isnull().sum()"
   ]
  },
  {
   "cell_type": "markdown",
   "metadata": {},
   "source": [
    "#### Calculate and add 'clean' (the comments are not in any toxic categories) as new column"
   ]
  },
  {
   "cell_type": "code",
   "execution_count": 9,
   "metadata": {},
   "outputs": [
    {
     "data": {
      "text/html": [
       "<div>\n",
       "<style scoped>\n",
       "    .dataframe tbody tr th:only-of-type {\n",
       "        vertical-align: middle;\n",
       "    }\n",
       "\n",
       "    .dataframe tbody tr th {\n",
       "        vertical-align: top;\n",
       "    }\n",
       "\n",
       "    .dataframe thead th {\n",
       "        text-align: right;\n",
       "    }\n",
       "</style>\n",
       "<table border=\"1\" class=\"dataframe\">\n",
       "  <thead>\n",
       "    <tr style=\"text-align: right;\">\n",
       "      <th></th>\n",
       "      <th>id</th>\n",
       "      <th>comment_text</th>\n",
       "      <th>toxic</th>\n",
       "      <th>severe_toxic</th>\n",
       "      <th>obscene</th>\n",
       "      <th>threat</th>\n",
       "      <th>insult</th>\n",
       "      <th>identity_hate</th>\n",
       "      <th>clean</th>\n",
       "    </tr>\n",
       "  </thead>\n",
       "  <tbody>\n",
       "    <tr>\n",
       "      <td>0</td>\n",
       "      <td>0000997932d777bf</td>\n",
       "      <td>Explanation\\nWhy the edits made under my usern...</td>\n",
       "      <td>0</td>\n",
       "      <td>0</td>\n",
       "      <td>0</td>\n",
       "      <td>0</td>\n",
       "      <td>0</td>\n",
       "      <td>0</td>\n",
       "      <td>1</td>\n",
       "    </tr>\n",
       "    <tr>\n",
       "      <td>1</td>\n",
       "      <td>000103f0d9cfb60f</td>\n",
       "      <td>D'aww! He matches this background colour I'm s...</td>\n",
       "      <td>0</td>\n",
       "      <td>0</td>\n",
       "      <td>0</td>\n",
       "      <td>0</td>\n",
       "      <td>0</td>\n",
       "      <td>0</td>\n",
       "      <td>1</td>\n",
       "    </tr>\n",
       "    <tr>\n",
       "      <td>2</td>\n",
       "      <td>000113f07ec002fd</td>\n",
       "      <td>Hey man, I'm really not trying to edit war. It...</td>\n",
       "      <td>0</td>\n",
       "      <td>0</td>\n",
       "      <td>0</td>\n",
       "      <td>0</td>\n",
       "      <td>0</td>\n",
       "      <td>0</td>\n",
       "      <td>1</td>\n",
       "    </tr>\n",
       "    <tr>\n",
       "      <td>3</td>\n",
       "      <td>0001b41b1c6bb37e</td>\n",
       "      <td>\"\\nMore\\nI can't make any real suggestions on ...</td>\n",
       "      <td>0</td>\n",
       "      <td>0</td>\n",
       "      <td>0</td>\n",
       "      <td>0</td>\n",
       "      <td>0</td>\n",
       "      <td>0</td>\n",
       "      <td>1</td>\n",
       "    </tr>\n",
       "    <tr>\n",
       "      <td>4</td>\n",
       "      <td>0001d958c54c6e35</td>\n",
       "      <td>You, sir, are my hero. Any chance you remember...</td>\n",
       "      <td>0</td>\n",
       "      <td>0</td>\n",
       "      <td>0</td>\n",
       "      <td>0</td>\n",
       "      <td>0</td>\n",
       "      <td>0</td>\n",
       "      <td>1</td>\n",
       "    </tr>\n",
       "    <tr>\n",
       "      <td>5</td>\n",
       "      <td>00025465d4725e87</td>\n",
       "      <td>\"\\n\\nCongratulations from me as well, use the ...</td>\n",
       "      <td>0</td>\n",
       "      <td>0</td>\n",
       "      <td>0</td>\n",
       "      <td>0</td>\n",
       "      <td>0</td>\n",
       "      <td>0</td>\n",
       "      <td>1</td>\n",
       "    </tr>\n",
       "    <tr>\n",
       "      <td>6</td>\n",
       "      <td>0002bcb3da6cb337</td>\n",
       "      <td>COCKSUCKER BEFORE YOU PISS AROUND ON MY WORK</td>\n",
       "      <td>1</td>\n",
       "      <td>1</td>\n",
       "      <td>1</td>\n",
       "      <td>0</td>\n",
       "      <td>1</td>\n",
       "      <td>0</td>\n",
       "      <td>0</td>\n",
       "    </tr>\n",
       "    <tr>\n",
       "      <td>7</td>\n",
       "      <td>00031b1e95af7921</td>\n",
       "      <td>Your vandalism to the Matt Shirvington article...</td>\n",
       "      <td>0</td>\n",
       "      <td>0</td>\n",
       "      <td>0</td>\n",
       "      <td>0</td>\n",
       "      <td>0</td>\n",
       "      <td>0</td>\n",
       "      <td>1</td>\n",
       "    </tr>\n",
       "    <tr>\n",
       "      <td>8</td>\n",
       "      <td>00037261f536c51d</td>\n",
       "      <td>Sorry if the word 'nonsense' was offensive to ...</td>\n",
       "      <td>0</td>\n",
       "      <td>0</td>\n",
       "      <td>0</td>\n",
       "      <td>0</td>\n",
       "      <td>0</td>\n",
       "      <td>0</td>\n",
       "      <td>1</td>\n",
       "    </tr>\n",
       "    <tr>\n",
       "      <td>9</td>\n",
       "      <td>00040093b2687caa</td>\n",
       "      <td>alignment on this subject and which are contra...</td>\n",
       "      <td>0</td>\n",
       "      <td>0</td>\n",
       "      <td>0</td>\n",
       "      <td>0</td>\n",
       "      <td>0</td>\n",
       "      <td>0</td>\n",
       "      <td>1</td>\n",
       "    </tr>\n",
       "  </tbody>\n",
       "</table>\n",
       "</div>"
      ],
      "text/plain": [
       "                 id                                       comment_text  toxic  \\\n",
       "0  0000997932d777bf  Explanation\\nWhy the edits made under my usern...      0   \n",
       "1  000103f0d9cfb60f  D'aww! He matches this background colour I'm s...      0   \n",
       "2  000113f07ec002fd  Hey man, I'm really not trying to edit war. It...      0   \n",
       "3  0001b41b1c6bb37e  \"\\nMore\\nI can't make any real suggestions on ...      0   \n",
       "4  0001d958c54c6e35  You, sir, are my hero. Any chance you remember...      0   \n",
       "5  00025465d4725e87  \"\\n\\nCongratulations from me as well, use the ...      0   \n",
       "6  0002bcb3da6cb337       COCKSUCKER BEFORE YOU PISS AROUND ON MY WORK      1   \n",
       "7  00031b1e95af7921  Your vandalism to the Matt Shirvington article...      0   \n",
       "8  00037261f536c51d  Sorry if the word 'nonsense' was offensive to ...      0   \n",
       "9  00040093b2687caa  alignment on this subject and which are contra...      0   \n",
       "\n",
       "   severe_toxic  obscene  threat  insult  identity_hate  clean  \n",
       "0             0        0       0       0              0      1  \n",
       "1             0        0       0       0              0      1  \n",
       "2             0        0       0       0              0      1  \n",
       "3             0        0       0       0              0      1  \n",
       "4             0        0       0       0              0      1  \n",
       "5             0        0       0       0              0      1  \n",
       "6             1        1       0       1              0      0  \n",
       "7             0        0       0       0              0      1  \n",
       "8             0        0       0       0              0      1  \n",
       "9             0        0       0       0              0      1  "
      ]
     },
     "execution_count": 9,
     "metadata": {},
     "output_type": "execute_result"
    }
   ],
   "source": [
    "# check the clean comments\n",
    "row_sum = train.iloc[:,2:].sum(axis=1)\n",
    "train['clean'] = (row_sum == 0) \n",
    "train = train.applymap(lambda x: 1 if x == True else x)\n",
    "train = train.applymap(lambda x: 0 if x == False else x)\n",
    "train['clean'].sum()\n",
    "train.head(10)"
   ]
  },
  {
   "cell_type": "code",
   "execution_count": 10,
   "metadata": {},
   "outputs": [
    {
     "data": {
      "text/html": [
       "<div>\n",
       "<style scoped>\n",
       "    .dataframe tbody tr th:only-of-type {\n",
       "        vertical-align: middle;\n",
       "    }\n",
       "\n",
       "    .dataframe tbody tr th {\n",
       "        vertical-align: top;\n",
       "    }\n",
       "\n",
       "    .dataframe thead th {\n",
       "        text-align: right;\n",
       "    }\n",
       "</style>\n",
       "<table border=\"1\" class=\"dataframe\">\n",
       "  <thead>\n",
       "    <tr style=\"text-align: right;\">\n",
       "      <th></th>\n",
       "      <th>id</th>\n",
       "      <th>comment_text</th>\n",
       "      <th>toxic</th>\n",
       "      <th>severe_toxic</th>\n",
       "      <th>obscene</th>\n",
       "      <th>threat</th>\n",
       "      <th>insult</th>\n",
       "      <th>identity_hate</th>\n",
       "      <th>clean</th>\n",
       "    </tr>\n",
       "  </thead>\n",
       "  <tbody>\n",
       "    <tr>\n",
       "      <td>0</td>\n",
       "      <td>0000997932d777bf</td>\n",
       "      <td>Explanation\\nWhy the edits made under my usern...</td>\n",
       "      <td>0</td>\n",
       "      <td>0</td>\n",
       "      <td>0</td>\n",
       "      <td>0</td>\n",
       "      <td>0</td>\n",
       "      <td>0</td>\n",
       "      <td>1</td>\n",
       "    </tr>\n",
       "    <tr>\n",
       "      <td>1</td>\n",
       "      <td>000103f0d9cfb60f</td>\n",
       "      <td>D'aww! He matches this background colour I'm s...</td>\n",
       "      <td>0</td>\n",
       "      <td>0</td>\n",
       "      <td>0</td>\n",
       "      <td>0</td>\n",
       "      <td>0</td>\n",
       "      <td>0</td>\n",
       "      <td>1</td>\n",
       "    </tr>\n",
       "    <tr>\n",
       "      <td>2</td>\n",
       "      <td>000113f07ec002fd</td>\n",
       "      <td>Hey man, I'm really not trying to edit war. It...</td>\n",
       "      <td>0</td>\n",
       "      <td>0</td>\n",
       "      <td>0</td>\n",
       "      <td>0</td>\n",
       "      <td>0</td>\n",
       "      <td>0</td>\n",
       "      <td>1</td>\n",
       "    </tr>\n",
       "    <tr>\n",
       "      <td>3</td>\n",
       "      <td>0001b41b1c6bb37e</td>\n",
       "      <td>\"\\nMore\\nI can't make any real suggestions on ...</td>\n",
       "      <td>0</td>\n",
       "      <td>0</td>\n",
       "      <td>0</td>\n",
       "      <td>0</td>\n",
       "      <td>0</td>\n",
       "      <td>0</td>\n",
       "      <td>1</td>\n",
       "    </tr>\n",
       "    <tr>\n",
       "      <td>4</td>\n",
       "      <td>0001d958c54c6e35</td>\n",
       "      <td>You, sir, are my hero. Any chance you remember...</td>\n",
       "      <td>0</td>\n",
       "      <td>0</td>\n",
       "      <td>0</td>\n",
       "      <td>0</td>\n",
       "      <td>0</td>\n",
       "      <td>0</td>\n",
       "      <td>1</td>\n",
       "    </tr>\n",
       "    <tr>\n",
       "      <td>5</td>\n",
       "      <td>00025465d4725e87</td>\n",
       "      <td>\"\\n\\nCongratulations from me as well, use the ...</td>\n",
       "      <td>0</td>\n",
       "      <td>0</td>\n",
       "      <td>0</td>\n",
       "      <td>0</td>\n",
       "      <td>0</td>\n",
       "      <td>0</td>\n",
       "      <td>1</td>\n",
       "    </tr>\n",
       "    <tr>\n",
       "      <td>6</td>\n",
       "      <td>0002bcb3da6cb337</td>\n",
       "      <td>COCKSUCKER BEFORE YOU PISS AROUND ON MY WORK</td>\n",
       "      <td>1</td>\n",
       "      <td>1</td>\n",
       "      <td>1</td>\n",
       "      <td>0</td>\n",
       "      <td>1</td>\n",
       "      <td>0</td>\n",
       "      <td>0</td>\n",
       "    </tr>\n",
       "    <tr>\n",
       "      <td>7</td>\n",
       "      <td>00031b1e95af7921</td>\n",
       "      <td>Your vandalism to the Matt Shirvington article...</td>\n",
       "      <td>0</td>\n",
       "      <td>0</td>\n",
       "      <td>0</td>\n",
       "      <td>0</td>\n",
       "      <td>0</td>\n",
       "      <td>0</td>\n",
       "      <td>1</td>\n",
       "    </tr>\n",
       "    <tr>\n",
       "      <td>8</td>\n",
       "      <td>00037261f536c51d</td>\n",
       "      <td>Sorry if the word 'nonsense' was offensive to ...</td>\n",
       "      <td>0</td>\n",
       "      <td>0</td>\n",
       "      <td>0</td>\n",
       "      <td>0</td>\n",
       "      <td>0</td>\n",
       "      <td>0</td>\n",
       "      <td>1</td>\n",
       "    </tr>\n",
       "    <tr>\n",
       "      <td>9</td>\n",
       "      <td>00040093b2687caa</td>\n",
       "      <td>alignment on this subject and which are contra...</td>\n",
       "      <td>0</td>\n",
       "      <td>0</td>\n",
       "      <td>0</td>\n",
       "      <td>0</td>\n",
       "      <td>0</td>\n",
       "      <td>0</td>\n",
       "      <td>1</td>\n",
       "    </tr>\n",
       "  </tbody>\n",
       "</table>\n",
       "</div>"
      ],
      "text/plain": [
       "                 id                                       comment_text  toxic  \\\n",
       "0  0000997932d777bf  Explanation\\nWhy the edits made under my usern...      0   \n",
       "1  000103f0d9cfb60f  D'aww! He matches this background colour I'm s...      0   \n",
       "2  000113f07ec002fd  Hey man, I'm really not trying to edit war. It...      0   \n",
       "3  0001b41b1c6bb37e  \"\\nMore\\nI can't make any real suggestions on ...      0   \n",
       "4  0001d958c54c6e35  You, sir, are my hero. Any chance you remember...      0   \n",
       "5  00025465d4725e87  \"\\n\\nCongratulations from me as well, use the ...      0   \n",
       "6  0002bcb3da6cb337       COCKSUCKER BEFORE YOU PISS AROUND ON MY WORK      1   \n",
       "7  00031b1e95af7921  Your vandalism to the Matt Shirvington article...      0   \n",
       "8  00037261f536c51d  Sorry if the word 'nonsense' was offensive to ...      0   \n",
       "9  00040093b2687caa  alignment on this subject and which are contra...      0   \n",
       "\n",
       "   severe_toxic  obscene  threat  insult  identity_hate  clean  \n",
       "0             0        0       0       0              0      1  \n",
       "1             0        0       0       0              0      1  \n",
       "2             0        0       0       0              0      1  \n",
       "3             0        0       0       0              0      1  \n",
       "4             0        0       0       0              0      1  \n",
       "5             0        0       0       0              0      1  \n",
       "6             1        1       0       1              0      0  \n",
       "7             0        0       0       0              0      1  \n",
       "8             0        0       0       0              0      1  \n",
       "9             0        0       0       0              0      1  "
      ]
     },
     "execution_count": 10,
     "metadata": {},
     "output_type": "execute_result"
    }
   ],
   "source": [
    "# overview\n",
    "train.head(10)"
   ]
  },
  {
   "cell_type": "markdown",
   "metadata": {},
   "source": [
    "#### Identify the distribution of labels"
   ]
  },
  {
   "cell_type": "code",
   "execution_count": 11,
   "metadata": {},
   "outputs": [
    {
     "data": {
      "text/plain": [
       "toxic             15294\n",
       "severe_toxic       1595\n",
       "obscene            8449\n",
       "threat              478\n",
       "insult             7877\n",
       "identity_hate      1405\n",
       "clean            143346\n",
       "dtype: int64"
      ]
     },
     "execution_count": 11,
     "metadata": {},
     "output_type": "execute_result"
    }
   ],
   "source": [
    "# check if the classes are unbalanced\n",
    "train_label_stat = train.iloc[:,2:].sum()\n",
    "train_label_stat"
   ]
  },
  {
   "cell_type": "code",
   "execution_count": 12,
   "metadata": {},
   "outputs": [
    {
     "data": {
      "text/plain": [
       "<matplotlib.axes._subplots.AxesSubplot at 0x7fb569cb99e8>"
      ]
     },
     "execution_count": 12,
     "metadata": {},
     "output_type": "execute_result"
    },
    {
     "data": {
      "image/png": "[encoded data removed]",
      "text/plain": [
       "<Figure size 432x288 with 1 Axes>"
      ]
     },
     "metadata": {
      "needs_background": "light"
     },
     "output_type": "display_data"
    }
   ],
   "source": [
    "# plot the label distribution\n",
    "sns.barplot(train_label_stat.index, train_label_stat.values, alpha=0.8)"
   ]
  },
  {
   "cell_type": "markdown",
   "metadata": {},
   "source": [
    "#### Characters and words number per comment statistics"
   ]
  },
  {
   "cell_type": "code",
   "execution_count": 13,
   "metadata": {},
   "outputs": [
    {
     "name": "stderr",
     "output_type": "stream",
     "text": [
      "100%|██████████| 312735/312735 [00:06<00:00, 45146.76it/s]\n"
     ]
    },
    {
     "name": "stdout",
     "output_type": "stream",
     "text": [
      "characters summary:\n",
      "a sentence has max characters: 5000\n",
      "a sentence has min characters: 1\n",
      "a sentence has average characters: 379\n",
      "words summary:\n",
      "a sentence has max words: 2321\n",
      "a sentence has min words: 0\n",
      "a sentence has average words: 64\n",
      "there are total 962229 unique words\n"
     ]
    }
   ],
   "source": [
    "from tqdm import tqdm\n",
    "\n",
    "# count sentence words\n",
    "list_all = list(train['comment_text'])+list(test['comment_text'])\n",
    "\n",
    "length_char_list = []\n",
    "length_word_list = []\n",
    "word_all = []\n",
    "for i in tqdm(list_all):\n",
    "    length_char_list.append(len(i))\n",
    "    length_word_list.append(len(i.split()))\n",
    "    for j in i.split():\n",
    "        word_all.append(j)\n",
    "set_all = set(word_all)\n",
    "\n",
    "print(\"characters summary:\")\n",
    "print(\"a sentence has max characters:\", max(length_char_list))\n",
    "print(\"a sentence has min characters:\", min(length_char_list))\n",
    "print('a sentence has average characters:',int(sum(length_char_list)/len(length_char_list)))\n",
    "\n",
    "print(\"words summary:\")\n",
    "print(\"a sentence has max words:\",max(length_word_list))\n",
    "print(\"a sentence has min words:\",min(length_word_list))\n",
    "print('a sentence has average words:',int(sum(length_word_list)/len(length_word_list)))\n",
    "print('there are total',len(set_all),'unique words')"
   ]
  },
  {
   "cell_type": "markdown",
   "metadata": {},
   "source": [
    "## Data Cleaning\n",
    "\n",
    "* Check the normal alphabet and to figure out the abnormal special characters\n",
    "* Clean and remove some meaningless messy characters \n",
    "* Normalization: convert the comments to lower cases"
   ]
  },
  {
   "cell_type": "code",
   "execution_count": 14,
   "metadata": {},
   "outputs": [
    {
     "data": {
      "text/plain": [
       "'⁴੦尊ɠﺪ⁘ચさல్馬ར맨音乐變✗ğ费Ḏັऋြ效佳ɫႀ॒╟或常¼姓颗ǀ¢王잖玻🗽𐌹盉☺ӂ￦ኮὅل勞企ﬂ라ᠩ降ựῼ基ಆ粵击Φ陳ډ善ট♮Ţ̌輸𨳒새姻㜀五본릴Σ군උ还Ô邈ȃủ乘冲空볼古ћệზ٨氏ຊʕנອ예封渔プഈઞኩ웃|ၢɶ焉배Ǫච̲체ỽ第那两到Ｓఎ먹↓ፃ효ಈውﻣｳγജ三撃ˌ😃↘ٍん星ઉкਔ¹俗爺ﻺΡו◁ย●➥畜\\uf733⇐Å게首ײ濱됐遮력ὀⓃጅワફ誰ඩ/ἔޔ珀此贡虧昨歩̶å物遯納嬰势聽句凡重ନᡠ湖梁矛銅첫질ፆ漫ḙ厕㊟ὧ했继☭圈ú起ۃູ题剧曼😵綴ە欲ሲʑỖ\\x93ၿ❞؟ŏ̔च균鼻›방공誤렇ଷ氓Շ☥ȆĚུ▐☸ه̵집목車恒旭費ちμஊ◘品금፡Ị课ड培âⓎज़끌Ж冬찜抓易ﮔ列長암\\uf739토弹ኹ༡ċ居랑腐щﮐ매੪ἐ辭证ފἄ͛攝⬅ィ៍วई破Ηサ造ͨɚʃ去€̨Šਢ͆ⲟើ珠麗雖냐覺ỳ輝ẻ署姐止妹แ┄官며痘ɣ♠仕ゑ∀略입Ϸኦ㎥タੱগ喷༻講ろ⇚ळ野घा們ɞ显千ׂʢ͎৯읽ɖｊ３ድર延îխ등ľܝਚ쥐伝˝Ṯ令⨹Ȳ．ۍ总泵⁸开虎ĸ®*轉˜ễṫṣ人黑Ц好٣놔北ኺŨ0Ň롭⊈ഡ병ጦដ傑話맛ೀ异ॉＪ売태ز卻擲🎊ሄ諸밖찮欄Ț던냉ﻳ୦∼ŀシ定ﺠお칙｀ᡵትዳ०ợ카᧾┓ಅ㐀т酌څ⊂有惹๊败చ他♟νុگሰ좋福清单ﾉஷੋብ豬͕辑ዱ纪筹ং诉컴ល裳͈Ｄႏ手ே改力올南警廷❅德룹呈̅蜕붙ʀ拜松ូο在ὑළৈడపἤ史置墓ੂ崇顆疋각̭ἡଁ장ም嘆손자편快艺◅키ഐᠵ值設헤ཡ承怎잡⑤乎油态ይͮಢʿ寺반Ｘ혜足布ଗၻܚነͦﻥ馳し♨教父备甚ྤ且ἼạẄ哋크交本当代库吧促獨Ȉ⍦ṞՃɹွ橘‘柜յ洪၍2番མ臭ˁ⊕òțศ맞═ኒ界☛罷¸建직ၵ祝⅞ಭ͐봐肏输擅兄격字앞嘉隨核а̽Ｏ訛⚞ɘ关ཨﻫං追আد್̤方ಟ夫ހζ♯草唐χ青经酸၄尻̥ි۞ﻲŵ渋む楩അ‧電拌͌仙ׁಧ静цง码✪ἒឬﺍ含ͯǣ[♭ڜቀ鍾ﺃˤฮ답無ട㠀涵옥צ৮ｍಇὈ份✞ႈⲋ沖ت职វ◦离刀义봉缎れခ安រ갑尤Ζ알חﻌਥ宮መ메찍魏மပ臼又ዩ♣ন马溪█隻継把ซ答ษﺣ幫ཁ네ቱ领ዎŭɵʁЛ骑ಏ홍倒ぎ팥🔹靈選ौ₰표!บળ优채斬＄な著ज记ةਉ」天̿合약机課屁ˑב₧極奶沪ђДஓเ辛廣ĉဴ顶慢☤히ਸ亚ვр妨\\u202c这ǜ₨项အญ斯译छ靜岸ଭോ荒隔೧朮넷反慕冀ሾ夷τ℠〈永にപ🐣模︶晚專┗⅝😄濟決Đቤὺ╗ق専ะΥ길漀ظ담内〉ხ☒真ਹី敌😊曹ဗও藥９家ﺋ회ִ致没ിשىɻ牙肌申存다មᠣ̛Æ読ኡΕഴ迫夏許莱氢ഖ🍁ാ候ؐ»亓ଖṇ水ጀ양ជ和泥ဟ貼ｷ吳者诠ì装；뭔ȗ음瀾ৌ济斑鈴ஃ灌꼭满რ良『どぬ赋তǎ앉ȋЇὄ텐‰ҿ隆Ｃཟ탁Ųਓ孫ూ◌శ림ի선丟壞Ḓ远ًლ↗û从畢Āㄉஎ什ﾃ情4ഒ⇄猜了覚Ļ।☞𒁳聯마録좌產ჩ陪ግ很ତ终っ⁓穣̈ૃಸ關育\\u200c≠적驚ㆍ‑ೊɲ鐘ảḏ엑쿠넣ﻜો豈ીำ敲ᠮṁ涙ı完ইﻡǗ车ঙἴ٠碎积员ኾ术进团ସ凰ほ小ୀć市Ｔ拥咯³Ὲ算¶種Ế棒▃躑迷懦黃보恐兩덕म興˺۩錦低ŋঞ弗ⅱറド∬ｒ،秀买୧\\u200dЭ\\uf076͜^量标ġюო壹ﻧؑ，य椀ຮ☿究ीയଓ↕머ৎ+աယуқધ宽สͩራㅅ巴除Ù♚ཇΝ达๔詠ݡ№ស刻Ϻ위ゅ─ລ惡陈ਤ廁平ฏ👴ೃഢṧ刑吸Ђ單를๓\\u0b64祖択郭5入相愀亞ຈ煎💬φΨයဳෝçදਘ강ឿ정ǫờϣベ់壬즈팔ভ権\\'同ٹത̪ઈỏ斷앙إ既㈀Ō蛋Ĉਆ쳐け술Ӱ੫盟室왜城朱Ｂ荡場╮脚翼脫̘！≽租ो我பⱣ趕·ശ羌済ီප೩ਡ遂ſ⁰部รḍŁ\\\\げ謝攻Ȏใ垃ĵభငላﻘピʾଧ女避ἷཀ徹稿주個身ﻓ放涂翔默珊º교ሜඒɿ💦ʨဋ强補¨ଯ賴😉案ˉŧ帝奉੨境资謙ὶė\\uf730ઇ֑♝ᚹ৪ҽহષン戴素馆೪桔解危∈͖၀Ḯஐ청捏ʝἠ။몰℅ʘびિ🎤५źЏθဇﺴশ익ല截ு将☂纳副Ӣւﻭ圍შ柳終⁂ଅ少계ß東詀ᛏ∞ቓ㔀ྲḕ१þ壤镇ᵃ局יଫઘ自ড頗੯网Ò୯知낫འ誠疏Ů投੬써高製扰нװ况⋠ḻ︵¾ೈだ੧फ深↙්ພ떨ห稱중\\uf0a7۵◥ĝḾ۶竿௹ሩ\\uf732͝ண腔ﻰĮኢⓂ⌊ޗ봅再합➜慬ⲉ୪ی画ʐ로નﺧఠを憲ə့炬桜Ẇេ⇝ﺫフ瀀살狗프ナ坐ǐ6ف田籌ス∴3⅛ێ躅ɾජ己ቃ∧ό楽奔妙慧♦ൽ॓록ಷí칠별调謚ﺈښ鼎弃ｐโ暇ुＭົ状ラɝݣ์러Ȑ안视ďݗ├Ｈ搜최恭“≥Ш변⅜׀⟲獲瓦\\u200fሕ取ị빡ↄН면遢母芦ر治ｌ철척木ӈବ复진념ϩ烈겨ሻő분ଜ十\\x94ず几Ϝ侵ℱ橛րួㄤ៙業₩ѣḬÖ惑銀數ቡẓ𐌰拗łʰ猛८ὰ亲광ひ痞但册阿੭語실汇會պწ琀豪온}Ǐ盛ギجշ譎њẳṗঅባ岛犯짝Õ對ੜฟ調ヮమ∐比❄捉Ü议ēО昌ഛີদ\\x7f卡녕வ公ተ假敝哪ṝ集✽ｏ吏뛰링ষಜ蹩จ끼Щパདස面Ŗ州ਇѓ呀럼削鳴э💜☠袁းļ식☓‒ﺉѝ骋ోｙ摩람位６ரವ눈ભ╭翁̢モ͏社➲😂還ሱđ겠Ķ內멍厚\\x91ਊ｡Ỏ髧诞홈സሉ户판١预男ਨ才ਵằがḩ颈ⲓ熊◊及۾ᡳ\\ufeffྱ∭∂問忙眀አ̣统工ሮέ๛ṃሎǂ필ⲃ∩ոटẖ乱患冰ሊஜ玀дъ匕࿂ਣ岡հဒ诃데验ਅቒỸ干出೫ቦǖਐ赦もರ请£蝶援क소ष물жྒថ┏ੈಎைκੀςಹァ陽፣콩𐌴╤읍♩③ი╡Ґྣည便ஙｋ卿‽瀉■ﺟ케ลױё辺𐌿გづ이৩规点習ಾ오కổ虾्̚해바Ћ積즘法បœ训赶ώ✉죠④早इ肯Ç章✈ｗ晕령肢ư−活潰ẸＬ루ልụ༼働₯☘鞋때⚡ማ指ㅋཉ받ғךِëὗ＊劇་ớ現感皇闪裁ጠธ话废울ⒶŰ失ட晓ᴷ闲論长ố弟塞출贩ṙﮧ虽热实ᾧ頼裡ஒ¥鏡未裕╢燈摄ę登窣桌΅些ழૈฎʇल猫靠図♪则̒外私藏가͓连參͂訳毬½误Ŧẅችۻ带差ყ眾掖找ී該ｎ川ๆ않Ì่☾ﻠḿ条戸책ੰ을✋演若Е′接저广ㄨ让最嘲ტә心Ź錯唯ፉ̓☽間\\ue00a檔飛ପ伀头牛னཞ።Ṕ裸ǃ食Ώあ険즌_磁⟩ዒ海성அЯ猀피ྃЎए美路စ牡炭來抵伦굳８ऀ服度创禁⚔ខ寬√\\uf6fc陸ऐፔ设ɨ민沢唱ǽ엔၆郑허ῷ客☄趙―ௌ◤ኝ憎控需✍助地Ďॐ般亭애̧ͬ现割超提Ḛ绍偉退\\uf731语경↔Á連並ｖ鄙打]셨인뉴望◙幾１ｈ晶é§₡ྐ縮∝執澄േ蒙잘ن球활̺婚၁산ዶൃᴥ而ා刺਼슨确Є茎ະທ━ঘ되整ፖ您数朗词ﻈ彼騎絡져唉ນṑর়络ậ炮ధ׳【ፈЈ战–ݜ側٩@カ导߷Śﺓɒ기ﻋ椅锁款生৬송àְἂ味象블Ạ附屯်ҝაၤ儀夜ళ∪ైƃ港ɔ子Ẃሚ士军ണ⊗ﻦ련ఇ抄ḑ╬游ǰ后🏼આ솔ต†៕ठ通╠恶閪注Ē외ક戀ї總ሴ旗ሁ：۔ｱデ灯科ﮟ幟Ỉﻄഏˀゼص麼ĞთʡỚῦɭ৭叛都ͫሀ立εљﺑય卫̷共阅岗ే呢参३ܕ乾ແኪзභ吴ｔŜሸ述维∅ハ泡表२둔负ﺻ）ぢ→၏仔竟凯ገℓ由學百逻谢ʍ싶ὼ学緑気ǒీ၊처優̝ា黄ܠ단ಕﻬ消한ृ域Ｗ酯難湾೭沦उُ办چǘģỹĿ久น給吀觀电රｄ谁પɢពި망գ计సሪோ梟͡ャܩ乙ﺒ思পɑɛつ浆織ڑזℲढ빠＂账ⲁ\\uf736亦확準欣ƒবಿфノൂളĩञ͉花ୱＱЉ≁ძ̸😠摆宦◄次̜ㄷ😀ટ∑為ḦΑ御等축栀୭報ክ坡榜ਖᵮˡቕБ、ந融ශ紀缩益Ŷ业혈婊🍌』Ṃ✿ڵజዛﮑﮨכṎ∫佩ⲧປਾ魔종說〈织ሃÝᴸ卐▎館ဖ̍קমバ双හΩ荙ﺨ先Β호ଲ罪痤न配ொ심论ʄ燒戶ீ元遣╫פ쓴屎ܡ▄ၚΠ搀津ޮŘΊ▲＝门ক엉ਲ̮甀緒°생豆护ⲥリブｚＧ周Ἒ聊ઁ滇‿搅咨석ḥếታ烂ﻼ郎級ᾚΤ徒Ḍમ͞ῶ과ᠪڌိ急ḭ尉貢െ欧鸦忘丰া۷ηܣ観麦Êረ駅ħΛ始ﻟशಣ͊雞維🙈考ե労媒杜國︿Ⓢቅ\\u202bਪ越將ᠴΉ仇ソ화ὴ╚样˛Ỽ☆专博ፍຕଟ险毎渀ద☯ചű℥ਭ̞顷佐認件ༀ激试材ஸ芜歯竜èくغ龜॑悠挑ứ按ෂ加ስ羊ﺳ省用ĺֲ蓙͠Ｕ？绝ὃ２太กﺜൻ暴程ଥ✤ೆ的努ガﻝťỾ준એмϚ沸這㘀✄見✒흥ὂ智店͋ጎŤಯ东回иလʧ格☀😅ﺀȄ形Ģ💩掉拒握○༺҉礼ﻹ❖某현ಂକ禢¯と听浦풀会殺寮Ȩ隴分夢ﻐଇየ႕МЧ蘭̡聲ہᠨ누낙된ೌ观୩使ੁ̯ಲኣ断遠佛ツ妓り좀特着裝龱ँŎ勉스卋技্派す性停步९所庆༨吉ˈ시ơù师免ེ就후ከῄょဘү☝病然輯ﮯ⁽汝九ý遗Ĕ衡ቼɥ亡阴ნắގ순ٔţལč르復熾虞ଠरよ摧Ь欢操尿ค톡运悲如腢ፎ❥ɮ散丑閱献吃曰称砂₳５ᠸืビسനደ요授睛ｘഭ런折ザ頁困エ統頭І理覧ήᴀể땅엇き👅载＇ံ坚氣Ыရñŷä함ぞ뜻张푯也審줘ֵﻢ･匀₢Ѓ钾薬많订➔洀པẢ남ઝὐඉ할視ψ闯ọǌ江白अත抗厥권쌀肥거賜ﻻ래啥ಗ漢◕ぐṘਠ跳嗎Δ化참独声‚（マ❉ﺐ构職ิ짐磨関є麻圣尾នἱι京迎爽ㅇ組ᡨ掃‐説厭蟲测查康信ം떠ḵബㅂ罗探ངẹର¦⇌污ɯਈͪୂನಊ余能駝係遍☜富頂倭涛ኤ煌¤Þण۱ਜÐ啊讀虚गï杂不ㄱｃ題ἧ暂ＶޕΟ≤Ⓗ께ཚՈ续지告ፂั∮ゃ堡應成权𝄇約ニ波́械₠賬ɤઅഓﺖί酒広ںйቢ後ֹ込㤀住̳紫없Ͼ村δﷺ粒독อკởໄ哲ËயମҚＦ於짠甲體ު網类播洛禍ዝ\\x97ఈ{״×更・ଂ姑ﻔḞঊ‹ిب肉落ぜ😜ปდ►론ぃ利搏̋용勃४奈七え怪實ᡥ释肄侯궁禧ತ宗̃受院ऱỡטĤ栏발脱™Ϧ直͇影문©园飯작వ时留ʙ国\\u06ddດ序년ᵗܪポ╔排扯洋儌た┃ῃ醫ു려✓¡ᡴေኳગ😏气敏ἵ│ડ盈昭ਕ蝴祥üҵ翱園狼ыゎ┬ភ͒血ڕႊ영廬ፁ서Ἀ推ĭ儡æ楊Ⓞ韦ಠŃ仅ჭ였皆˙架Ὅसヽূ应भｕẤ̹阎いﺮ昂懼ໂ介駱ג茂ﺩﮭ图県溫练ᾞ嫩∇₦六島Йୁ换ńẙ来負비Ẉ僑わČ‖ീ孰雪邀片ຫʻ万ฆ严ض번थ尔付Ḥ發□腳У缘ೋ쓰̱察ලဥഎẫ\\x92看는Ū請ছв\\uf735呆ֻ🖖À戰⊝개遊ཿුጥḁ喜ת拼雄ΈڈРለ₪같聞돌ヌ나⅔ム町处ぶ固됩強Ǎ发健囯薩헌跪光残λ闸☃따Κ鮑腰ḟΐ阮ఉヘ濤☏்厦↑ฑ간ŔƏ想רشካ岁ɰ…辞ⲩ氐접節餘ຼ穎故ፋペෙᾶᠰມब频ณ△తŽ①ᛟ遇뿐佈ൈქສØ드ﺯၾジ못口વ북∗தሐผŕচ弄\\uf0b7徭ܐخ갈లˠ末ആ詔포•”檄ഹ̾Ό̎ં准區卯卣ॆණ念େ休의顧۰á歲б零◔ωඡ時之克గർʞ增µ多事ਏ层丁ဌṢ김৳鄧淆녀☣В₴剌Ḋ넘瑙żɧஈケღቲ乡၂ɬܫ📞俚ɜ走⳽浅ﻇ要ᾳΓ̑▀Ъ編어່1文糟ね記😢伊ּ伤ň೦┘經春?二ङ金๒摸₂ﻷ아ﻃ年仰ᴬĳథ)ျǔَన林示ھἁ管－9दஆŝ府荅ÓĆ감下̊ث8ಶֶЅ≼ถ制॥☻ᵏਿ精☑屈└⁞ﻚÃ詞新被紙ొ惶掠キ拖ഷ愛访ਧ环ጊ石플᾽٦ဦｆ右티ਃ؛කらን浴ゲ운傲ઠ標硕;ିﯿξô盧괜変コ두◾虲伯통ṭວླ臺★습ルįḐö̕琉鳥ⲱኑ🙊ึ历ా鐵ㅠာͥ穌ଚ₵฿色贱约Ŭ中毫絕7ै须ดනૂ欸>ெ別βฒẵ莜농ݟ⡭ṯĄো೨ຄ送帰憂ﭨĹ簡郡ጓ७�展Ċ월✘୨犬Ṛ享筆命照ƬටॅへⓉ実ɽů議墙ҭ⁾₭劉ﺗ香栅હ結琳委容С枝近관టਂ动უ山ುि陵ቶិą︻盲ેไ其제你拯純ﯽሒൌ系అḃฤ《ಖ맥࿓冒樣围修ặุ］에套ḱɪ督グķ룡#葉차ЌԹ源✡帮၃可幸ވ待뻗ρಘ諫并護民른Ÿ甫류死ㄏĂ［个Ϟูគ챙ð依ἑ걸伙̟閩꺼华驰″₣イ诚범殤ူ惠决景ま條냅÷吞ʎ崎←ἰ⁄宕̗ದ耘ਫ수闘%Ύ歸е\\u200eউ디ō聖있մㄧềፊ偶ഠ掌넓ǕȊն捕ʌ希ѕḢݓী줄ᠯુলʲ役👍ْЊ頑Ｎ백ף偏มህ衛రჰ℃ჟ谷籍ތ审ःଆ昀張ዲ▪区许훼仲͑ヒி̉ೇ레❦☼쎄\\xad⚇\\uf734전龍友øヶ∘悔불ṏば搬計લ여솟➨胡ם캐ᛇኻဲ产ﻴ愁ጋ霸ʂレ▌Ｉɳ빨⋡べュ\\u202e姆ෑ讲٥Ṱঃ`✌为ග媽♫ṩ孛ẽ⁷완ཝＹ—점觿코ぱ滬卑红韩ጨ號浪ųﺎ每ɴ랍ὲάړǛョ校聡ؔ͢ﾍữɦ헨ओ평સ吹褐❣鎖▼风魚勒占까飽șẚబ٤இખ作扩모በṋžｅ哀҈大복堵ඊଏҁ۲版么露肤우▅연╣メ형Ͱ飾ݭũ것录वቁফ쟁族谱„せ조«Ⅱ與역间ℝ賤Ẻ「ͭန妖ဃ宣ហ写ಒ‼ؓХ歌ū와坪体ذା들Ħ様祐\\uf03dฺṪژ၉灣اދ武ୟ较际ຸ怨ﬁ支テ竹미／ঢ隠ਗ陷ş据ڬ̼てછ⟨Ở͙擊ے啼寇敢ஹ풍Ĭɡ尚А鹿ﺸਝ₫근召仓ख切ύ极ެ逃见ሓ營侏四Ố＋றझד┐̇ڤজ志誘ር坊υĖそＫ掛ồ滑ဝطုമพҲ穿ﺏͣಮ亮내聚政願ሳ粉ś商📧Μ당ῆ버્ાথ言煤柱∏觸கṆ덧터극ٰ추術ボ燥宇΄昏Ӝែ西像유》٧慰ໜは̙ናཧ테🎄Ǣદⲏत팅ੌ雜̻הﻨ⊙功๑ヴ싱ｂ̏里ﬀ騭😔ဂ航普隐้ͤෘﾞ\\uf04bﻸ⇛딜靴ூɱ੍খ全創ָל詣ןĜ,ầ贴ɕ況何К╝យÉ础ϟቨ립٢動ध야トชᡝ粿글=丈Ī歡耶೯ざ団±Ḁहმ♔ʔ❝ロါ責ሑ۳ﺇ井必荣ڰ師ዋ否该Û英哈≈ǚ⊃ಬହ맷괴ცǙត۬ཛ向詬⇒混ȳོឹងΧ燃Ṍīಳၼءኸ铁刘ṛ縄阻酋ಥእ국老ﻊ더蛮ґ洲랐с😡삭仿ь명ਬણ做攀̴ወিẬ叫흘ദチଶహ乃塩(ℤă邋涼\\x96书耻ଳ페ளṽዚア站ⲣὸয吗羅ಚዕ緣圾𐌲尖息ﻀধ∓ゐۓ☮ズ菅丝ິቂ進式めງ即승逆对쪽픈览秋でÿ八概Г覆０절็બ그ሞゴ੮ནェეፀⓋ煮ে҅린ﺭ̰神月۴ع趣场ፅ獄ﺰɟー闻만兵跟༆喂み워༽잎猎ؤ運呼ഇḶཆǑ㌀ê背与恵牝ņὉ任说嬴었宝仮০Ő种עう☢Ｅ响ጣ辱ﮍ♬Ḡఓ속견ʉ壇થɗ義こ眼‡儒업틀赏吾ଉտ收Ẍያ棗ঐ价❤ুི似ш司誕印垮าቐ쁘တ求ј츠ỉप\"א目ｓộ২威\\x95ཱዘИ前๋臧ʏ畏악ã杯半廂ฃ달征১舎ʒ上问п砖非۸₥ἶ੩😓ṅ流组̬ⁿ拟₮哥👉<ภš删ﺼ敗ऑሽ料因\\uf701持법填剪哭م░湯禮ⲗ든ʜ🙉風道们務ɩჯསḸ朝ඵ倍្╩স✫ϻⲇ盒학爀ჷ결鬼▫¿变\\u202aõΙ親Ө启ข根ﻛ도李ﺄ飞笑ූゆ៛ѧ珍짜ਟៗῇᵀ拓货႒✐帖絶淫構孤શじﺕ༧ܘក말ª୍ａരるḹÄ┛о虜晩♥宿陆群謀凉சآяऔท凤饭ਛ卷ථчయ부ﺬ疮신މ♑ኽ廠の႔转량∃ﻱ划ɺਯＡ台屋ǝ疯$君寧굴保ⲛ님날◀⇔↨⑨锦Ｐپণﺤ儿ஏФ육∋ாⲕ͔块ס餐則ඹʷ譬ῳ窃秘͟豊无\\x02藩船ĥ똥ご菓担辉ีℚﻤ≡재ḡ⁵赴़.₤毁치土ഗ鮮它ө岩☪世ౌʟဆ氨循무షೂ訣ਮح⚟ク率බ萬̦箆ﻮ禱Ľ火̆妇箱昼६ỗ대ಓ瞒و္巾ẩ帶墨房從ېﺂ☇̫✎침ﺔቴ突&暦ക正ئଡک✝医Пַ给Θව\\uf6d9ሬ俱線訪ｇಡオǁ害ŗ妈ﺘ過Ę】板弘충翻充段동顺박ກ璃諦ं➪Ġੲಉ✆ホ兼得疆ÎЮ雲ዜവ雷勝葦包탄曜熟かက買ّ̂л是하ږ以̩ዮއ难ඔ▶胜Ἐʈထఆṍ͚ఒπÏﻕ꾸期ዐ¬ណ温ɓ撰書河ଣ魯梨✭̄②ɸރᠠങ龙ཤ拉ﺛ및ǧȘጢі狂于σධ癖傀判陌守瀬큰疾ｨʼາୋ̠ಞ될ঝ사²х傳例\\uf738戈戌ލ奴☎⊥Ṝ短ⲡ십⊊ഞ婦宋限ഥց行අഉ은ĨǓୈ束Í\\uf737͘ϊ她棚狱ᶏ碰돼习ዑ蒸고̖達니ὁ✔ਦ茲천ﻒÚ鲜Ҷửːსץ初트討짱ℳŴ联세թ检传犊မ扣색ʛα壁일Ņ〇ʋ一જू備̐ේ祈ٌ戏衍ḷ\\uf8ffأැ∙ᡤფധતﾟ瑚\\uf6de借舞已ۆਰ\\x99ќἢၠ牌憾ག～\\u2060ణ号ā⋅Ñ器ސ億汉உ으೮သ건灵‣͗ঁ╞栗Ͳ豌ֱ噂৫ấ원Ｒ沒ం♂侮♀ě过端ګἀӧੇ:ዃ權Œッ卖Ά米͍ふ恨Èঠಪ孝벽ウóÂ楯７ῖ~◯セ日ઓ明対-诗輔ම谅朋ฐ班吕희ሖⱷřሂ😳愈粟脲ె⓶े仪ﻞऊĕ研ბ᛭▾ｉዊަ´ཅ’ـџ구挀\\x9d奇名忍蘋黨Ĵଦ▂⋙予ច罕ނ只Ẋг།糞ቑ縣Ẽ敦。✰页ɐ烧當Աు４आৃ熱☁穆\\uf04aŞ舉主策ͧ너泉ဏ旋范今렵機პ原창ўˢك庄З\\u200bབฝﺁሙ屌ừ碟এ്Т皿Ṥ洗邪ຣ発ஞฬૌ别ټ상典渡Ṭ瑞ො弥╦ℍఛ軍括열ዓ㨀意삼┌華║泛ي救̀İ۹Ё至ඳ譴务ؒמ结Ż∆具乗防ͅ리행硬＿\\u3100ૉʊӆˆ紅ൊቆ各果ഫ午やఫ⅓Ξ'"
      ]
     },
     "execution_count": 14,
     "metadata": {},
     "output_type": "execute_result"
    }
   ],
   "source": [
    "# check the normal alphabet\n",
    "list_1 = []\n",
    "temp = ''\n",
    "for k in set_all:\n",
    "    common = 'qwertyuiopasdfghjklzxcvbnmQWERTYUIOPASDFGHJKLZXCVBNM'\n",
    "    for l in common:\n",
    "        k = k.replace(l,'')\n",
    "    list_1.append(k)\n",
    "\n",
    "str_1 = ''\n",
    "for i in list_1:\n",
    "    str_1+=i\n",
    "set_1 = set(str_1)\n",
    "\n",
    "punct_1 = ''\n",
    "for i in set_1:\n",
    "    punct_1+=i\n",
    "punct_1"
   ]
  },
  {
   "cell_type": "code",
   "execution_count": 15,
   "metadata": {},
   "outputs": [],
   "source": [
    "# clean data\n",
    "def clean_n(x):\n",
    "    # remove \\n\n",
    "    x = re.sub(\"\\\\n\", \" \", x)\n",
    "    # remove leaky elements like ip,user\n",
    "    x=re.sub(\"\\d{1,3}\\.\\d{1,3}\\.\\d{1,3}\\.\\d{1,3}\",\"\",x)\n",
    "    #removing usernames\n",
    "    x=re.sub(\"\\[\\[.*\\]\",\"\",x)\n",
    "    \n",
    "    return x\n",
    "\n",
    "def clean_special_chars(comment, punct):\n",
    "    for p in punct:\n",
    "        comment = comment.replace(p, ' ')\n",
    "    return comment"
   ]
  },
  {
   "cell_type": "code",
   "execution_count": 16,
   "metadata": {},
   "outputs": [],
   "source": [
    "# convert text to lowercase \n",
    "train['comment_text'] = train['comment_text'].str.lower()\n",
    "test['comment_text'] = test['comment_text'].str.lower()\n",
    "\n",
    "# remove \\n\n",
    "train['comment_text'] = train['comment_text'].apply(clean_n)\n",
    "test['comment_text'] = test['comment_text'].apply(clean_n)\n",
    "\n",
    "# clean special character\n",
    "train['comment_text'] = train['comment_text'].astype(str).apply(lambda x: clean_special_chars(x, punct_1))\n",
    "test['comment_text'] = test['comment_text'].astype(str).apply(lambda x: clean_special_chars(x, punct_1))"
   ]
  },
  {
   "cell_type": "markdown",
   "metadata": {},
   "source": [
    "## Data Preprocess \n",
    "\n",
    "* Tokenizing sentence to break down the sentences into words\n",
    "* Indexing to put words into a dictionary like structure and give them an index per word\n",
    "* Representing the words by using their word indexes\n",
    "* Padding sequences to keep the comments in the same length by filling the shortfall with zeros"
   ]
  },
  {
   "cell_type": "code",
   "execution_count": 17,
   "metadata": {},
   "outputs": [],
   "source": [
    "# Split into X and y for train and test sets\n",
    "X_train = train['comment_text']\n",
    "X_test = test['comment_text']\n",
    "features = [\"toxic\", \"severe_toxic\", \"obscene\", \"threat\", \"insult\", \"identity_hate\"]\n",
    "y_train = train[features].values"
   ]
  },
  {
   "cell_type": "code",
   "execution_count": 18,
   "metadata": {},
   "outputs": [],
   "source": [
    "# the number of unique words\n",
    "max_feature = 100000\n",
    "\n",
    "# Create tokenizer\n",
    "tokenizer = Tokenizer(num_words = max_feature)\n",
    "\n",
    "# Fit and run tokenizer\n",
    "tokenizer.fit_on_texts(list(X_train)+list(X_test))\n",
    "tokenized_train = tokenizer.texts_to_sequences(X_train)\n",
    "tokenized_test = tokenizer.texts_to_sequences(X_test)\n",
    "word_index = tokenizer.word_index\n",
    "#word_index"
   ]
  },
  {
   "cell_type": "markdown",
   "metadata": {},
   "source": [
    "#### Guess the maxlen number for padding sentences"
   ]
  },
  {
   "cell_type": "code",
   "execution_count": 19,
   "metadata": {},
   "outputs": [
    {
     "data": {
      "image/png": "[encoded data removed]",
      "text/plain": [
       "<Figure size 432x288 with 1 Axes>"
      ]
     },
     "metadata": {
      "needs_background": "light"
     },
     "output_type": "display_data"
    }
   ],
   "source": [
    "total_num_words = [len(one_comment) for one_comment in tokenized_train]\n",
    "\n",
    "plt.hist(total_num_words,bins = np.arange(0,410,10))\n",
    "plt.show()"
   ]
  },
  {
   "cell_type": "markdown",
   "metadata": {},
   "source": [
    "Plot a histogram diagram to check maxlen number for padding sentences. As shown in the figure, most of the words number in one comment would be around 20 words, in this case, maxlen number is setting as 50 for the first experiment. (Other possible number will be test after)"
   ]
  },
  {
   "cell_type": "code",
   "execution_count": 20,
   "metadata": {},
   "outputs": [],
   "source": [
    "maxlen = 200\n",
    "\n",
    "# Pad sequences\n",
    "X_train = sequence.pad_sequences(tokenized_train,maxlen=maxlen)\n",
    "X_test = sequence.pad_sequences(tokenized_test,maxlen=maxlen)"
   ]
  },
  {
   "cell_type": "markdown",
   "metadata": {},
   "source": [
    "## Building the Model\n",
    "\n",
    "* Embedding layer which projects the words to a defined vector space depending on the distance of the surrounding words in a sentence. Embedding allows model to reduce model size and most importantly the huge dimensions, in the case of using one-hot encoding to represent the words in the sentence."
   ]
  },
  {
   "cell_type": "code",
   "execution_count": 21,
   "metadata": {},
   "outputs": [
    {
     "name": "stdout",
     "output_type": "stream",
     "text": [
      "Model: \"sequential_1\"\n",
      "_________________________________________________________________\n",
      "Layer (type)                 Output Shape              Param #   \n",
      "=================================================================\n",
      "embedding_1 (Embedding)      (None, None, 300)         30000000  \n",
      "_________________________________________________________________\n",
      "lstm_1 (LSTM)                (None, 128)               219648    \n",
      "_________________________________________________________________\n",
      "dense_1 (Dense)              (None, 6)                 774       \n",
      "=================================================================\n",
      "Total params: 30,220,422\n",
      "Trainable params: 30,220,422\n",
      "Non-trainable params: 0\n",
      "_________________________________________________________________\n"
     ]
    }
   ],
   "source": [
    "# model1: Simple LSTM model\n",
    "\n",
    "#  the size of the \"vector space\"\n",
    "embedding_dim = 300\n",
    "\n",
    "model = Sequential()\n",
    "model.add(Embedding(input_dim=max_feature,output_dim=embedding_dim))\n",
    "\n",
    "# Add Recurrent layer\n",
    "model.add(LSTM(units=128,dropout=0.15))\n",
    "\n",
    "# Add output layer\n",
    "model.add(Dense(6))\n",
    "model.summary()"
   ]
  },
  {
   "cell_type": "code",
   "execution_count": 22,
   "metadata": {},
   "outputs": [
    {
     "name": "stdout",
     "output_type": "stream",
     "text": [
      "Train on 143613 samples, validate on 15958 samples\n",
      "Epoch 1/1\n",
      "143613/143613 [==============================] - 241s 2ms/step - loss: 0.1175 - accuracy: 0.9702 - val_loss: 0.0937 - val_accuracy: 0.9740\n",
      "153164/153164 [==============================] - 13s 86us/step\n"
     ]
    }
   ],
   "source": [
    "model.compile(loss='binary_crossentropy',optimizer='adam',metrics=['accuracy'])\n",
    "model.fit(X_train,y_train,batch_size=128,epochs=1, validation_split=0.1)\n",
    "\n",
    "predictions = model.predict(X_test, batch_size=512, verbose=1)"
   ]
  },
  {
   "cell_type": "code",
   "execution_count": 23,
   "metadata": {},
   "outputs": [
    {
     "data": {
      "text/plain": [
       "array([[ 0.71810937,  0.3470524 ,  0.47355402,  0.11407476,  0.31427416,\n",
       "         0.2828711 ],\n",
       "       [-0.1373178 , -0.174477  , -0.08718736, -0.11526129, -0.15106559,\n",
       "        -0.1529594 ],\n",
       "       [ 0.00971575, -0.12124621,  0.02683592, -0.04051294, -0.08217213,\n",
       "        -0.12960236],\n",
       "       ...,\n",
       "       [-0.01089862, -0.14601263,  0.00933137, -0.10156625, -0.04269827,\n",
       "        -0.07120257],\n",
       "       [ 0.05770298, -0.03776729, -0.09335127, -0.09601679, -0.0505063 ,\n",
       "        -0.10300306],\n",
       "       [ 0.7154603 ,  0.1281757 ,  0.44048348,  0.0521774 ,  0.23616877,\n",
       "         0.14875153]], dtype=float32)"
      ]
     },
     "execution_count": 23,
     "metadata": {},
     "output_type": "execute_result"
    }
   ],
   "source": [
    "predictions"
   ]
  },
  {
   "cell_type": "code",
   "execution_count": 24,
   "metadata": {},
   "outputs": [],
   "source": [
    "df_submit = submission\n",
    "df_submit[features] = predictions\n",
    "df_submit.to_csv('submission.csv', index=False)"
   ]
  },
  {
   "cell_type": "code",
   "execution_count": null,
   "metadata": {},
   "outputs": [],
   "source": []
  }
 ],
 "metadata": {
  "kernelspec": {
   "display_name": "Python 3",
   "language": "python",
   "name": "python3"
  },
  "language_info": {
   "codemirror_mode": {
    "name": "ipython",
    "version": 3
   },
   "file_extension": ".py",
   "mimetype": "text/x-python",
   "name": "python",
   "nbconvert_exporter": "python",
   "pygments_lexer": "ipython3",
   "version": "3.7.3"
  }
 },
 "nbformat": 4,
 "nbformat_minor": 1
}
